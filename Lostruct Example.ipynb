{
 "cells": [
  {
   "cell_type": "code",
   "execution_count": 1,
   "metadata": {
    "scrolled": false
   },
   "outputs": [],
   "source": [
    "# If installed from pip, import lostruct as ls will work\n",
    "import lostruct.lostruct as ls\n",
    "\n",
    "# PCoA from skbio.stats is the best implementation of R's MDS algorithm\n",
    "from skbio.stats.ordination import pcoa\n",
    "\n",
    "# Much of the output from CyVCF2 and lostruct are numpy arrays\n",
    "import numpy as np\n",
    "\n",
    "import pandas as pd\n",
    "import plotly.express as px\n",
    "from sklearn.manifold import MDS\n",
    "import umap\n",
    "import hdbscan\n",
    "import plotly.io as pio\n",
    "pio.renderers.default = \"notebook_connected\""
   ]
  },
  {
   "cell_type": "code",
   "execution_count": 2,
   "metadata": {},
   "outputs": [
    {
     "data": {
      "text/plain": [
       "['HM017-I', 'HM018', 'HM022-I', 'HM029', 'HM030']"
      ]
     },
     "execution_count": 2,
     "metadata": {},
     "output_type": "execute_result"
    }
   ],
   "source": [
    "# Two VCF utility functions are proivded. get_samples() and get_landmarks()\n",
    "\n",
    "# This will be the same order of the resulting data\n",
    "samples = ls.get_samples(\"chr1-filtered.vcf.gz\")\n",
    "samples[0:5]"
   ]
  },
  {
   "cell_type": "code",
   "execution_count": 3,
   "metadata": {},
   "outputs": [
    {
     "data": {
      "text/plain": [
       "['chl_Mt', 'chr1', 'chr2', 'chr3', 'chr4']"
      ]
     },
     "execution_count": 3,
     "metadata": {},
     "output_type": "execute_result"
    }
   ],
   "source": [
    "# Utility function: Get list of landmarks (chromosome, scaffolds, contigs, etc..)\n",
    "landmarks = ls.get_landmarks(\"chr1-filtered.vcf.gz\")\n",
    "landmarks[0:5]"
   ]
  },
  {
   "cell_type": "code",
   "execution_count": 4,
   "metadata": {},
   "outputs": [
    {
     "name": "stdout",
     "output_type": "stream",
     "text": [
      "Help on function get_samples in module lostruct.lostruct:\n",
      "\n",
      "get_samples(vcf_file)\n",
      "    Get the samples from a VCF/BCF file. This is the order the data will remain in as well.\n",
      "\n"
     ]
    }
   ],
   "source": [
    "# Docstrings are also provided\n",
    "help(ls.get_samples)"
   ]
  },
  {
   "cell_type": "code",
   "execution_count": 5,
   "metadata": {
    "scrolled": false
   },
   "outputs": [],
   "source": [
    "# Parse VCF to get windows and positions of each SNP within each window\n",
    "windows, positions = ls.parse_vcf(\"chr1-filtered.vcf.gz\", \"chr1\", 95, ls.Window.SNP)\n",
    "# ls.Window.SNP specifies window sizes are by SNP count. ls.Window.BP specifies windows are in base pair lengths.\n",
    "\n",
    "# *** ls.Window.BP is not yet implemented, however. ***\n",
    "# Please see: https://github.com/jguhlin/lostruct-py/issues/8\n",
    "\n",
    "# Accumulate output of eigen_windows\n",
    "result = list()\n",
    "for x in windows:\n",
    "    result.append(ls.eigen_windows(x, 10, 1))\n",
    "\n",
    "# Convert to numpy array\n",
    "result = np.vstack(result)\n",
    "\n",
    "# Get PCA distances comparison matrix\n",
    "pc_dists = ls.get_pc_dists(result)\n",
    "\n",
    "# Get PCoA value of pc_dists matrix (this is equivalent to R's MDS)\n",
    "# PLEASE NOTE: See section below: Working with Large Datasets\n",
    "# For recommended ways to run pcoa\n",
    "mds = pcoa(pc_dists)\n"
   ]
  },
  {
   "cell_type": "code",
   "execution_count": 6,
   "metadata": {
    "scrolled": false
   },
   "outputs": [
    {
     "data": {
      "text/html": [
       "        <script type=\"text/javascript\">\n",
       "        window.PlotlyConfig = {MathJaxConfig: 'local'};\n",
       "        if (window.MathJax) {MathJax.Hub.Config({SVG: {font: \"STIX-Web\"}});}\n",
       "        if (typeof require !== 'undefined') {\n",
       "        require.undef(\"plotly\");\n",
       "        requirejs.config({\n",
       "            paths: {\n",
       "                'plotly': ['https://cdn.plot.ly/plotly-latest.min']\n",
       "            }\n",
       "        });\n",
       "        require(['plotly'], function(Plotly) {\n",
       "            window._Plotly = Plotly;\n",
       "        });\n",
       "        }\n",
       "        </script>\n",
       "        "
      ]
     },
     "metadata": {},
     "output_type": "display_data"
    },
    {
     "data": {
      "text/html": [
       "<div>\n",
       "        \n",
       "        \n",
       "            <div id=\"2906ed56-2385-4182-a713-f13ff088fe42\" class=\"plotly-graph-div\" style=\"height:525px; width:100%;\"></div>\n",
       "            <script type=\"text/javascript\">\n",
       "                require([\"plotly\"], function(Plotly) {\n",
       "                    window.PLOTLYENV=window.PLOTLYENV || {};\n",
       "                    \n",
       "                if (document.getElementById(\"2906ed56-2385-4182-a713-f13ff088fe42\")) {\n",
       "                    Plotly.newPlot(\n",
       "                        '2906ed56-2385-4182-a713-f13ff088fe42',\n",
       "                        [{\"hovertemplate\": \"x=%{x}<br>y=%{y}<extra></extra>\", \"legendgroup\": \"\", \"marker\": {\"color\": \"#636efa\", \"symbol\": \"circle\"}, \"mode\": \"markers\", \"name\": \"\", \"orientation\": \"v\", \"showlegend\": false, \"type\": \"scatter\", \"x\": [0, 1, 2, 3, 4, 5, 6, 7, 8, 9, 10, 11, 12, 13, 14, 15, 16, 17, 18, 19, 20, 21, 22, 23, 24, 25, 26, 27, 28, 29, 30, 31, 32, 33, 34, 35, 36, 37, 38, 39, 40, 41, 42, 43, 44, 45, 46, 47, 48, 49, 50, 51, 52, 53, 54, 55, 56, 57, 58, 59, 60, 61, 62, 63, 64, 65, 66, 67, 68, 69, 70, 71, 72, 73, 74, 75, 76, 77, 78, 79, 80, 81, 82, 83, 84, 85, 86, 87, 88, 89, 90, 91, 92, 93, 94, 95, 96, 97, 98, 99, 100, 101, 102, 103, 104, 105, 106, 107, 108, 109, 110, 111, 112, 113, 114, 115, 116, 117, 118, 119, 120, 121, 122, 123], \"xaxis\": \"x\", \"y\": [0.10377412705026494, 0.06378534684334419, 0.004634708472433838, -0.006604226660277983, 0.03092699580940787, -0.053004888530012055, -0.01961387252654016, 0.1062449305385118, -0.04421725548474015, 0.05229072679370823, -0.10841669600846561, -0.013907932476763049, 0.044800955713406455, 0.07060438210554897, 0.023263456482035007, -0.008894986169196957, -0.046440310786575366, 0.075715543313006, 0.03338372318582564, -0.0059398831635959545, 0.09236097713881794, 0.05299537507692377, -0.0676186145635309, 0.009827085417305268, 0.07309555712859095, 0.061694500094865566, 0.019680320227674446, -0.14268678505883525, 0.02459852904179701, -0.02106627440295351, -0.06056473245050326, -0.005767446346490674, -0.03887063024335033, -0.2610939446805273, -0.010594321622046458, -0.09460636049314841, -0.05200646812562341, -0.019382531395131308, 0.015065489148648551, -0.04522847887027642, -0.020081624349488736, -0.07960412803552022, -0.09255367003780392, 0.02245390266454504, -0.08007148818086803, -0.05934645154615969, -0.06251152978418716, 0.052630978062868476, -0.10997772031515449, 0.050677169788673385, -0.007186510485171515, -0.04452038492327505, -0.0021682872869530404, 0.047099090270778445, 0.018907103267700898, 0.0137680428198488, -0.10505075792266046, -0.011130041911062693, 0.030097328303076577, -0.1027357948759866, 0.0009042030613224104, -0.0747027137385731, -0.058258753151454755, 0.006301286534695774, 0.0050010220895507895, 0.012217665625543562, 0.01793587373792648, -0.01632067550529334, -0.002387046811816341, -0.09542259054498592, 0.0520343430123313, 0.0775007570393835, 0.054009572347228446, 0.01441492707425224, -0.015405267334347874, 0.01599569476085032, 0.1065100392577379, -0.09577185765515925, 0.02038172577781719, -0.08785165919142851, 0.031940592021689904, 0.034633652052680576, -0.0498521850363658, -0.03621421102902754, -0.010631637120114229, 0.009690020519771535, 0.010927891235255949, 0.07858578555614938, 0.06472935380598908, 0.00034903228466451363, 0.04015519971643698, -0.04350458628711672, 0.06945762648404903, 0.09193234029724144, -0.017880145456139952, 0.04879924221314344, 0.027694974276087168, -0.038841874184130744, -0.07676394293711185, -0.0969503547193581, 0.021399534518823062, 0.023419053228610147, -0.07707983337376874, 0.03893248772074502, 0.08771763655629333, 0.06484369341865819, 0.08781803796072607, -0.12001554594247682, 0.00015901152432629695, 0.059534805844489926, 0.10949035913209652, 0.056961580101493575, -0.08151558011678185, -0.005462269397856639, 0.054463119401677196, 0.02048349461246029, 0.08736308202928686, -0.002715215271063458, 0.0553367494987367, 0.021116201215395064, -0.028546753530032963, 0.044223588701730765, 0.037051108210558396, 0.07876701882977014], \"yaxis\": \"y\"}],\n",
       "                        {\"legend\": {\"tracegroupgap\": 0}, \"template\": {\"data\": {\"bar\": [{\"error_x\": {\"color\": \"#2a3f5f\"}, \"error_y\": {\"color\": \"#2a3f5f\"}, \"marker\": {\"line\": {\"color\": \"#E5ECF6\", \"width\": 0.5}}, \"type\": \"bar\"}], \"barpolar\": [{\"marker\": {\"line\": {\"color\": \"#E5ECF6\", \"width\": 0.5}}, \"type\": \"barpolar\"}], \"carpet\": [{\"aaxis\": {\"endlinecolor\": \"#2a3f5f\", \"gridcolor\": \"white\", \"linecolor\": \"white\", \"minorgridcolor\": \"white\", \"startlinecolor\": \"#2a3f5f\"}, \"baxis\": {\"endlinecolor\": \"#2a3f5f\", \"gridcolor\": \"white\", \"linecolor\": \"white\", \"minorgridcolor\": \"white\", \"startlinecolor\": \"#2a3f5f\"}, \"type\": \"carpet\"}], \"choropleth\": [{\"colorbar\": {\"outlinewidth\": 0, \"ticks\": \"\"}, \"type\": \"choropleth\"}], \"contour\": [{\"colorbar\": {\"outlinewidth\": 0, \"ticks\": \"\"}, \"colorscale\": [[0.0, \"#0d0887\"], [0.1111111111111111, \"#46039f\"], [0.2222222222222222, \"#7201a8\"], [0.3333333333333333, \"#9c179e\"], [0.4444444444444444, \"#bd3786\"], [0.5555555555555556, \"#d8576b\"], [0.6666666666666666, \"#ed7953\"], [0.7777777777777778, \"#fb9f3a\"], [0.8888888888888888, \"#fdca26\"], [1.0, \"#f0f921\"]], \"type\": \"contour\"}], \"contourcarpet\": [{\"colorbar\": {\"outlinewidth\": 0, \"ticks\": \"\"}, \"type\": \"contourcarpet\"}], \"heatmap\": [{\"colorbar\": {\"outlinewidth\": 0, \"ticks\": \"\"}, \"colorscale\": [[0.0, \"#0d0887\"], [0.1111111111111111, \"#46039f\"], [0.2222222222222222, \"#7201a8\"], [0.3333333333333333, \"#9c179e\"], [0.4444444444444444, \"#bd3786\"], [0.5555555555555556, \"#d8576b\"], [0.6666666666666666, \"#ed7953\"], [0.7777777777777778, \"#fb9f3a\"], [0.8888888888888888, \"#fdca26\"], [1.0, \"#f0f921\"]], \"type\": \"heatmap\"}], \"heatmapgl\": [{\"colorbar\": {\"outlinewidth\": 0, \"ticks\": \"\"}, \"colorscale\": [[0.0, \"#0d0887\"], [0.1111111111111111, \"#46039f\"], [0.2222222222222222, \"#7201a8\"], [0.3333333333333333, \"#9c179e\"], [0.4444444444444444, \"#bd3786\"], [0.5555555555555556, \"#d8576b\"], [0.6666666666666666, \"#ed7953\"], [0.7777777777777778, \"#fb9f3a\"], [0.8888888888888888, \"#fdca26\"], [1.0, \"#f0f921\"]], \"type\": \"heatmapgl\"}], \"histogram\": [{\"marker\": {\"colorbar\": {\"outlinewidth\": 0, \"ticks\": \"\"}}, \"type\": \"histogram\"}], \"histogram2d\": [{\"colorbar\": {\"outlinewidth\": 0, \"ticks\": \"\"}, \"colorscale\": [[0.0, \"#0d0887\"], [0.1111111111111111, \"#46039f\"], [0.2222222222222222, \"#7201a8\"], [0.3333333333333333, \"#9c179e\"], [0.4444444444444444, \"#bd3786\"], [0.5555555555555556, \"#d8576b\"], [0.6666666666666666, \"#ed7953\"], [0.7777777777777778, \"#fb9f3a\"], [0.8888888888888888, \"#fdca26\"], [1.0, \"#f0f921\"]], \"type\": \"histogram2d\"}], \"histogram2dcontour\": [{\"colorbar\": {\"outlinewidth\": 0, \"ticks\": \"\"}, \"colorscale\": [[0.0, \"#0d0887\"], [0.1111111111111111, \"#46039f\"], [0.2222222222222222, \"#7201a8\"], [0.3333333333333333, \"#9c179e\"], [0.4444444444444444, \"#bd3786\"], [0.5555555555555556, \"#d8576b\"], [0.6666666666666666, \"#ed7953\"], [0.7777777777777778, \"#fb9f3a\"], [0.8888888888888888, \"#fdca26\"], [1.0, \"#f0f921\"]], \"type\": \"histogram2dcontour\"}], \"mesh3d\": [{\"colorbar\": {\"outlinewidth\": 0, \"ticks\": \"\"}, \"type\": \"mesh3d\"}], \"parcoords\": [{\"line\": {\"colorbar\": {\"outlinewidth\": 0, \"ticks\": \"\"}}, \"type\": \"parcoords\"}], \"pie\": [{\"automargin\": true, \"type\": \"pie\"}], \"scatter\": [{\"marker\": {\"colorbar\": {\"outlinewidth\": 0, \"ticks\": \"\"}}, \"type\": \"scatter\"}], \"scatter3d\": [{\"line\": {\"colorbar\": {\"outlinewidth\": 0, \"ticks\": \"\"}}, \"marker\": {\"colorbar\": {\"outlinewidth\": 0, \"ticks\": \"\"}}, \"type\": \"scatter3d\"}], \"scattercarpet\": [{\"marker\": {\"colorbar\": {\"outlinewidth\": 0, \"ticks\": \"\"}}, \"type\": \"scattercarpet\"}], \"scattergeo\": [{\"marker\": {\"colorbar\": {\"outlinewidth\": 0, \"ticks\": \"\"}}, \"type\": \"scattergeo\"}], \"scattergl\": [{\"marker\": {\"colorbar\": {\"outlinewidth\": 0, \"ticks\": \"\"}}, \"type\": \"scattergl\"}], \"scattermapbox\": [{\"marker\": {\"colorbar\": {\"outlinewidth\": 0, \"ticks\": \"\"}}, \"type\": \"scattermapbox\"}], \"scatterpolar\": [{\"marker\": {\"colorbar\": {\"outlinewidth\": 0, \"ticks\": \"\"}}, \"type\": \"scatterpolar\"}], \"scatterpolargl\": [{\"marker\": {\"colorbar\": {\"outlinewidth\": 0, \"ticks\": \"\"}}, \"type\": \"scatterpolargl\"}], \"scatterternary\": [{\"marker\": {\"colorbar\": {\"outlinewidth\": 0, \"ticks\": \"\"}}, \"type\": \"scatterternary\"}], \"surface\": [{\"colorbar\": {\"outlinewidth\": 0, \"ticks\": \"\"}, \"colorscale\": [[0.0, \"#0d0887\"], [0.1111111111111111, \"#46039f\"], [0.2222222222222222, \"#7201a8\"], [0.3333333333333333, \"#9c179e\"], [0.4444444444444444, \"#bd3786\"], [0.5555555555555556, \"#d8576b\"], [0.6666666666666666, \"#ed7953\"], [0.7777777777777778, \"#fb9f3a\"], [0.8888888888888888, \"#fdca26\"], [1.0, \"#f0f921\"]], \"type\": \"surface\"}], \"table\": [{\"cells\": {\"fill\": {\"color\": \"#EBF0F8\"}, \"line\": {\"color\": \"white\"}}, \"header\": {\"fill\": {\"color\": \"#C8D4E3\"}, \"line\": {\"color\": \"white\"}}, \"type\": \"table\"}]}, \"layout\": {\"annotationdefaults\": {\"arrowcolor\": \"#2a3f5f\", \"arrowhead\": 0, \"arrowwidth\": 1}, \"coloraxis\": {\"colorbar\": {\"outlinewidth\": 0, \"ticks\": \"\"}}, \"colorscale\": {\"diverging\": [[0, \"#8e0152\"], [0.1, \"#c51b7d\"], [0.2, \"#de77ae\"], [0.3, \"#f1b6da\"], [0.4, \"#fde0ef\"], [0.5, \"#f7f7f7\"], [0.6, \"#e6f5d0\"], [0.7, \"#b8e186\"], [0.8, \"#7fbc41\"], [0.9, \"#4d9221\"], [1, \"#276419\"]], \"sequential\": [[0.0, \"#0d0887\"], [0.1111111111111111, \"#46039f\"], [0.2222222222222222, \"#7201a8\"], [0.3333333333333333, \"#9c179e\"], [0.4444444444444444, \"#bd3786\"], [0.5555555555555556, \"#d8576b\"], [0.6666666666666666, \"#ed7953\"], [0.7777777777777778, \"#fb9f3a\"], [0.8888888888888888, \"#fdca26\"], [1.0, \"#f0f921\"]], \"sequentialminus\": [[0.0, \"#0d0887\"], [0.1111111111111111, \"#46039f\"], [0.2222222222222222, \"#7201a8\"], [0.3333333333333333, \"#9c179e\"], [0.4444444444444444, \"#bd3786\"], [0.5555555555555556, \"#d8576b\"], [0.6666666666666666, \"#ed7953\"], [0.7777777777777778, \"#fb9f3a\"], [0.8888888888888888, \"#fdca26\"], [1.0, \"#f0f921\"]]}, \"colorway\": [\"#636efa\", \"#EF553B\", \"#00cc96\", \"#ab63fa\", \"#FFA15A\", \"#19d3f3\", \"#FF6692\", \"#B6E880\", \"#FF97FF\", \"#FECB52\"], \"font\": {\"color\": \"#2a3f5f\"}, \"geo\": {\"bgcolor\": \"white\", \"lakecolor\": \"white\", \"landcolor\": \"#E5ECF6\", \"showlakes\": true, \"showland\": true, \"subunitcolor\": \"white\"}, \"hoverlabel\": {\"align\": \"left\"}, \"hovermode\": \"closest\", \"mapbox\": {\"style\": \"light\"}, \"paper_bgcolor\": \"white\", \"plot_bgcolor\": \"#E5ECF6\", \"polar\": {\"angularaxis\": {\"gridcolor\": \"white\", \"linecolor\": \"white\", \"ticks\": \"\"}, \"bgcolor\": \"#E5ECF6\", \"radialaxis\": {\"gridcolor\": \"white\", \"linecolor\": \"white\", \"ticks\": \"\"}}, \"scene\": {\"xaxis\": {\"backgroundcolor\": \"#E5ECF6\", \"gridcolor\": \"white\", \"gridwidth\": 2, \"linecolor\": \"white\", \"showbackground\": true, \"ticks\": \"\", \"zerolinecolor\": \"white\"}, \"yaxis\": {\"backgroundcolor\": \"#E5ECF6\", \"gridcolor\": \"white\", \"gridwidth\": 2, \"linecolor\": \"white\", \"showbackground\": true, \"ticks\": \"\", \"zerolinecolor\": \"white\"}, \"zaxis\": {\"backgroundcolor\": \"#E5ECF6\", \"gridcolor\": \"white\", \"gridwidth\": 2, \"linecolor\": \"white\", \"showbackground\": true, \"ticks\": \"\", \"zerolinecolor\": \"white\"}}, \"shapedefaults\": {\"line\": {\"color\": \"#2a3f5f\"}}, \"ternary\": {\"aaxis\": {\"gridcolor\": \"white\", \"linecolor\": \"white\", \"ticks\": \"\"}, \"baxis\": {\"gridcolor\": \"white\", \"linecolor\": \"white\", \"ticks\": \"\"}, \"bgcolor\": \"#E5ECF6\", \"caxis\": {\"gridcolor\": \"white\", \"linecolor\": \"white\", \"ticks\": \"\"}}, \"title\": {\"x\": 0.05}, \"xaxis\": {\"automargin\": true, \"gridcolor\": \"white\", \"linecolor\": \"white\", \"ticks\": \"\", \"title\": {\"standoff\": 15}, \"zerolinecolor\": \"white\", \"zerolinewidth\": 2}, \"yaxis\": {\"automargin\": true, \"gridcolor\": \"white\", \"linecolor\": \"white\", \"ticks\": \"\", \"title\": {\"standoff\": 15}, \"zerolinecolor\": \"white\", \"zerolinewidth\": 2}}}, \"title\": {\"text\": \"MDS Coordinate 1 (y-axis) compared to Window (x-axis)\"}, \"xaxis\": {\"anchor\": \"y\", \"domain\": [0.0, 1.0], \"title\": {\"text\": \"x\"}}, \"yaxis\": {\"anchor\": \"x\", \"domain\": [0.0, 1.0], \"title\": {\"text\": \"y\"}}},\n",
       "                        {\"responsive\": true}\n",
       "                    ).then(function(){\n",
       "                            \n",
       "var gd = document.getElementById('2906ed56-2385-4182-a713-f13ff088fe42');\n",
       "var x = new MutationObserver(function (mutations, observer) {{\n",
       "        var display = window.getComputedStyle(gd).display;\n",
       "        if (!display || display === 'none') {{\n",
       "            console.log([gd, 'removed!']);\n",
       "            Plotly.purge(gd);\n",
       "            observer.disconnect();\n",
       "        }}\n",
       "}});\n",
       "\n",
       "// Listen for the removal of the full notebook cells\n",
       "var notebookContainer = gd.closest('#notebook-container');\n",
       "if (notebookContainer) {{\n",
       "    x.observe(notebookContainer, {childList: true});\n",
       "}}\n",
       "\n",
       "// Listen for the clearing of the current output cell\n",
       "var outputEl = gd.closest('.output');\n",
       "if (outputEl) {{\n",
       "    x.observe(outputEl, {childList: true});\n",
       "}}\n",
       "\n",
       "                        })\n",
       "                };\n",
       "                });\n",
       "            </script>\n",
       "        </div>"
      ]
     },
     "metadata": {},
     "output_type": "display_data"
    }
   ],
   "source": [
    "px.scatter(y=mds.samples[\"PC1\"], title=\"MDS Coordinate 1 (y-axis) compared to Window (x-axis)\")"
   ]
  },
  {
   "cell_type": "code",
   "execution_count": 7,
   "metadata": {
    "scrolled": false
   },
   "outputs": [
    {
     "data": {
      "text/html": [
       "<div>\n",
       "        \n",
       "        \n",
       "            <div id=\"6b6fc4ff-85d0-4f73-a5d4-fed24ad114b2\" class=\"plotly-graph-div\" style=\"height:525px; width:100%;\"></div>\n",
       "            <script type=\"text/javascript\">\n",
       "                require([\"plotly\"], function(Plotly) {\n",
       "                    window.PLOTLYENV=window.PLOTLYENV || {};\n",
       "                    \n",
       "                if (document.getElementById(\"6b6fc4ff-85d0-4f73-a5d4-fed24ad114b2\")) {\n",
       "                    Plotly.newPlot(\n",
       "                        '6b6fc4ff-85d0-4f73-a5d4-fed24ad114b2',\n",
       "                        [{\"hovertemplate\": \"x=%{x}<br>y=%{y}<extra></extra>\", \"legendgroup\": \"\", \"marker\": {\"color\": \"#636efa\", \"symbol\": \"circle\"}, \"mode\": \"markers\", \"name\": \"\", \"orientation\": \"v\", \"showlegend\": false, \"type\": \"scatter\", \"x\": [0, 1, 2, 3, 4, 5, 6, 7, 8, 9, 10, 11, 12, 13, 14, 15, 16, 17, 18, 19, 20, 21, 22, 23, 24, 25, 26, 27, 28, 29, 30, 31, 32, 33, 34, 35, 36, 37, 38, 39, 40, 41, 42, 43, 44, 45, 46, 47, 48, 49, 50, 51, 52, 53, 54, 55, 56, 57, 58, 59, 60, 61, 62, 63, 64, 65, 66, 67, 68, 69, 70, 71, 72, 73, 74, 75, 76, 77, 78, 79, 80, 81, 82, 83, 84, 85, 86, 87, 88, 89, 90, 91, 92, 93, 94, 95, 96, 97, 98, 99, 100, 101, 102, 103, 104, 105, 106, 107, 108, 109, 110, 111, 112, 113, 114, 115, 116, 117, 118, 119, 120, 121, 122, 123], \"xaxis\": \"x\", \"y\": [-0.026028174858899394, 0.07511959673044533, -0.0422480417508122, 0.046427010671121476, -0.020411129310364668, 0.07090448236399641, 0.1236825924813866, 0.09157674909580907, -0.06941790290271412, -0.01843983379449545, -0.011391096780479087, 0.06236049209273974, 0.07324085845175433, 0.06638664559798646, -0.0005293511353308679, 0.02666843876504497, 0.06195237414871667, -0.00029419802879968705, -0.0027539714993880192, 0.14951280080244123, 0.005573191052245323, 0.037138668469031064, -0.0031701847204712937, -0.05216247636154392, 0.023012258833331255, -0.018420823934226456, 0.09344988795581065, 0.042947585009228725, 0.11806637370927715, -0.12096854223599231, 0.06074366035454205, -0.014140551715209414, 0.11690216853458747, -0.045441195492433896, -0.05865426850841323, -0.09820357059796171, 0.028406466264448236, 0.02537689532079628, -0.022877955001848284, 0.05206114723735585, -0.0511032527127033, 0.07318765937074229, -0.10901764865536853, 0.04529377045711296, -0.037136694622210496, -0.04384454091181241, 0.04079056512037474, -0.046160253221885765, -0.008935776585855147, -0.05518015615275715, 0.043106720523192345, -0.0695178069590611, 0.013715116346575735, 0.014069439580777525, -0.013092612098255638, 0.12157590966459628, -0.006497576770785102, -0.0007583260700769438, -0.08829861377492843, 0.007705489432612474, -0.035526970678389766, -0.0828648736721566, -0.08663706580221711, 0.022149988950357417, -0.03529989231983273, 0.06230719180982011, 0.022180579325115003, -0.025049679616031276, 0.03256590110478594, 0.09932255088063746, -0.04457754959232314, -0.057718951585283534, 0.04039837338172561, -0.020912124954571256, -0.04150876927419275, 0.09868384612369012, -0.10637609635345625, -0.028376889420198354, -0.04389392674053226, -0.020630042714095617, -0.004001931353005761, -0.059617672202444565, -0.0019481134500841622, -0.02035862405736492, 0.03645395630180259, -0.01589782075682479, 0.019213993924867282, -0.052051945877595346, -0.05054688767039566, -0.003536074992551992, 0.007728086951721891, -0.032201514942458036, -0.05915274636228275, 0.015014700313168188, 0.0034051042821530153, -0.07771794377788861, -0.005579382734376141, 0.0025002203798046604, -0.08227899822526166, 0.07243749500184564, -0.04050185761133991, -0.004611059165049976, -0.00463750066964887, -0.019554698484300855, -0.02920811079821887, 0.021434032508025357, -0.05625257271106688, 0.013542586046501947, 0.04586302763241178, 0.10744313551908806, 0.034850274476099695, 0.07587499191796704, 0.09629275532337098, -0.08189601395727117, -0.042999244717473524, -0.051527959184806515, -0.01839009042511958, -0.00924426610008976, 0.02103372096604532, -0.01968839172070065, -0.04712498113594252, -0.024100013699093877, -0.05019978911713363, -0.012355961770927059], \"yaxis\": \"y\"}],\n",
       "                        {\"legend\": {\"tracegroupgap\": 0}, \"template\": {\"data\": {\"bar\": [{\"error_x\": {\"color\": \"#2a3f5f\"}, \"error_y\": {\"color\": \"#2a3f5f\"}, \"marker\": {\"line\": {\"color\": \"#E5ECF6\", \"width\": 0.5}}, \"type\": \"bar\"}], \"barpolar\": [{\"marker\": {\"line\": {\"color\": \"#E5ECF6\", \"width\": 0.5}}, \"type\": \"barpolar\"}], \"carpet\": [{\"aaxis\": {\"endlinecolor\": \"#2a3f5f\", \"gridcolor\": \"white\", \"linecolor\": \"white\", \"minorgridcolor\": \"white\", \"startlinecolor\": \"#2a3f5f\"}, \"baxis\": {\"endlinecolor\": \"#2a3f5f\", \"gridcolor\": \"white\", \"linecolor\": \"white\", \"minorgridcolor\": \"white\", \"startlinecolor\": \"#2a3f5f\"}, \"type\": \"carpet\"}], \"choropleth\": [{\"colorbar\": {\"outlinewidth\": 0, \"ticks\": \"\"}, \"type\": \"choropleth\"}], \"contour\": [{\"colorbar\": {\"outlinewidth\": 0, \"ticks\": \"\"}, \"colorscale\": [[0.0, \"#0d0887\"], [0.1111111111111111, \"#46039f\"], [0.2222222222222222, \"#7201a8\"], [0.3333333333333333, \"#9c179e\"], [0.4444444444444444, \"#bd3786\"], [0.5555555555555556, \"#d8576b\"], [0.6666666666666666, \"#ed7953\"], [0.7777777777777778, \"#fb9f3a\"], [0.8888888888888888, \"#fdca26\"], [1.0, \"#f0f921\"]], \"type\": \"contour\"}], \"contourcarpet\": [{\"colorbar\": {\"outlinewidth\": 0, \"ticks\": \"\"}, \"type\": \"contourcarpet\"}], \"heatmap\": [{\"colorbar\": {\"outlinewidth\": 0, \"ticks\": \"\"}, \"colorscale\": [[0.0, \"#0d0887\"], [0.1111111111111111, \"#46039f\"], [0.2222222222222222, \"#7201a8\"], [0.3333333333333333, \"#9c179e\"], [0.4444444444444444, \"#bd3786\"], [0.5555555555555556, \"#d8576b\"], [0.6666666666666666, \"#ed7953\"], [0.7777777777777778, \"#fb9f3a\"], [0.8888888888888888, \"#fdca26\"], [1.0, \"#f0f921\"]], \"type\": \"heatmap\"}], \"heatmapgl\": [{\"colorbar\": {\"outlinewidth\": 0, \"ticks\": \"\"}, \"colorscale\": [[0.0, \"#0d0887\"], [0.1111111111111111, \"#46039f\"], [0.2222222222222222, \"#7201a8\"], [0.3333333333333333, \"#9c179e\"], [0.4444444444444444, \"#bd3786\"], [0.5555555555555556, \"#d8576b\"], [0.6666666666666666, \"#ed7953\"], [0.7777777777777778, \"#fb9f3a\"], [0.8888888888888888, \"#fdca26\"], [1.0, \"#f0f921\"]], \"type\": \"heatmapgl\"}], \"histogram\": [{\"marker\": {\"colorbar\": {\"outlinewidth\": 0, \"ticks\": \"\"}}, \"type\": \"histogram\"}], \"histogram2d\": [{\"colorbar\": {\"outlinewidth\": 0, \"ticks\": \"\"}, \"colorscale\": [[0.0, \"#0d0887\"], [0.1111111111111111, \"#46039f\"], [0.2222222222222222, \"#7201a8\"], [0.3333333333333333, \"#9c179e\"], [0.4444444444444444, \"#bd3786\"], [0.5555555555555556, \"#d8576b\"], [0.6666666666666666, \"#ed7953\"], [0.7777777777777778, \"#fb9f3a\"], [0.8888888888888888, \"#fdca26\"], [1.0, \"#f0f921\"]], \"type\": \"histogram2d\"}], \"histogram2dcontour\": [{\"colorbar\": {\"outlinewidth\": 0, \"ticks\": \"\"}, \"colorscale\": [[0.0, \"#0d0887\"], [0.1111111111111111, \"#46039f\"], [0.2222222222222222, \"#7201a8\"], [0.3333333333333333, \"#9c179e\"], [0.4444444444444444, \"#bd3786\"], [0.5555555555555556, \"#d8576b\"], [0.6666666666666666, \"#ed7953\"], [0.7777777777777778, \"#fb9f3a\"], [0.8888888888888888, \"#fdca26\"], [1.0, \"#f0f921\"]], \"type\": \"histogram2dcontour\"}], \"mesh3d\": [{\"colorbar\": {\"outlinewidth\": 0, \"ticks\": \"\"}, \"type\": \"mesh3d\"}], \"parcoords\": [{\"line\": {\"colorbar\": {\"outlinewidth\": 0, \"ticks\": \"\"}}, \"type\": \"parcoords\"}], \"pie\": [{\"automargin\": true, \"type\": \"pie\"}], \"scatter\": [{\"marker\": {\"colorbar\": {\"outlinewidth\": 0, \"ticks\": \"\"}}, \"type\": \"scatter\"}], \"scatter3d\": [{\"line\": {\"colorbar\": {\"outlinewidth\": 0, \"ticks\": \"\"}}, \"marker\": {\"colorbar\": {\"outlinewidth\": 0, \"ticks\": \"\"}}, \"type\": \"scatter3d\"}], \"scattercarpet\": [{\"marker\": {\"colorbar\": {\"outlinewidth\": 0, \"ticks\": \"\"}}, \"type\": \"scattercarpet\"}], \"scattergeo\": [{\"marker\": {\"colorbar\": {\"outlinewidth\": 0, \"ticks\": \"\"}}, \"type\": \"scattergeo\"}], \"scattergl\": [{\"marker\": {\"colorbar\": {\"outlinewidth\": 0, \"ticks\": \"\"}}, \"type\": \"scattergl\"}], \"scattermapbox\": [{\"marker\": {\"colorbar\": {\"outlinewidth\": 0, \"ticks\": \"\"}}, \"type\": \"scattermapbox\"}], \"scatterpolar\": [{\"marker\": {\"colorbar\": {\"outlinewidth\": 0, \"ticks\": \"\"}}, \"type\": \"scatterpolar\"}], \"scatterpolargl\": [{\"marker\": {\"colorbar\": {\"outlinewidth\": 0, \"ticks\": \"\"}}, \"type\": \"scatterpolargl\"}], \"scatterternary\": [{\"marker\": {\"colorbar\": {\"outlinewidth\": 0, \"ticks\": \"\"}}, \"type\": \"scatterternary\"}], \"surface\": [{\"colorbar\": {\"outlinewidth\": 0, \"ticks\": \"\"}, \"colorscale\": [[0.0, \"#0d0887\"], [0.1111111111111111, \"#46039f\"], [0.2222222222222222, \"#7201a8\"], [0.3333333333333333, \"#9c179e\"], [0.4444444444444444, \"#bd3786\"], [0.5555555555555556, \"#d8576b\"], [0.6666666666666666, \"#ed7953\"], [0.7777777777777778, \"#fb9f3a\"], [0.8888888888888888, \"#fdca26\"], [1.0, \"#f0f921\"]], \"type\": \"surface\"}], \"table\": [{\"cells\": {\"fill\": {\"color\": \"#EBF0F8\"}, \"line\": {\"color\": \"white\"}}, \"header\": {\"fill\": {\"color\": \"#C8D4E3\"}, \"line\": {\"color\": \"white\"}}, \"type\": \"table\"}]}, \"layout\": {\"annotationdefaults\": {\"arrowcolor\": \"#2a3f5f\", \"arrowhead\": 0, \"arrowwidth\": 1}, \"coloraxis\": {\"colorbar\": {\"outlinewidth\": 0, \"ticks\": \"\"}}, \"colorscale\": {\"diverging\": [[0, \"#8e0152\"], [0.1, \"#c51b7d\"], [0.2, \"#de77ae\"], [0.3, \"#f1b6da\"], [0.4, \"#fde0ef\"], [0.5, \"#f7f7f7\"], [0.6, \"#e6f5d0\"], [0.7, \"#b8e186\"], [0.8, \"#7fbc41\"], [0.9, \"#4d9221\"], [1, \"#276419\"]], \"sequential\": [[0.0, \"#0d0887\"], [0.1111111111111111, \"#46039f\"], [0.2222222222222222, \"#7201a8\"], [0.3333333333333333, \"#9c179e\"], [0.4444444444444444, \"#bd3786\"], [0.5555555555555556, \"#d8576b\"], [0.6666666666666666, \"#ed7953\"], [0.7777777777777778, \"#fb9f3a\"], [0.8888888888888888, \"#fdca26\"], [1.0, \"#f0f921\"]], \"sequentialminus\": [[0.0, \"#0d0887\"], [0.1111111111111111, \"#46039f\"], [0.2222222222222222, \"#7201a8\"], [0.3333333333333333, \"#9c179e\"], [0.4444444444444444, \"#bd3786\"], [0.5555555555555556, \"#d8576b\"], [0.6666666666666666, \"#ed7953\"], [0.7777777777777778, \"#fb9f3a\"], [0.8888888888888888, \"#fdca26\"], [1.0, \"#f0f921\"]]}, \"colorway\": [\"#636efa\", \"#EF553B\", \"#00cc96\", \"#ab63fa\", \"#FFA15A\", \"#19d3f3\", \"#FF6692\", \"#B6E880\", \"#FF97FF\", \"#FECB52\"], \"font\": {\"color\": \"#2a3f5f\"}, \"geo\": {\"bgcolor\": \"white\", \"lakecolor\": \"white\", \"landcolor\": \"#E5ECF6\", \"showlakes\": true, \"showland\": true, \"subunitcolor\": \"white\"}, \"hoverlabel\": {\"align\": \"left\"}, \"hovermode\": \"closest\", \"mapbox\": {\"style\": \"light\"}, \"paper_bgcolor\": \"white\", \"plot_bgcolor\": \"#E5ECF6\", \"polar\": {\"angularaxis\": {\"gridcolor\": \"white\", \"linecolor\": \"white\", \"ticks\": \"\"}, \"bgcolor\": \"#E5ECF6\", \"radialaxis\": {\"gridcolor\": \"white\", \"linecolor\": \"white\", \"ticks\": \"\"}}, \"scene\": {\"xaxis\": {\"backgroundcolor\": \"#E5ECF6\", \"gridcolor\": \"white\", \"gridwidth\": 2, \"linecolor\": \"white\", \"showbackground\": true, \"ticks\": \"\", \"zerolinecolor\": \"white\"}, \"yaxis\": {\"backgroundcolor\": \"#E5ECF6\", \"gridcolor\": \"white\", \"gridwidth\": 2, \"linecolor\": \"white\", \"showbackground\": true, \"ticks\": \"\", \"zerolinecolor\": \"white\"}, \"zaxis\": {\"backgroundcolor\": \"#E5ECF6\", \"gridcolor\": \"white\", \"gridwidth\": 2, \"linecolor\": \"white\", \"showbackground\": true, \"ticks\": \"\", \"zerolinecolor\": \"white\"}}, \"shapedefaults\": {\"line\": {\"color\": \"#2a3f5f\"}}, \"ternary\": {\"aaxis\": {\"gridcolor\": \"white\", \"linecolor\": \"white\", \"ticks\": \"\"}, \"baxis\": {\"gridcolor\": \"white\", \"linecolor\": \"white\", \"ticks\": \"\"}, \"bgcolor\": \"#E5ECF6\", \"caxis\": {\"gridcolor\": \"white\", \"linecolor\": \"white\", \"ticks\": \"\"}}, \"title\": {\"x\": 0.05}, \"xaxis\": {\"automargin\": true, \"gridcolor\": \"white\", \"linecolor\": \"white\", \"ticks\": \"\", \"title\": {\"standoff\": 15}, \"zerolinecolor\": \"white\", \"zerolinewidth\": 2}, \"yaxis\": {\"automargin\": true, \"gridcolor\": \"white\", \"linecolor\": \"white\", \"ticks\": \"\", \"title\": {\"standoff\": 15}, \"zerolinecolor\": \"white\", \"zerolinewidth\": 2}}}, \"title\": {\"text\": \"MDS Coordinate 2 (y-axis) compared to Window (x-axis)\"}, \"xaxis\": {\"anchor\": \"y\", \"domain\": [0.0, 1.0], \"title\": {\"text\": \"x\"}}, \"yaxis\": {\"anchor\": \"x\", \"domain\": [0.0, 1.0], \"title\": {\"text\": \"y\"}}},\n",
       "                        {\"responsive\": true}\n",
       "                    ).then(function(){\n",
       "                            \n",
       "var gd = document.getElementById('6b6fc4ff-85d0-4f73-a5d4-fed24ad114b2');\n",
       "var x = new MutationObserver(function (mutations, observer) {{\n",
       "        var display = window.getComputedStyle(gd).display;\n",
       "        if (!display || display === 'none') {{\n",
       "            console.log([gd, 'removed!']);\n",
       "            Plotly.purge(gd);\n",
       "            observer.disconnect();\n",
       "        }}\n",
       "}});\n",
       "\n",
       "// Listen for the removal of the full notebook cells\n",
       "var notebookContainer = gd.closest('#notebook-container');\n",
       "if (notebookContainer) {{\n",
       "    x.observe(notebookContainer, {childList: true});\n",
       "}}\n",
       "\n",
       "// Listen for the clearing of the current output cell\n",
       "var outputEl = gd.closest('.output');\n",
       "if (outputEl) {{\n",
       "    x.observe(outputEl, {childList: true});\n",
       "}}\n",
       "\n",
       "                        })\n",
       "                };\n",
       "                });\n",
       "            </script>\n",
       "        </div>"
      ]
     },
     "metadata": {},
     "output_type": "display_data"
    }
   ],
   "source": [
    "px.scatter(y=mds.samples[\"PC2\"], title=\"MDS Coordinate 2 (y-axis) compared to Window (x-axis)\")"
   ]
  },
  {
   "cell_type": "code",
   "execution_count": 8,
   "metadata": {},
   "outputs": [
    {
     "data": {
      "text/html": [
       "<div>\n",
       "        \n",
       "        \n",
       "            <div id=\"d37c9996-f325-491e-800b-df9eda67b171\" class=\"plotly-graph-div\" style=\"height:525px; width:100%;\"></div>\n",
       "            <script type=\"text/javascript\">\n",
       "                require([\"plotly\"], function(Plotly) {\n",
       "                    window.PLOTLYENV=window.PLOTLYENV || {};\n",
       "                    \n",
       "                if (document.getElementById(\"d37c9996-f325-491e-800b-df9eda67b171\")) {\n",
       "                    Plotly.newPlot(\n",
       "                        'd37c9996-f325-491e-800b-df9eda67b171',\n",
       "                        [{\"hovertemplate\": \"x=%{x}<br>y=%{y}<extra></extra>\", \"legendgroup\": \"\", \"marker\": {\"color\": \"#636efa\", \"symbol\": \"circle\"}, \"mode\": \"markers\", \"name\": \"\", \"orientation\": \"v\", \"showlegend\": false, \"type\": \"scatter\", \"x\": [0.10377412705026494, 0.06378534684334419, 0.004634708472433838, -0.006604226660277983, 0.03092699580940787, -0.053004888530012055, -0.01961387252654016, 0.1062449305385118, -0.04421725548474015, 0.05229072679370823, -0.10841669600846561, -0.013907932476763049, 0.044800955713406455, 0.07060438210554897, 0.023263456482035007, -0.008894986169196957, -0.046440310786575366, 0.075715543313006, 0.03338372318582564, -0.0059398831635959545, 0.09236097713881794, 0.05299537507692377, -0.0676186145635309, 0.009827085417305268, 0.07309555712859095, 0.061694500094865566, 0.019680320227674446, -0.14268678505883525, 0.02459852904179701, -0.02106627440295351, -0.06056473245050326, -0.005767446346490674, -0.03887063024335033, -0.2610939446805273, -0.010594321622046458, -0.09460636049314841, -0.05200646812562341, -0.019382531395131308, 0.015065489148648551, -0.04522847887027642, -0.020081624349488736, -0.07960412803552022, -0.09255367003780392, 0.02245390266454504, -0.08007148818086803, -0.05934645154615969, -0.06251152978418716, 0.052630978062868476, -0.10997772031515449, 0.050677169788673385, -0.007186510485171515, -0.04452038492327505, -0.0021682872869530404, 0.047099090270778445, 0.018907103267700898, 0.0137680428198488, -0.10505075792266046, -0.011130041911062693, 0.030097328303076577, -0.1027357948759866, 0.0009042030613224104, -0.0747027137385731, -0.058258753151454755, 0.006301286534695774, 0.0050010220895507895, 0.012217665625543562, 0.01793587373792648, -0.01632067550529334, -0.002387046811816341, -0.09542259054498592, 0.0520343430123313, 0.0775007570393835, 0.054009572347228446, 0.01441492707425224, -0.015405267334347874, 0.01599569476085032, 0.1065100392577379, -0.09577185765515925, 0.02038172577781719, -0.08785165919142851, 0.031940592021689904, 0.034633652052680576, -0.0498521850363658, -0.03621421102902754, -0.010631637120114229, 0.009690020519771535, 0.010927891235255949, 0.07858578555614938, 0.06472935380598908, 0.00034903228466451363, 0.04015519971643698, -0.04350458628711672, 0.06945762648404903, 0.09193234029724144, -0.017880145456139952, 0.04879924221314344, 0.027694974276087168, -0.038841874184130744, -0.07676394293711185, -0.0969503547193581, 0.021399534518823062, 0.023419053228610147, -0.07707983337376874, 0.03893248772074502, 0.08771763655629333, 0.06484369341865819, 0.08781803796072607, -0.12001554594247682, 0.00015901152432629695, 0.059534805844489926, 0.10949035913209652, 0.056961580101493575, -0.08151558011678185, -0.005462269397856639, 0.054463119401677196, 0.02048349461246029, 0.08736308202928686, -0.002715215271063458, 0.0553367494987367, 0.021116201215395064, -0.028546753530032963, 0.044223588701730765, 0.037051108210558396, 0.07876701882977014], \"xaxis\": \"x\", \"y\": [-0.026028174858899394, 0.07511959673044533, -0.0422480417508122, 0.046427010671121476, -0.020411129310364668, 0.07090448236399641, 0.1236825924813866, 0.09157674909580907, -0.06941790290271412, -0.01843983379449545, -0.011391096780479087, 0.06236049209273974, 0.07324085845175433, 0.06638664559798646, -0.0005293511353308679, 0.02666843876504497, 0.06195237414871667, -0.00029419802879968705, -0.0027539714993880192, 0.14951280080244123, 0.005573191052245323, 0.037138668469031064, -0.0031701847204712937, -0.05216247636154392, 0.023012258833331255, -0.018420823934226456, 0.09344988795581065, 0.042947585009228725, 0.11806637370927715, -0.12096854223599231, 0.06074366035454205, -0.014140551715209414, 0.11690216853458747, -0.045441195492433896, -0.05865426850841323, -0.09820357059796171, 0.028406466264448236, 0.02537689532079628, -0.022877955001848284, 0.05206114723735585, -0.0511032527127033, 0.07318765937074229, -0.10901764865536853, 0.04529377045711296, -0.037136694622210496, -0.04384454091181241, 0.04079056512037474, -0.046160253221885765, -0.008935776585855147, -0.05518015615275715, 0.043106720523192345, -0.0695178069590611, 0.013715116346575735, 0.014069439580777525, -0.013092612098255638, 0.12157590966459628, -0.006497576770785102, -0.0007583260700769438, -0.08829861377492843, 0.007705489432612474, -0.035526970678389766, -0.0828648736721566, -0.08663706580221711, 0.022149988950357417, -0.03529989231983273, 0.06230719180982011, 0.022180579325115003, -0.025049679616031276, 0.03256590110478594, 0.09932255088063746, -0.04457754959232314, -0.057718951585283534, 0.04039837338172561, -0.020912124954571256, -0.04150876927419275, 0.09868384612369012, -0.10637609635345625, -0.028376889420198354, -0.04389392674053226, -0.020630042714095617, -0.004001931353005761, -0.059617672202444565, -0.0019481134500841622, -0.02035862405736492, 0.03645395630180259, -0.01589782075682479, 0.019213993924867282, -0.052051945877595346, -0.05054688767039566, -0.003536074992551992, 0.007728086951721891, -0.032201514942458036, -0.05915274636228275, 0.015014700313168188, 0.0034051042821530153, -0.07771794377788861, -0.005579382734376141, 0.0025002203798046604, -0.08227899822526166, 0.07243749500184564, -0.04050185761133991, -0.004611059165049976, -0.00463750066964887, -0.019554698484300855, -0.02920811079821887, 0.021434032508025357, -0.05625257271106688, 0.013542586046501947, 0.04586302763241178, 0.10744313551908806, 0.034850274476099695, 0.07587499191796704, 0.09629275532337098, -0.08189601395727117, -0.042999244717473524, -0.051527959184806515, -0.01839009042511958, -0.00924426610008976, 0.02103372096604532, -0.01968839172070065, -0.04712498113594252, -0.024100013699093877, -0.05019978911713363, -0.012355961770927059], \"yaxis\": \"y\"}],\n",
       "                        {\"legend\": {\"tracegroupgap\": 0}, \"template\": {\"data\": {\"bar\": [{\"error_x\": {\"color\": \"#2a3f5f\"}, \"error_y\": {\"color\": \"#2a3f5f\"}, \"marker\": {\"line\": {\"color\": \"#E5ECF6\", \"width\": 0.5}}, \"type\": \"bar\"}], \"barpolar\": [{\"marker\": {\"line\": {\"color\": \"#E5ECF6\", \"width\": 0.5}}, \"type\": \"barpolar\"}], \"carpet\": [{\"aaxis\": {\"endlinecolor\": \"#2a3f5f\", \"gridcolor\": \"white\", \"linecolor\": \"white\", \"minorgridcolor\": \"white\", \"startlinecolor\": \"#2a3f5f\"}, \"baxis\": {\"endlinecolor\": \"#2a3f5f\", \"gridcolor\": \"white\", \"linecolor\": \"white\", \"minorgridcolor\": \"white\", \"startlinecolor\": \"#2a3f5f\"}, \"type\": \"carpet\"}], \"choropleth\": [{\"colorbar\": {\"outlinewidth\": 0, \"ticks\": \"\"}, \"type\": \"choropleth\"}], \"contour\": [{\"colorbar\": {\"outlinewidth\": 0, \"ticks\": \"\"}, \"colorscale\": [[0.0, \"#0d0887\"], [0.1111111111111111, \"#46039f\"], [0.2222222222222222, \"#7201a8\"], [0.3333333333333333, \"#9c179e\"], [0.4444444444444444, \"#bd3786\"], [0.5555555555555556, \"#d8576b\"], [0.6666666666666666, \"#ed7953\"], [0.7777777777777778, \"#fb9f3a\"], [0.8888888888888888, \"#fdca26\"], [1.0, \"#f0f921\"]], \"type\": \"contour\"}], \"contourcarpet\": [{\"colorbar\": {\"outlinewidth\": 0, \"ticks\": \"\"}, \"type\": \"contourcarpet\"}], \"heatmap\": [{\"colorbar\": {\"outlinewidth\": 0, \"ticks\": \"\"}, \"colorscale\": [[0.0, \"#0d0887\"], [0.1111111111111111, \"#46039f\"], [0.2222222222222222, \"#7201a8\"], [0.3333333333333333, \"#9c179e\"], [0.4444444444444444, \"#bd3786\"], [0.5555555555555556, \"#d8576b\"], [0.6666666666666666, \"#ed7953\"], [0.7777777777777778, \"#fb9f3a\"], [0.8888888888888888, \"#fdca26\"], [1.0, \"#f0f921\"]], \"type\": \"heatmap\"}], \"heatmapgl\": [{\"colorbar\": {\"outlinewidth\": 0, \"ticks\": \"\"}, \"colorscale\": [[0.0, \"#0d0887\"], [0.1111111111111111, \"#46039f\"], [0.2222222222222222, \"#7201a8\"], [0.3333333333333333, \"#9c179e\"], [0.4444444444444444, \"#bd3786\"], [0.5555555555555556, \"#d8576b\"], [0.6666666666666666, \"#ed7953\"], [0.7777777777777778, \"#fb9f3a\"], [0.8888888888888888, \"#fdca26\"], [1.0, \"#f0f921\"]], \"type\": \"heatmapgl\"}], \"histogram\": [{\"marker\": {\"colorbar\": {\"outlinewidth\": 0, \"ticks\": \"\"}}, \"type\": \"histogram\"}], \"histogram2d\": [{\"colorbar\": {\"outlinewidth\": 0, \"ticks\": \"\"}, \"colorscale\": [[0.0, \"#0d0887\"], [0.1111111111111111, \"#46039f\"], [0.2222222222222222, \"#7201a8\"], [0.3333333333333333, \"#9c179e\"], [0.4444444444444444, \"#bd3786\"], [0.5555555555555556, \"#d8576b\"], [0.6666666666666666, \"#ed7953\"], [0.7777777777777778, \"#fb9f3a\"], [0.8888888888888888, \"#fdca26\"], [1.0, \"#f0f921\"]], \"type\": \"histogram2d\"}], \"histogram2dcontour\": [{\"colorbar\": {\"outlinewidth\": 0, \"ticks\": \"\"}, \"colorscale\": [[0.0, \"#0d0887\"], [0.1111111111111111, \"#46039f\"], [0.2222222222222222, \"#7201a8\"], [0.3333333333333333, \"#9c179e\"], [0.4444444444444444, \"#bd3786\"], [0.5555555555555556, \"#d8576b\"], [0.6666666666666666, \"#ed7953\"], [0.7777777777777778, \"#fb9f3a\"], [0.8888888888888888, \"#fdca26\"], [1.0, \"#f0f921\"]], \"type\": \"histogram2dcontour\"}], \"mesh3d\": [{\"colorbar\": {\"outlinewidth\": 0, \"ticks\": \"\"}, \"type\": \"mesh3d\"}], \"parcoords\": [{\"line\": {\"colorbar\": {\"outlinewidth\": 0, \"ticks\": \"\"}}, \"type\": \"parcoords\"}], \"pie\": [{\"automargin\": true, \"type\": \"pie\"}], \"scatter\": [{\"marker\": {\"colorbar\": {\"outlinewidth\": 0, \"ticks\": \"\"}}, \"type\": \"scatter\"}], \"scatter3d\": [{\"line\": {\"colorbar\": {\"outlinewidth\": 0, \"ticks\": \"\"}}, \"marker\": {\"colorbar\": {\"outlinewidth\": 0, \"ticks\": \"\"}}, \"type\": \"scatter3d\"}], \"scattercarpet\": [{\"marker\": {\"colorbar\": {\"outlinewidth\": 0, \"ticks\": \"\"}}, \"type\": \"scattercarpet\"}], \"scattergeo\": [{\"marker\": {\"colorbar\": {\"outlinewidth\": 0, \"ticks\": \"\"}}, \"type\": \"scattergeo\"}], \"scattergl\": [{\"marker\": {\"colorbar\": {\"outlinewidth\": 0, \"ticks\": \"\"}}, \"type\": \"scattergl\"}], \"scattermapbox\": [{\"marker\": {\"colorbar\": {\"outlinewidth\": 0, \"ticks\": \"\"}}, \"type\": \"scattermapbox\"}], \"scatterpolar\": [{\"marker\": {\"colorbar\": {\"outlinewidth\": 0, \"ticks\": \"\"}}, \"type\": \"scatterpolar\"}], \"scatterpolargl\": [{\"marker\": {\"colorbar\": {\"outlinewidth\": 0, \"ticks\": \"\"}}, \"type\": \"scatterpolargl\"}], \"scatterternary\": [{\"marker\": {\"colorbar\": {\"outlinewidth\": 0, \"ticks\": \"\"}}, \"type\": \"scatterternary\"}], \"surface\": [{\"colorbar\": {\"outlinewidth\": 0, \"ticks\": \"\"}, \"colorscale\": [[0.0, \"#0d0887\"], [0.1111111111111111, \"#46039f\"], [0.2222222222222222, \"#7201a8\"], [0.3333333333333333, \"#9c179e\"], [0.4444444444444444, \"#bd3786\"], [0.5555555555555556, \"#d8576b\"], [0.6666666666666666, \"#ed7953\"], [0.7777777777777778, \"#fb9f3a\"], [0.8888888888888888, \"#fdca26\"], [1.0, \"#f0f921\"]], \"type\": \"surface\"}], \"table\": [{\"cells\": {\"fill\": {\"color\": \"#EBF0F8\"}, \"line\": {\"color\": \"white\"}}, \"header\": {\"fill\": {\"color\": \"#C8D4E3\"}, \"line\": {\"color\": \"white\"}}, \"type\": \"table\"}]}, \"layout\": {\"annotationdefaults\": {\"arrowcolor\": \"#2a3f5f\", \"arrowhead\": 0, \"arrowwidth\": 1}, \"coloraxis\": {\"colorbar\": {\"outlinewidth\": 0, \"ticks\": \"\"}}, \"colorscale\": {\"diverging\": [[0, \"#8e0152\"], [0.1, \"#c51b7d\"], [0.2, \"#de77ae\"], [0.3, \"#f1b6da\"], [0.4, \"#fde0ef\"], [0.5, \"#f7f7f7\"], [0.6, \"#e6f5d0\"], [0.7, \"#b8e186\"], [0.8, \"#7fbc41\"], [0.9, \"#4d9221\"], [1, \"#276419\"]], \"sequential\": [[0.0, \"#0d0887\"], [0.1111111111111111, \"#46039f\"], [0.2222222222222222, \"#7201a8\"], [0.3333333333333333, \"#9c179e\"], [0.4444444444444444, \"#bd3786\"], [0.5555555555555556, \"#d8576b\"], [0.6666666666666666, \"#ed7953\"], [0.7777777777777778, \"#fb9f3a\"], [0.8888888888888888, \"#fdca26\"], [1.0, \"#f0f921\"]], \"sequentialminus\": [[0.0, \"#0d0887\"], [0.1111111111111111, \"#46039f\"], [0.2222222222222222, \"#7201a8\"], [0.3333333333333333, \"#9c179e\"], [0.4444444444444444, \"#bd3786\"], [0.5555555555555556, \"#d8576b\"], [0.6666666666666666, \"#ed7953\"], [0.7777777777777778, \"#fb9f3a\"], [0.8888888888888888, \"#fdca26\"], [1.0, \"#f0f921\"]]}, \"colorway\": [\"#636efa\", \"#EF553B\", \"#00cc96\", \"#ab63fa\", \"#FFA15A\", \"#19d3f3\", \"#FF6692\", \"#B6E880\", \"#FF97FF\", \"#FECB52\"], \"font\": {\"color\": \"#2a3f5f\"}, \"geo\": {\"bgcolor\": \"white\", \"lakecolor\": \"white\", \"landcolor\": \"#E5ECF6\", \"showlakes\": true, \"showland\": true, \"subunitcolor\": \"white\"}, \"hoverlabel\": {\"align\": \"left\"}, \"hovermode\": \"closest\", \"mapbox\": {\"style\": \"light\"}, \"paper_bgcolor\": \"white\", \"plot_bgcolor\": \"#E5ECF6\", \"polar\": {\"angularaxis\": {\"gridcolor\": \"white\", \"linecolor\": \"white\", \"ticks\": \"\"}, \"bgcolor\": \"#E5ECF6\", \"radialaxis\": {\"gridcolor\": \"white\", \"linecolor\": \"white\", \"ticks\": \"\"}}, \"scene\": {\"xaxis\": {\"backgroundcolor\": \"#E5ECF6\", \"gridcolor\": \"white\", \"gridwidth\": 2, \"linecolor\": \"white\", \"showbackground\": true, \"ticks\": \"\", \"zerolinecolor\": \"white\"}, \"yaxis\": {\"backgroundcolor\": \"#E5ECF6\", \"gridcolor\": \"white\", \"gridwidth\": 2, \"linecolor\": \"white\", \"showbackground\": true, \"ticks\": \"\", \"zerolinecolor\": \"white\"}, \"zaxis\": {\"backgroundcolor\": \"#E5ECF6\", \"gridcolor\": \"white\", \"gridwidth\": 2, \"linecolor\": \"white\", \"showbackground\": true, \"ticks\": \"\", \"zerolinecolor\": \"white\"}}, \"shapedefaults\": {\"line\": {\"color\": \"#2a3f5f\"}}, \"ternary\": {\"aaxis\": {\"gridcolor\": \"white\", \"linecolor\": \"white\", \"ticks\": \"\"}, \"baxis\": {\"gridcolor\": \"white\", \"linecolor\": \"white\", \"ticks\": \"\"}, \"bgcolor\": \"#E5ECF6\", \"caxis\": {\"gridcolor\": \"white\", \"linecolor\": \"white\", \"ticks\": \"\"}}, \"title\": {\"x\": 0.05}, \"xaxis\": {\"automargin\": true, \"gridcolor\": \"white\", \"linecolor\": \"white\", \"ticks\": \"\", \"title\": {\"standoff\": 15}, \"zerolinecolor\": \"white\", \"zerolinewidth\": 2}, \"yaxis\": {\"automargin\": true, \"gridcolor\": \"white\", \"linecolor\": \"white\", \"ticks\": \"\", \"title\": {\"standoff\": 15}, \"zerolinecolor\": \"white\", \"zerolinewidth\": 2}}}, \"title\": {\"text\": \"MDS Coordinate 1 (x-axis) and MDS Coordinate 2 (y-axis)\"}, \"xaxis\": {\"anchor\": \"y\", \"domain\": [0.0, 1.0], \"title\": {\"text\": \"x\"}}, \"yaxis\": {\"anchor\": \"x\", \"domain\": [0.0, 1.0], \"title\": {\"text\": \"y\"}}},\n",
       "                        {\"responsive\": true}\n",
       "                    ).then(function(){\n",
       "                            \n",
       "var gd = document.getElementById('d37c9996-f325-491e-800b-df9eda67b171');\n",
       "var x = new MutationObserver(function (mutations, observer) {{\n",
       "        var display = window.getComputedStyle(gd).display;\n",
       "        if (!display || display === 'none') {{\n",
       "            console.log([gd, 'removed!']);\n",
       "            Plotly.purge(gd);\n",
       "            observer.disconnect();\n",
       "        }}\n",
       "}});\n",
       "\n",
       "// Listen for the removal of the full notebook cells\n",
       "var notebookContainer = gd.closest('#notebook-container');\n",
       "if (notebookContainer) {{\n",
       "    x.observe(notebookContainer, {childList: true});\n",
       "}}\n",
       "\n",
       "// Listen for the clearing of the current output cell\n",
       "var outputEl = gd.closest('.output');\n",
       "if (outputEl) {{\n",
       "    x.observe(outputEl, {childList: true});\n",
       "}}\n",
       "\n",
       "                        })\n",
       "                };\n",
       "                });\n",
       "            </script>\n",
       "        </div>"
      ]
     },
     "metadata": {},
     "output_type": "display_data"
    }
   ],
   "source": [
    "px.scatter(x=mds.samples[\"PC1\"], y=mds.samples[\"PC2\"], title=\"MDS Coordinate 1 (x-axis) and MDS Coordinate 2 (y-axis)\")"
   ]
  },
  {
   "cell_type": "markdown",
   "metadata": {},
   "source": [
    "## Performing Analaysis Genome-Wide"
   ]
  },
  {
   "cell_type": "code",
   "execution_count": null,
   "metadata": {},
   "outputs": [],
   "source": [
    "landmarks = ls.get_landmarks(\"chr1-filtered.vcf.gz\")\n",
    "\n",
    "results = list()\n",
    "snp_positions = list()\n",
    "\n",
    "for landmark in landmarks:\n",
    "    windows, positions = ls.parse_vcf(\"my.vcf.gz\", landmark, 95)\n",
    "    for i, window in enumerate(windows):\n",
    "        results.append(ls.eigen_windows(window, 10, 1))\n",
    "        snp_positions.append(positions[i])"
   ]
  },
  {
   "cell_type": "markdown",
   "metadata": {},
   "source": [
    "While the above will not work due to a missing file, it is the appropriate way to get the results for each window for all landmarks (chromosomes, scaffolds, contigs, etc...). Here, we keep track of snp_positions as well, and len(snp_positions) == len(results) so they can be further investigated.\n",
    "\n",
    "The code will then remain the same:"
   ]
  },
  {
   "cell_type": "code",
   "execution_count": null,
   "metadata": {},
   "outputs": [],
   "source": [
    "# Convert to numpy array\n",
    "results = np.vstack(results)\n",
    "\n",
    "# Get PCA distances comparison matrix\n",
    "pc_dists = ls.get_pc_dists(results)\n",
    "\n",
    "# Get PCoA value of pc_dists matrix (this is equivalent to R's MDS)\n",
    "mds = pcoa(pc_dists)"
   ]
  },
  {
   "cell_type": "markdown",
   "metadata": {},
   "source": [
    "## Comparison to R Version"
   ]
  },
  {
   "cell_type": "code",
   "execution_count": 11,
   "metadata": {},
   "outputs": [
    {
     "data": {
      "text/plain": [
       "0.9978494016481024"
      ]
     },
     "execution_count": 11,
     "metadata": {},
     "output_type": "execute_result"
    }
   ],
   "source": [
    "mds_coords = pd.read_csv(\"lostruct-results/mds_coords.csv\")\n",
    "np.corrcoef(mds.samples['PC1'], mds_coords['MDS1'].to_numpy())[0][1]\n",
    "# R-value is:"
   ]
  },
  {
   "cell_type": "code",
   "execution_count": 12,
   "metadata": {},
   "outputs": [
    {
     "data": {
      "text/html": [
       "<div>\n",
       "        \n",
       "        \n",
       "            <div id=\"85c26ecb-55da-4107-83b4-55875b9adb38\" class=\"plotly-graph-div\" style=\"height:525px; width:100%;\"></div>\n",
       "            <script type=\"text/javascript\">\n",
       "                require([\"plotly\"], function(Plotly) {\n",
       "                    window.PLOTLYENV=window.PLOTLYENV || {};\n",
       "                    \n",
       "                if (document.getElementById(\"85c26ecb-55da-4107-83b4-55875b9adb38\")) {\n",
       "                    Plotly.newPlot(\n",
       "                        '85c26ecb-55da-4107-83b4-55875b9adb38',\n",
       "                        [{\"hovertemplate\": \"x=%{x}<br>y=%{y}<extra></extra>\", \"legendgroup\": \"\", \"marker\": {\"color\": \"#636efa\", \"symbol\": \"circle\"}, \"mode\": \"markers\", \"name\": \"\", \"orientation\": \"v\", \"showlegend\": false, \"type\": \"scatter\", \"x\": [0.10377412705026494, 0.06378534684334419, 0.004634708472433838, -0.006604226660277983, 0.03092699580940787, -0.053004888530012055, -0.01961387252654016, 0.1062449305385118, -0.04421725548474015, 0.05229072679370823, -0.10841669600846561, -0.013907932476763049, 0.044800955713406455, 0.07060438210554897, 0.023263456482035007, -0.008894986169196957, -0.046440310786575366, 0.075715543313006, 0.03338372318582564, -0.0059398831635959545, 0.09236097713881794, 0.05299537507692377, -0.0676186145635309, 0.009827085417305268, 0.07309555712859095, 0.061694500094865566, 0.019680320227674446, -0.14268678505883525, 0.02459852904179701, -0.02106627440295351, -0.06056473245050326, -0.005767446346490674, -0.03887063024335033, -0.2610939446805273, -0.010594321622046458, -0.09460636049314841, -0.05200646812562341, -0.019382531395131308, 0.015065489148648551, -0.04522847887027642, -0.020081624349488736, -0.07960412803552022, -0.09255367003780392, 0.02245390266454504, -0.08007148818086803, -0.05934645154615969, -0.06251152978418716, 0.052630978062868476, -0.10997772031515449, 0.050677169788673385, -0.007186510485171515, -0.04452038492327505, -0.0021682872869530404, 0.047099090270778445, 0.018907103267700898, 0.0137680428198488, -0.10505075792266046, -0.011130041911062693, 0.030097328303076577, -0.1027357948759866, 0.0009042030613224104, -0.0747027137385731, -0.058258753151454755, 0.006301286534695774, 0.0050010220895507895, 0.012217665625543562, 0.01793587373792648, -0.01632067550529334, -0.002387046811816341, -0.09542259054498592, 0.0520343430123313, 0.0775007570393835, 0.054009572347228446, 0.01441492707425224, -0.015405267334347874, 0.01599569476085032, 0.1065100392577379, -0.09577185765515925, 0.02038172577781719, -0.08785165919142851, 0.031940592021689904, 0.034633652052680576, -0.0498521850363658, -0.03621421102902754, -0.010631637120114229, 0.009690020519771535, 0.010927891235255949, 0.07858578555614938, 0.06472935380598908, 0.00034903228466451363, 0.04015519971643698, -0.04350458628711672, 0.06945762648404903, 0.09193234029724144, -0.017880145456139952, 0.04879924221314344, 0.027694974276087168, -0.038841874184130744, -0.07676394293711185, -0.0969503547193581, 0.021399534518823062, 0.023419053228610147, -0.07707983337376874, 0.03893248772074502, 0.08771763655629333, 0.06484369341865819, 0.08781803796072607, -0.12001554594247682, 0.00015901152432629695, 0.059534805844489926, 0.10949035913209652, 0.056961580101493575, -0.08151558011678185, -0.005462269397856639, 0.054463119401677196, 0.02048349461246029, 0.08736308202928686, -0.002715215271063458, 0.0553367494987367, 0.021116201215395064, -0.028546753530032963, 0.044223588701730765, 0.037051108210558396, 0.07876701882977014], \"xaxis\": \"x\", \"y\": [0.106039412140135, 0.06521785477816, -0.004399464291748, -0.0031844036766112897, 0.037562557252513, -0.0594637921340835, -0.0183053822281976, 0.0980611459027024, -0.0430187784148828, 0.0538087738618379, -0.107933235761886, -0.0114377128051263, 0.0391079361981341, 0.0727715030719605, 0.0192915851515999, -0.007734360756535009, -0.0454173469988564, 0.0785915179041593, 0.0361093027056911, -0.0105815826097926, 0.0857164277740816, 0.0572546213514705, -0.0688891823189553, 0.0114596154278772, 0.0783654038927575, 0.066358972060522, 0.0208990177695049, -0.137115297033866, 0.0156172902321442, -0.0177812740238417, -0.0564880260378318, -0.0026786776458018803, -0.0338378975242213, -0.256142720380728, -0.00684101878435677, -0.0918822135003576, -0.0474866333052684, -0.0189046450454139, 0.0169740368671499, -0.0378385331957417, -0.0215109014703824, -0.0786846496375569, -0.089950493985065, 0.0242317772445913, -0.0798279587463118, -0.0561721187820339, -0.0629564633806749, 0.0554620024115496, -0.10973477473028001, 0.0549149135120433, -0.00330911810470405, -0.0425310794030861, 0.00343947976742972, 0.0377505600572558, 0.0229678574490893, 0.0161043728293765, -0.105343130093718, -0.00997168608900377, 0.0346729997575843, -0.10082793252549199, -0.0032379121551334104, -0.0737757905866874, -0.0578603416950295, 0.0060995036624745, -0.0010437565148827, 0.0172704365769281, 0.0217120178697539, -0.0189070548696905, -0.0023676015888738897, -0.10293618640513601, 0.054633566654237, 0.0809034420798704, 0.0505074834979319, 0.0109970575589052, -0.0201640913565209, 0.0197911669719884, 0.10760336367800201, -0.0953067898831284, 0.0127158279335449, -0.0879299232518779, 0.0337475240719632, 0.0294298093071234, -0.0508544564040558, -0.0430072802586381, -0.00949174857091432, 0.00957252940953021, 0.0131248952185619, 0.0825694544628294, 0.0559785128209545, 0.00372231827392765, 0.0329810401895892, -0.04252459598035701, 0.0718759470800733, 0.0939022068688582, -0.0145276135904549, 0.0384668259431337, 0.0286416052802563, -0.0395822205872374, -0.0742552786230123, -0.0951313187600025, 0.0110860485252388, 0.0269023066976898, -0.0773581764618903, 0.0392419412770702, 0.0835299504490291, 0.0671986276988443, 0.0823973390257787, -0.117061828377013, -0.00495675222087029, 0.0618777983773445, 0.101222901143372, 0.0606271010195033, -0.0819193923475441, -0.00429034130166789, 0.051539511649676, 0.0144034031373898, 0.0817193109583082, -0.00243186192438948, 0.0519611133189414, 0.0222608416730319, -0.0260896229419643, 0.0397841750931153, 0.0389154896127699, 0.07552908964051899], \"yaxis\": \"y\"}],\n",
       "                        {\"legend\": {\"tracegroupgap\": 0}, \"margin\": {\"t\": 60}, \"template\": {\"data\": {\"bar\": [{\"error_x\": {\"color\": \"#2a3f5f\"}, \"error_y\": {\"color\": \"#2a3f5f\"}, \"marker\": {\"line\": {\"color\": \"#E5ECF6\", \"width\": 0.5}}, \"type\": \"bar\"}], \"barpolar\": [{\"marker\": {\"line\": {\"color\": \"#E5ECF6\", \"width\": 0.5}}, \"type\": \"barpolar\"}], \"carpet\": [{\"aaxis\": {\"endlinecolor\": \"#2a3f5f\", \"gridcolor\": \"white\", \"linecolor\": \"white\", \"minorgridcolor\": \"white\", \"startlinecolor\": \"#2a3f5f\"}, \"baxis\": {\"endlinecolor\": \"#2a3f5f\", \"gridcolor\": \"white\", \"linecolor\": \"white\", \"minorgridcolor\": \"white\", \"startlinecolor\": \"#2a3f5f\"}, \"type\": \"carpet\"}], \"choropleth\": [{\"colorbar\": {\"outlinewidth\": 0, \"ticks\": \"\"}, \"type\": \"choropleth\"}], \"contour\": [{\"colorbar\": {\"outlinewidth\": 0, \"ticks\": \"\"}, \"colorscale\": [[0.0, \"#0d0887\"], [0.1111111111111111, \"#46039f\"], [0.2222222222222222, \"#7201a8\"], [0.3333333333333333, \"#9c179e\"], [0.4444444444444444, \"#bd3786\"], [0.5555555555555556, \"#d8576b\"], [0.6666666666666666, \"#ed7953\"], [0.7777777777777778, \"#fb9f3a\"], [0.8888888888888888, \"#fdca26\"], [1.0, \"#f0f921\"]], \"type\": \"contour\"}], \"contourcarpet\": [{\"colorbar\": {\"outlinewidth\": 0, \"ticks\": \"\"}, \"type\": \"contourcarpet\"}], \"heatmap\": [{\"colorbar\": {\"outlinewidth\": 0, \"ticks\": \"\"}, \"colorscale\": [[0.0, \"#0d0887\"], [0.1111111111111111, \"#46039f\"], [0.2222222222222222, \"#7201a8\"], [0.3333333333333333, \"#9c179e\"], [0.4444444444444444, \"#bd3786\"], [0.5555555555555556, \"#d8576b\"], [0.6666666666666666, \"#ed7953\"], [0.7777777777777778, \"#fb9f3a\"], [0.8888888888888888, \"#fdca26\"], [1.0, \"#f0f921\"]], \"type\": \"heatmap\"}], \"heatmapgl\": [{\"colorbar\": {\"outlinewidth\": 0, \"ticks\": \"\"}, \"colorscale\": [[0.0, \"#0d0887\"], [0.1111111111111111, \"#46039f\"], [0.2222222222222222, \"#7201a8\"], [0.3333333333333333, \"#9c179e\"], [0.4444444444444444, \"#bd3786\"], [0.5555555555555556, \"#d8576b\"], [0.6666666666666666, \"#ed7953\"], [0.7777777777777778, \"#fb9f3a\"], [0.8888888888888888, \"#fdca26\"], [1.0, \"#f0f921\"]], \"type\": \"heatmapgl\"}], \"histogram\": [{\"marker\": {\"colorbar\": {\"outlinewidth\": 0, \"ticks\": \"\"}}, \"type\": \"histogram\"}], \"histogram2d\": [{\"colorbar\": {\"outlinewidth\": 0, \"ticks\": \"\"}, \"colorscale\": [[0.0, \"#0d0887\"], [0.1111111111111111, \"#46039f\"], [0.2222222222222222, \"#7201a8\"], [0.3333333333333333, \"#9c179e\"], [0.4444444444444444, \"#bd3786\"], [0.5555555555555556, \"#d8576b\"], [0.6666666666666666, \"#ed7953\"], [0.7777777777777778, \"#fb9f3a\"], [0.8888888888888888, \"#fdca26\"], [1.0, \"#f0f921\"]], \"type\": \"histogram2d\"}], \"histogram2dcontour\": [{\"colorbar\": {\"outlinewidth\": 0, \"ticks\": \"\"}, \"colorscale\": [[0.0, \"#0d0887\"], [0.1111111111111111, \"#46039f\"], [0.2222222222222222, \"#7201a8\"], [0.3333333333333333, \"#9c179e\"], [0.4444444444444444, \"#bd3786\"], [0.5555555555555556, \"#d8576b\"], [0.6666666666666666, \"#ed7953\"], [0.7777777777777778, \"#fb9f3a\"], [0.8888888888888888, \"#fdca26\"], [1.0, \"#f0f921\"]], \"type\": \"histogram2dcontour\"}], \"mesh3d\": [{\"colorbar\": {\"outlinewidth\": 0, \"ticks\": \"\"}, \"type\": \"mesh3d\"}], \"parcoords\": [{\"line\": {\"colorbar\": {\"outlinewidth\": 0, \"ticks\": \"\"}}, \"type\": \"parcoords\"}], \"pie\": [{\"automargin\": true, \"type\": \"pie\"}], \"scatter\": [{\"marker\": {\"colorbar\": {\"outlinewidth\": 0, \"ticks\": \"\"}}, \"type\": \"scatter\"}], \"scatter3d\": [{\"line\": {\"colorbar\": {\"outlinewidth\": 0, \"ticks\": \"\"}}, \"marker\": {\"colorbar\": {\"outlinewidth\": 0, \"ticks\": \"\"}}, \"type\": \"scatter3d\"}], \"scattercarpet\": [{\"marker\": {\"colorbar\": {\"outlinewidth\": 0, \"ticks\": \"\"}}, \"type\": \"scattercarpet\"}], \"scattergeo\": [{\"marker\": {\"colorbar\": {\"outlinewidth\": 0, \"ticks\": \"\"}}, \"type\": \"scattergeo\"}], \"scattergl\": [{\"marker\": {\"colorbar\": {\"outlinewidth\": 0, \"ticks\": \"\"}}, \"type\": \"scattergl\"}], \"scattermapbox\": [{\"marker\": {\"colorbar\": {\"outlinewidth\": 0, \"ticks\": \"\"}}, \"type\": \"scattermapbox\"}], \"scatterpolar\": [{\"marker\": {\"colorbar\": {\"outlinewidth\": 0, \"ticks\": \"\"}}, \"type\": \"scatterpolar\"}], \"scatterpolargl\": [{\"marker\": {\"colorbar\": {\"outlinewidth\": 0, \"ticks\": \"\"}}, \"type\": \"scatterpolargl\"}], \"scatterternary\": [{\"marker\": {\"colorbar\": {\"outlinewidth\": 0, \"ticks\": \"\"}}, \"type\": \"scatterternary\"}], \"surface\": [{\"colorbar\": {\"outlinewidth\": 0, \"ticks\": \"\"}, \"colorscale\": [[0.0, \"#0d0887\"], [0.1111111111111111, \"#46039f\"], [0.2222222222222222, \"#7201a8\"], [0.3333333333333333, \"#9c179e\"], [0.4444444444444444, \"#bd3786\"], [0.5555555555555556, \"#d8576b\"], [0.6666666666666666, \"#ed7953\"], [0.7777777777777778, \"#fb9f3a\"], [0.8888888888888888, \"#fdca26\"], [1.0, \"#f0f921\"]], \"type\": \"surface\"}], \"table\": [{\"cells\": {\"fill\": {\"color\": \"#EBF0F8\"}, \"line\": {\"color\": \"white\"}}, \"header\": {\"fill\": {\"color\": \"#C8D4E3\"}, \"line\": {\"color\": \"white\"}}, \"type\": \"table\"}]}, \"layout\": {\"annotationdefaults\": {\"arrowcolor\": \"#2a3f5f\", \"arrowhead\": 0, \"arrowwidth\": 1}, \"coloraxis\": {\"colorbar\": {\"outlinewidth\": 0, \"ticks\": \"\"}}, \"colorscale\": {\"diverging\": [[0, \"#8e0152\"], [0.1, \"#c51b7d\"], [0.2, \"#de77ae\"], [0.3, \"#f1b6da\"], [0.4, \"#fde0ef\"], [0.5, \"#f7f7f7\"], [0.6, \"#e6f5d0\"], [0.7, \"#b8e186\"], [0.8, \"#7fbc41\"], [0.9, \"#4d9221\"], [1, \"#276419\"]], \"sequential\": [[0.0, \"#0d0887\"], [0.1111111111111111, \"#46039f\"], [0.2222222222222222, \"#7201a8\"], [0.3333333333333333, \"#9c179e\"], [0.4444444444444444, \"#bd3786\"], [0.5555555555555556, \"#d8576b\"], [0.6666666666666666, \"#ed7953\"], [0.7777777777777778, \"#fb9f3a\"], [0.8888888888888888, \"#fdca26\"], [1.0, \"#f0f921\"]], \"sequentialminus\": [[0.0, \"#0d0887\"], [0.1111111111111111, \"#46039f\"], [0.2222222222222222, \"#7201a8\"], [0.3333333333333333, \"#9c179e\"], [0.4444444444444444, \"#bd3786\"], [0.5555555555555556, \"#d8576b\"], [0.6666666666666666, \"#ed7953\"], [0.7777777777777778, \"#fb9f3a\"], [0.8888888888888888, \"#fdca26\"], [1.0, \"#f0f921\"]]}, \"colorway\": [\"#636efa\", \"#EF553B\", \"#00cc96\", \"#ab63fa\", \"#FFA15A\", \"#19d3f3\", \"#FF6692\", \"#B6E880\", \"#FF97FF\", \"#FECB52\"], \"font\": {\"color\": \"#2a3f5f\"}, \"geo\": {\"bgcolor\": \"white\", \"lakecolor\": \"white\", \"landcolor\": \"#E5ECF6\", \"showlakes\": true, \"showland\": true, \"subunitcolor\": \"white\"}, \"hoverlabel\": {\"align\": \"left\"}, \"hovermode\": \"closest\", \"mapbox\": {\"style\": \"light\"}, \"paper_bgcolor\": \"white\", \"plot_bgcolor\": \"#E5ECF6\", \"polar\": {\"angularaxis\": {\"gridcolor\": \"white\", \"linecolor\": \"white\", \"ticks\": \"\"}, \"bgcolor\": \"#E5ECF6\", \"radialaxis\": {\"gridcolor\": \"white\", \"linecolor\": \"white\", \"ticks\": \"\"}}, \"scene\": {\"xaxis\": {\"backgroundcolor\": \"#E5ECF6\", \"gridcolor\": \"white\", \"gridwidth\": 2, \"linecolor\": \"white\", \"showbackground\": true, \"ticks\": \"\", \"zerolinecolor\": \"white\"}, \"yaxis\": {\"backgroundcolor\": \"#E5ECF6\", \"gridcolor\": \"white\", \"gridwidth\": 2, \"linecolor\": \"white\", \"showbackground\": true, \"ticks\": \"\", \"zerolinecolor\": \"white\"}, \"zaxis\": {\"backgroundcolor\": \"#E5ECF6\", \"gridcolor\": \"white\", \"gridwidth\": 2, \"linecolor\": \"white\", \"showbackground\": true, \"ticks\": \"\", \"zerolinecolor\": \"white\"}}, \"shapedefaults\": {\"line\": {\"color\": \"#2a3f5f\"}}, \"ternary\": {\"aaxis\": {\"gridcolor\": \"white\", \"linecolor\": \"white\", \"ticks\": \"\"}, \"baxis\": {\"gridcolor\": \"white\", \"linecolor\": \"white\", \"ticks\": \"\"}, \"bgcolor\": \"#E5ECF6\", \"caxis\": {\"gridcolor\": \"white\", \"linecolor\": \"white\", \"ticks\": \"\"}}, \"title\": {\"x\": 0.05}, \"xaxis\": {\"automargin\": true, \"gridcolor\": \"white\", \"linecolor\": \"white\", \"ticks\": \"\", \"title\": {\"standoff\": 15}, \"zerolinecolor\": \"white\", \"zerolinewidth\": 2}, \"yaxis\": {\"automargin\": true, \"gridcolor\": \"white\", \"linecolor\": \"white\", \"ticks\": \"\", \"title\": {\"standoff\": 15}, \"zerolinecolor\": \"white\", \"zerolinewidth\": 2}}}, \"xaxis\": {\"anchor\": \"y\", \"domain\": [0.0, 1.0], \"title\": {\"text\": \"x\"}}, \"yaxis\": {\"anchor\": \"x\", \"domain\": [0.0, 1.0], \"title\": {\"text\": \"y\"}}},\n",
       "                        {\"responsive\": true}\n",
       "                    ).then(function(){\n",
       "                            \n",
       "var gd = document.getElementById('85c26ecb-55da-4107-83b4-55875b9adb38');\n",
       "var x = new MutationObserver(function (mutations, observer) {{\n",
       "        var display = window.getComputedStyle(gd).display;\n",
       "        if (!display || display === 'none') {{\n",
       "            console.log([gd, 'removed!']);\n",
       "            Plotly.purge(gd);\n",
       "            observer.disconnect();\n",
       "        }}\n",
       "}});\n",
       "\n",
       "// Listen for the removal of the full notebook cells\n",
       "var notebookContainer = gd.closest('#notebook-container');\n",
       "if (notebookContainer) {{\n",
       "    x.observe(notebookContainer, {childList: true});\n",
       "}}\n",
       "\n",
       "// Listen for the clearing of the current output cell\n",
       "var outputEl = gd.closest('.output');\n",
       "if (outputEl) {{\n",
       "    x.observe(outputEl, {childList: true});\n",
       "}}\n",
       "\n",
       "                        })\n",
       "                };\n",
       "                });\n",
       "            </script>\n",
       "        </div>"
      ]
     },
     "metadata": {},
     "output_type": "display_data"
    }
   ],
   "source": [
    "px.scatter(x=mds.samples[\"PC1\"], y=mds_coords['MDS1'])"
   ]
  },
  {
   "cell_type": "markdown",
   "metadata": {},
   "source": [
    "## Working with Large Datasets"
   ]
  },
  {
   "cell_type": "code",
   "execution_count": 13,
   "metadata": {},
   "outputs": [
    {
     "data": {
      "text/plain": [
       "-0.9978242061901393"
      ]
     },
     "execution_count": 13,
     "metadata": {},
     "output_type": "execute_result"
    }
   ],
   "source": [
    "# PCOA for reduced memory consumption and faster clustering\n",
    "mds = pcoa(pc_dists, method=\"fsvd\", inplace=True, number_of_dimensions=10)\n",
    "np.corrcoef(mds.samples[\"PC1\"], mds_coords['MDS1'].to_numpy())[0][1]"
   ]
  },
  {
   "cell_type": "code",
   "execution_count": 14,
   "metadata": {},
   "outputs": [
    {
     "data": {
      "text/html": [
       "<div>\n",
       "        \n",
       "        \n",
       "            <div id=\"5764c4bf-8a4e-4072-8148-15b47d4a7938\" class=\"plotly-graph-div\" style=\"height:525px; width:100%;\"></div>\n",
       "            <script type=\"text/javascript\">\n",
       "                require([\"plotly\"], function(Plotly) {\n",
       "                    window.PLOTLYENV=window.PLOTLYENV || {};\n",
       "                    \n",
       "                if (document.getElementById(\"5764c4bf-8a4e-4072-8148-15b47d4a7938\")) {\n",
       "                    Plotly.newPlot(\n",
       "                        '5764c4bf-8a4e-4072-8148-15b47d4a7938',\n",
       "                        [{\"hovertemplate\": \"variable=wide_variable_0<br>index=%{x}<br>value=%{y}<extra></extra>\", \"legendgroup\": \"wide_variable_0\", \"marker\": {\"color\": \"#636efa\", \"symbol\": \"circle\"}, \"mode\": \"markers\", \"name\": \"wide_variable_0\", \"orientation\": \"v\", \"showlegend\": true, \"type\": \"scatter\", \"x\": [0, 1, 2, 3, 4, 5, 6, 7, 8, 9, 10, 11, 12, 13, 14, 15, 16, 17, 18, 19, 20, 21, 22, 23, 24, 25, 26, 27, 28, 29, 30, 31, 32, 33, 34, 35, 36, 37, 38, 39, 40, 41, 42, 43, 44, 45, 46, 47, 48, 49, 50, 51, 52, 53, 54, 55, 56, 57, 58, 59, 60, 61, 62, 63, 64, 65, 66, 67, 68, 69, 70, 71, 72, 73, 74, 75, 76, 77, 78, 79, 80, 81, 82, 83, 84, 85, 86, 87, 88, 89, 90, 91, 92, 93, 94, 95, 96, 97, 98, 99, 100, 101, 102, 103, 104, 105, 106, 107, 108, 109, 110, 111, 112, 113, 114, 115, 116, 117, 118, 119, 120, 121, 122, 123], \"xaxis\": \"x\", \"y\": [-0.10361314533661133, -0.06367202110677977, -0.004846420642975659, 0.006321494964815237, -0.031221174637926296, 0.052428428327648845, 0.019286351958140397, -0.10603501267131746, 0.0445083819446648, -0.052862951198750736, 0.1090629687773936, 0.013657325023541899, -0.044253862585526264, -0.07055535432651568, -0.022998588871325297, 0.00982160357350982, 0.04629098651342405, -0.07559685368905066, -0.032666704533343985, 0.005939691758774859, -0.09232916787395666, -0.0528007293113338, 0.06689154700400722, -0.009379283188725149, -0.07336631948971391, -0.061257189716750676, -0.02033917967490583, 0.14352795073943, -0.024847140737365037, 0.020905608015686323, 0.060833431238276246, 0.0046616648576634865, 0.038643041875392775, 0.25978230921428813, 0.010264583277591133, 0.09438507157170524, 0.05192375094514615, 0.019226166129496902, -0.015323331688041288, 0.047557689795415574, 0.020393282098597438, 0.0792330312641623, 0.09235762836086579, -0.0215624026792953, 0.0800141880880184, 0.05985268252366446, 0.061551270215774626, -0.053047438602353246, 0.11049479767193454, -0.050780941079230625, 0.006978785267688071, 0.04500744827745368, 0.002269966972154079, -0.04689415140559627, -0.019492648931043122, -0.01398618682065435, 0.10474896607312743, 0.011171777593454276, -0.03020401670002587, 0.10194020430958996, -0.0014966722421693947, 0.07485193441004108, 0.05890125323051334, -0.006202735480312803, -0.004249140223556182, -0.012377228887645078, -0.018445923564416333, 0.016325475574204232, 0.00225223639797541, 0.09563677849658199, -0.052196060436928274, -0.07789395057216998, -0.054368630394233265, -0.013990486574097186, 0.015729152822427036, -0.01679997417580945, -0.10608718464839885, 0.09582738574569699, -0.02118228266217966, 0.08778908023932043, -0.031948957766094174, -0.03468247047709108, 0.05052185406885785, 0.036726346589047526, 0.010330795291624803, -0.00923440945793888, -0.010242338650020777, -0.07813912609842698, -0.06504661048638127, -0.0014165674400633931, -0.03984412223815591, 0.043618997448046926, -0.06958647287920403, -0.09229224348407604, 0.01757777931190881, -0.04969455637767847, -0.027237886049120717, 0.03868148236682226, 0.07674384354479634, 0.09666292201745305, -0.021290915004851772, -0.023877133402496545, 0.07737711406869421, -0.03900931172437513, -0.0876449056095244, -0.06466088364265184, -0.08791065162472167, 0.12126543909151753, -5.823626184274919e-05, -0.059395310431480615, -0.10976690089369585, -0.05793986384739019, 0.0815643617232266, 0.005171913048356256, -0.05368544416384233, -0.020208372215691803, -0.08701915907016818, 0.003157529133515007, -0.055419249241604275, -0.021449501844720862, 0.02841322979773599, -0.0438271930887417, -0.03672689634372271, -0.07858280346406013], \"yaxis\": \"y\"}, {\"hovertemplate\": \"variable=wide_variable_1<br>index=%{x}<br>value=%{y}<extra></extra>\", \"legendgroup\": \"wide_variable_1\", \"marker\": {\"color\": \"#EF553B\", \"symbol\": \"circle\"}, \"mode\": \"markers\", \"name\": \"wide_variable_1\", \"orientation\": \"v\", \"showlegend\": true, \"type\": \"scatter\", \"x\": [0, 1, 2, 3, 4, 5, 6, 7, 8, 9, 10, 11, 12, 13, 14, 15, 16, 17, 18, 19, 20, 21, 22, 23, 24, 25, 26, 27, 28, 29, 30, 31, 32, 33, 34, 35, 36, 37, 38, 39, 40, 41, 42, 43, 44, 45, 46, 47, 48, 49, 50, 51, 52, 53, 54, 55, 56, 57, 58, 59, 60, 61, 62, 63, 64, 65, 66, 67, 68, 69, 70, 71, 72, 73, 74, 75, 76, 77, 78, 79, 80, 81, 82, 83, 84, 85, 86, 87, 88, 89, 90, 91, 92, 93, 94, 95, 96, 97, 98, 99, 100, 101, 102, 103, 104, 105, 106, 107, 108, 109, 110, 111, 112, 113, 114, 115, 116, 117, 118, 119, 120, 121, 122, 123], \"xaxis\": \"x\", \"y\": [0.106039412140135, 0.06521785477816, -0.004399464291748, -0.0031844036766112897, 0.037562557252513, -0.0594637921340835, -0.0183053822281976, 0.0980611459027024, -0.0430187784148828, 0.0538087738618379, -0.107933235761886, -0.0114377128051263, 0.0391079361981341, 0.0727715030719605, 0.0192915851515999, -0.007734360756535009, -0.0454173469988564, 0.0785915179041593, 0.0361093027056911, -0.0105815826097926, 0.0857164277740816, 0.0572546213514705, -0.0688891823189553, 0.0114596154278772, 0.0783654038927575, 0.066358972060522, 0.0208990177695049, -0.137115297033866, 0.0156172902321442, -0.0177812740238417, -0.0564880260378318, -0.0026786776458018803, -0.0338378975242213, -0.256142720380728, -0.00684101878435677, -0.0918822135003576, -0.0474866333052684, -0.0189046450454139, 0.0169740368671499, -0.0378385331957417, -0.0215109014703824, -0.0786846496375569, -0.089950493985065, 0.0242317772445913, -0.0798279587463118, -0.0561721187820339, -0.0629564633806749, 0.0554620024115496, -0.10973477473028001, 0.0549149135120433, -0.00330911810470405, -0.0425310794030861, 0.00343947976742972, 0.0377505600572558, 0.0229678574490893, 0.0161043728293765, -0.105343130093718, -0.00997168608900377, 0.0346729997575843, -0.10082793252549199, -0.0032379121551334104, -0.0737757905866874, -0.0578603416950295, 0.0060995036624745, -0.0010437565148827, 0.0172704365769281, 0.0217120178697539, -0.0189070548696905, -0.0023676015888738897, -0.10293618640513601, 0.054633566654237, 0.0809034420798704, 0.0505074834979319, 0.0109970575589052, -0.0201640913565209, 0.0197911669719884, 0.10760336367800201, -0.0953067898831284, 0.0127158279335449, -0.0879299232518779, 0.0337475240719632, 0.0294298093071234, -0.0508544564040558, -0.0430072802586381, -0.00949174857091432, 0.00957252940953021, 0.0131248952185619, 0.0825694544628294, 0.0559785128209545, 0.00372231827392765, 0.0329810401895892, -0.04252459598035701, 0.0718759470800733, 0.0939022068688582, -0.0145276135904549, 0.0384668259431337, 0.0286416052802563, -0.0395822205872374, -0.0742552786230123, -0.0951313187600025, 0.0110860485252388, 0.0269023066976898, -0.0773581764618903, 0.0392419412770702, 0.0835299504490291, 0.0671986276988443, 0.0823973390257787, -0.117061828377013, -0.00495675222087029, 0.0618777983773445, 0.101222901143372, 0.0606271010195033, -0.0819193923475441, -0.00429034130166789, 0.051539511649676, 0.0144034031373898, 0.0817193109583082, -0.00243186192438948, 0.0519611133189414, 0.0222608416730319, -0.0260896229419643, 0.0397841750931153, 0.0389154896127699, 0.07552908964051899], \"yaxis\": \"y\"}],\n",
       "                        {\"legend\": {\"title\": {\"text\": \"variable\"}, \"tracegroupgap\": 0}, \"margin\": {\"t\": 60}, \"template\": {\"data\": {\"bar\": [{\"error_x\": {\"color\": \"#2a3f5f\"}, \"error_y\": {\"color\": \"#2a3f5f\"}, \"marker\": {\"line\": {\"color\": \"#E5ECF6\", \"width\": 0.5}}, \"type\": \"bar\"}], \"barpolar\": [{\"marker\": {\"line\": {\"color\": \"#E5ECF6\", \"width\": 0.5}}, \"type\": \"barpolar\"}], \"carpet\": [{\"aaxis\": {\"endlinecolor\": \"#2a3f5f\", \"gridcolor\": \"white\", \"linecolor\": \"white\", \"minorgridcolor\": \"white\", \"startlinecolor\": \"#2a3f5f\"}, \"baxis\": {\"endlinecolor\": \"#2a3f5f\", \"gridcolor\": \"white\", \"linecolor\": \"white\", \"minorgridcolor\": \"white\", \"startlinecolor\": \"#2a3f5f\"}, \"type\": \"carpet\"}], \"choropleth\": [{\"colorbar\": {\"outlinewidth\": 0, \"ticks\": \"\"}, \"type\": \"choropleth\"}], \"contour\": [{\"colorbar\": {\"outlinewidth\": 0, \"ticks\": \"\"}, \"colorscale\": [[0.0, \"#0d0887\"], [0.1111111111111111, \"#46039f\"], [0.2222222222222222, \"#7201a8\"], [0.3333333333333333, \"#9c179e\"], [0.4444444444444444, \"#bd3786\"], [0.5555555555555556, \"#d8576b\"], [0.6666666666666666, \"#ed7953\"], [0.7777777777777778, \"#fb9f3a\"], [0.8888888888888888, \"#fdca26\"], [1.0, \"#f0f921\"]], \"type\": \"contour\"}], \"contourcarpet\": [{\"colorbar\": {\"outlinewidth\": 0, \"ticks\": \"\"}, \"type\": \"contourcarpet\"}], \"heatmap\": [{\"colorbar\": {\"outlinewidth\": 0, \"ticks\": \"\"}, \"colorscale\": [[0.0, \"#0d0887\"], [0.1111111111111111, \"#46039f\"], [0.2222222222222222, \"#7201a8\"], [0.3333333333333333, \"#9c179e\"], [0.4444444444444444, \"#bd3786\"], [0.5555555555555556, \"#d8576b\"], [0.6666666666666666, \"#ed7953\"], [0.7777777777777778, \"#fb9f3a\"], [0.8888888888888888, \"#fdca26\"], [1.0, \"#f0f921\"]], \"type\": \"heatmap\"}], \"heatmapgl\": [{\"colorbar\": {\"outlinewidth\": 0, \"ticks\": \"\"}, \"colorscale\": [[0.0, \"#0d0887\"], [0.1111111111111111, \"#46039f\"], [0.2222222222222222, \"#7201a8\"], [0.3333333333333333, \"#9c179e\"], [0.4444444444444444, \"#bd3786\"], [0.5555555555555556, \"#d8576b\"], [0.6666666666666666, \"#ed7953\"], [0.7777777777777778, \"#fb9f3a\"], [0.8888888888888888, \"#fdca26\"], [1.0, \"#f0f921\"]], \"type\": \"heatmapgl\"}], \"histogram\": [{\"marker\": {\"colorbar\": {\"outlinewidth\": 0, \"ticks\": \"\"}}, \"type\": \"histogram\"}], \"histogram2d\": [{\"colorbar\": {\"outlinewidth\": 0, \"ticks\": \"\"}, \"colorscale\": [[0.0, \"#0d0887\"], [0.1111111111111111, \"#46039f\"], [0.2222222222222222, \"#7201a8\"], [0.3333333333333333, \"#9c179e\"], [0.4444444444444444, \"#bd3786\"], [0.5555555555555556, \"#d8576b\"], [0.6666666666666666, \"#ed7953\"], [0.7777777777777778, \"#fb9f3a\"], [0.8888888888888888, \"#fdca26\"], [1.0, \"#f0f921\"]], \"type\": \"histogram2d\"}], \"histogram2dcontour\": [{\"colorbar\": {\"outlinewidth\": 0, \"ticks\": \"\"}, \"colorscale\": [[0.0, \"#0d0887\"], [0.1111111111111111, \"#46039f\"], [0.2222222222222222, \"#7201a8\"], [0.3333333333333333, \"#9c179e\"], [0.4444444444444444, \"#bd3786\"], [0.5555555555555556, \"#d8576b\"], [0.6666666666666666, \"#ed7953\"], [0.7777777777777778, \"#fb9f3a\"], [0.8888888888888888, \"#fdca26\"], [1.0, \"#f0f921\"]], \"type\": \"histogram2dcontour\"}], \"mesh3d\": [{\"colorbar\": {\"outlinewidth\": 0, \"ticks\": \"\"}, \"type\": \"mesh3d\"}], \"parcoords\": [{\"line\": {\"colorbar\": {\"outlinewidth\": 0, \"ticks\": \"\"}}, \"type\": \"parcoords\"}], \"pie\": [{\"automargin\": true, \"type\": \"pie\"}], \"scatter\": [{\"marker\": {\"colorbar\": {\"outlinewidth\": 0, \"ticks\": \"\"}}, \"type\": \"scatter\"}], \"scatter3d\": [{\"line\": {\"colorbar\": {\"outlinewidth\": 0, \"ticks\": \"\"}}, \"marker\": {\"colorbar\": {\"outlinewidth\": 0, \"ticks\": \"\"}}, \"type\": \"scatter3d\"}], \"scattercarpet\": [{\"marker\": {\"colorbar\": {\"outlinewidth\": 0, \"ticks\": \"\"}}, \"type\": \"scattercarpet\"}], \"scattergeo\": [{\"marker\": {\"colorbar\": {\"outlinewidth\": 0, \"ticks\": \"\"}}, \"type\": \"scattergeo\"}], \"scattergl\": [{\"marker\": {\"colorbar\": {\"outlinewidth\": 0, \"ticks\": \"\"}}, \"type\": \"scattergl\"}], \"scattermapbox\": [{\"marker\": {\"colorbar\": {\"outlinewidth\": 0, \"ticks\": \"\"}}, \"type\": \"scattermapbox\"}], \"scatterpolar\": [{\"marker\": {\"colorbar\": {\"outlinewidth\": 0, \"ticks\": \"\"}}, \"type\": \"scatterpolar\"}], \"scatterpolargl\": [{\"marker\": {\"colorbar\": {\"outlinewidth\": 0, \"ticks\": \"\"}}, \"type\": \"scatterpolargl\"}], \"scatterternary\": [{\"marker\": {\"colorbar\": {\"outlinewidth\": 0, \"ticks\": \"\"}}, \"type\": \"scatterternary\"}], \"surface\": [{\"colorbar\": {\"outlinewidth\": 0, \"ticks\": \"\"}, \"colorscale\": [[0.0, \"#0d0887\"], [0.1111111111111111, \"#46039f\"], [0.2222222222222222, \"#7201a8\"], [0.3333333333333333, \"#9c179e\"], [0.4444444444444444, \"#bd3786\"], [0.5555555555555556, \"#d8576b\"], [0.6666666666666666, \"#ed7953\"], [0.7777777777777778, \"#fb9f3a\"], [0.8888888888888888, \"#fdca26\"], [1.0, \"#f0f921\"]], \"type\": \"surface\"}], \"table\": [{\"cells\": {\"fill\": {\"color\": \"#EBF0F8\"}, \"line\": {\"color\": \"white\"}}, \"header\": {\"fill\": {\"color\": \"#C8D4E3\"}, \"line\": {\"color\": \"white\"}}, \"type\": \"table\"}]}, \"layout\": {\"annotationdefaults\": {\"arrowcolor\": \"#2a3f5f\", \"arrowhead\": 0, \"arrowwidth\": 1}, \"coloraxis\": {\"colorbar\": {\"outlinewidth\": 0, \"ticks\": \"\"}}, \"colorscale\": {\"diverging\": [[0, \"#8e0152\"], [0.1, \"#c51b7d\"], [0.2, \"#de77ae\"], [0.3, \"#f1b6da\"], [0.4, \"#fde0ef\"], [0.5, \"#f7f7f7\"], [0.6, \"#e6f5d0\"], [0.7, \"#b8e186\"], [0.8, \"#7fbc41\"], [0.9, \"#4d9221\"], [1, \"#276419\"]], \"sequential\": [[0.0, \"#0d0887\"], [0.1111111111111111, \"#46039f\"], [0.2222222222222222, \"#7201a8\"], [0.3333333333333333, \"#9c179e\"], [0.4444444444444444, \"#bd3786\"], [0.5555555555555556, \"#d8576b\"], [0.6666666666666666, \"#ed7953\"], [0.7777777777777778, \"#fb9f3a\"], [0.8888888888888888, \"#fdca26\"], [1.0, \"#f0f921\"]], \"sequentialminus\": [[0.0, \"#0d0887\"], [0.1111111111111111, \"#46039f\"], [0.2222222222222222, \"#7201a8\"], [0.3333333333333333, \"#9c179e\"], [0.4444444444444444, \"#bd3786\"], [0.5555555555555556, \"#d8576b\"], [0.6666666666666666, \"#ed7953\"], [0.7777777777777778, \"#fb9f3a\"], [0.8888888888888888, \"#fdca26\"], [1.0, \"#f0f921\"]]}, \"colorway\": [\"#636efa\", \"#EF553B\", \"#00cc96\", \"#ab63fa\", \"#FFA15A\", \"#19d3f3\", \"#FF6692\", \"#B6E880\", \"#FF97FF\", \"#FECB52\"], \"font\": {\"color\": \"#2a3f5f\"}, \"geo\": {\"bgcolor\": \"white\", \"lakecolor\": \"white\", \"landcolor\": \"#E5ECF6\", \"showlakes\": true, \"showland\": true, \"subunitcolor\": \"white\"}, \"hoverlabel\": {\"align\": \"left\"}, \"hovermode\": \"closest\", \"mapbox\": {\"style\": \"light\"}, \"paper_bgcolor\": \"white\", \"plot_bgcolor\": \"#E5ECF6\", \"polar\": {\"angularaxis\": {\"gridcolor\": \"white\", \"linecolor\": \"white\", \"ticks\": \"\"}, \"bgcolor\": \"#E5ECF6\", \"radialaxis\": {\"gridcolor\": \"white\", \"linecolor\": \"white\", \"ticks\": \"\"}}, \"scene\": {\"xaxis\": {\"backgroundcolor\": \"#E5ECF6\", \"gridcolor\": \"white\", \"gridwidth\": 2, \"linecolor\": \"white\", \"showbackground\": true, \"ticks\": \"\", \"zerolinecolor\": \"white\"}, \"yaxis\": {\"backgroundcolor\": \"#E5ECF6\", \"gridcolor\": \"white\", \"gridwidth\": 2, \"linecolor\": \"white\", \"showbackground\": true, \"ticks\": \"\", \"zerolinecolor\": \"white\"}, \"zaxis\": {\"backgroundcolor\": \"#E5ECF6\", \"gridcolor\": \"white\", \"gridwidth\": 2, \"linecolor\": \"white\", \"showbackground\": true, \"ticks\": \"\", \"zerolinecolor\": \"white\"}}, \"shapedefaults\": {\"line\": {\"color\": \"#2a3f5f\"}}, \"ternary\": {\"aaxis\": {\"gridcolor\": \"white\", \"linecolor\": \"white\", \"ticks\": \"\"}, \"baxis\": {\"gridcolor\": \"white\", \"linecolor\": \"white\", \"ticks\": \"\"}, \"bgcolor\": \"#E5ECF6\", \"caxis\": {\"gridcolor\": \"white\", \"linecolor\": \"white\", \"ticks\": \"\"}}, \"title\": {\"x\": 0.05}, \"xaxis\": {\"automargin\": true, \"gridcolor\": \"white\", \"linecolor\": \"white\", \"ticks\": \"\", \"title\": {\"standoff\": 15}, \"zerolinecolor\": \"white\", \"zerolinewidth\": 2}, \"yaxis\": {\"automargin\": true, \"gridcolor\": \"white\", \"linecolor\": \"white\", \"ticks\": \"\", \"title\": {\"standoff\": 15}, \"zerolinecolor\": \"white\", \"zerolinewidth\": 2}}}, \"xaxis\": {\"anchor\": \"y\", \"domain\": [0.0, 1.0], \"title\": {\"text\": \"index\"}}, \"yaxis\": {\"anchor\": \"x\", \"domain\": [0.0, 1.0], \"title\": {\"text\": \"value\"}}},\n",
       "                        {\"responsive\": true}\n",
       "                    ).then(function(){\n",
       "                            \n",
       "var gd = document.getElementById('5764c4bf-8a4e-4072-8148-15b47d4a7938');\n",
       "var x = new MutationObserver(function (mutations, observer) {{\n",
       "        var display = window.getComputedStyle(gd).display;\n",
       "        if (!display || display === 'none') {{\n",
       "            console.log([gd, 'removed!']);\n",
       "            Plotly.purge(gd);\n",
       "            observer.disconnect();\n",
       "        }}\n",
       "}});\n",
       "\n",
       "// Listen for the removal of the full notebook cells\n",
       "var notebookContainer = gd.closest('#notebook-container');\n",
       "if (notebookContainer) {{\n",
       "    x.observe(notebookContainer, {childList: true});\n",
       "}}\n",
       "\n",
       "// Listen for the clearing of the current output cell\n",
       "var outputEl = gd.closest('.output');\n",
       "if (outputEl) {{\n",
       "    x.observe(outputEl, {childList: true});\n",
       "}}\n",
       "\n",
       "                        })\n",
       "                };\n",
       "                });\n",
       "            </script>\n",
       "        </div>"
      ]
     },
     "metadata": {},
     "output_type": "display_data"
    }
   ],
   "source": [
    "px.scatter(y=[mds.samples[\"PC1\"], mds_coords['MDS1']], title=\"\")"
   ]
  },
  {
   "cell_type": "code",
   "execution_count": 15,
   "metadata": {},
   "outputs": [
    {
     "data": {
      "text/html": [
       "<div>\n",
       "        \n",
       "        \n",
       "            <div id=\"b2d314b7-266f-4fde-b0a4-a9c0f5a3a1f2\" class=\"plotly-graph-div\" style=\"height:525px; width:100%;\"></div>\n",
       "            <script type=\"text/javascript\">\n",
       "                require([\"plotly\"], function(Plotly) {\n",
       "                    window.PLOTLYENV=window.PLOTLYENV || {};\n",
       "                    \n",
       "                if (document.getElementById(\"b2d314b7-266f-4fde-b0a4-a9c0f5a3a1f2\")) {\n",
       "                    Plotly.newPlot(\n",
       "                        'b2d314b7-266f-4fde-b0a4-a9c0f5a3a1f2',\n",
       "                        [{\"hovertemplate\": \"x=%{x}<br>y=%{y}<extra></extra>\", \"legendgroup\": \"\", \"marker\": {\"color\": \"#636efa\", \"symbol\": \"circle\"}, \"mode\": \"markers\", \"name\": \"\", \"orientation\": \"v\", \"showlegend\": false, \"type\": \"scatter\", \"x\": [-0.10361314533661133, -0.06367202110677977, -0.004846420642975659, 0.006321494964815237, -0.031221174637926296, 0.052428428327648845, 0.019286351958140397, -0.10603501267131746, 0.0445083819446648, -0.052862951198750736, 0.1090629687773936, 0.013657325023541899, -0.044253862585526264, -0.07055535432651568, -0.022998588871325297, 0.00982160357350982, 0.04629098651342405, -0.07559685368905066, -0.032666704533343985, 0.005939691758774859, -0.09232916787395666, -0.0528007293113338, 0.06689154700400722, -0.009379283188725149, -0.07336631948971391, -0.061257189716750676, -0.02033917967490583, 0.14352795073943, -0.024847140737365037, 0.020905608015686323, 0.060833431238276246, 0.0046616648576634865, 0.038643041875392775, 0.25978230921428813, 0.010264583277591133, 0.09438507157170524, 0.05192375094514615, 0.019226166129496902, -0.015323331688041288, 0.047557689795415574, 0.020393282098597438, 0.0792330312641623, 0.09235762836086579, -0.0215624026792953, 0.0800141880880184, 0.05985268252366446, 0.061551270215774626, -0.053047438602353246, 0.11049479767193454, -0.050780941079230625, 0.006978785267688071, 0.04500744827745368, 0.002269966972154079, -0.04689415140559627, -0.019492648931043122, -0.01398618682065435, 0.10474896607312743, 0.011171777593454276, -0.03020401670002587, 0.10194020430958996, -0.0014966722421693947, 0.07485193441004108, 0.05890125323051334, -0.006202735480312803, -0.004249140223556182, -0.012377228887645078, -0.018445923564416333, 0.016325475574204232, 0.00225223639797541, 0.09563677849658199, -0.052196060436928274, -0.07789395057216998, -0.054368630394233265, -0.013990486574097186, 0.015729152822427036, -0.01679997417580945, -0.10608718464839885, 0.09582738574569699, -0.02118228266217966, 0.08778908023932043, -0.031948957766094174, -0.03468247047709108, 0.05052185406885785, 0.036726346589047526, 0.010330795291624803, -0.00923440945793888, -0.010242338650020777, -0.07813912609842698, -0.06504661048638127, -0.0014165674400633931, -0.03984412223815591, 0.043618997448046926, -0.06958647287920403, -0.09229224348407604, 0.01757777931190881, -0.04969455637767847, -0.027237886049120717, 0.03868148236682226, 0.07674384354479634, 0.09666292201745305, -0.021290915004851772, -0.023877133402496545, 0.07737711406869421, -0.03900931172437513, -0.0876449056095244, -0.06466088364265184, -0.08791065162472167, 0.12126543909151753, -5.823626184274919e-05, -0.059395310431480615, -0.10976690089369585, -0.05793986384739019, 0.0815643617232266, 0.005171913048356256, -0.05368544416384233, -0.020208372215691803, -0.08701915907016818, 0.003157529133515007, -0.055419249241604275, -0.021449501844720862, 0.02841322979773599, -0.0438271930887417, -0.03672689634372271, -0.07858280346406013], \"xaxis\": \"x\", \"y\": [0.106039412140135, 0.06521785477816, -0.004399464291748, -0.0031844036766112897, 0.037562557252513, -0.0594637921340835, -0.0183053822281976, 0.0980611459027024, -0.0430187784148828, 0.0538087738618379, -0.107933235761886, -0.0114377128051263, 0.0391079361981341, 0.0727715030719605, 0.0192915851515999, -0.007734360756535009, -0.0454173469988564, 0.0785915179041593, 0.0361093027056911, -0.0105815826097926, 0.0857164277740816, 0.0572546213514705, -0.0688891823189553, 0.0114596154278772, 0.0783654038927575, 0.066358972060522, 0.0208990177695049, -0.137115297033866, 0.0156172902321442, -0.0177812740238417, -0.0564880260378318, -0.0026786776458018803, -0.0338378975242213, -0.256142720380728, -0.00684101878435677, -0.0918822135003576, -0.0474866333052684, -0.0189046450454139, 0.0169740368671499, -0.0378385331957417, -0.0215109014703824, -0.0786846496375569, -0.089950493985065, 0.0242317772445913, -0.0798279587463118, -0.0561721187820339, -0.0629564633806749, 0.0554620024115496, -0.10973477473028001, 0.0549149135120433, -0.00330911810470405, -0.0425310794030861, 0.00343947976742972, 0.0377505600572558, 0.0229678574490893, 0.0161043728293765, -0.105343130093718, -0.00997168608900377, 0.0346729997575843, -0.10082793252549199, -0.0032379121551334104, -0.0737757905866874, -0.0578603416950295, 0.0060995036624745, -0.0010437565148827, 0.0172704365769281, 0.0217120178697539, -0.0189070548696905, -0.0023676015888738897, -0.10293618640513601, 0.054633566654237, 0.0809034420798704, 0.0505074834979319, 0.0109970575589052, -0.0201640913565209, 0.0197911669719884, 0.10760336367800201, -0.0953067898831284, 0.0127158279335449, -0.0879299232518779, 0.0337475240719632, 0.0294298093071234, -0.0508544564040558, -0.0430072802586381, -0.00949174857091432, 0.00957252940953021, 0.0131248952185619, 0.0825694544628294, 0.0559785128209545, 0.00372231827392765, 0.0329810401895892, -0.04252459598035701, 0.0718759470800733, 0.0939022068688582, -0.0145276135904549, 0.0384668259431337, 0.0286416052802563, -0.0395822205872374, -0.0742552786230123, -0.0951313187600025, 0.0110860485252388, 0.0269023066976898, -0.0773581764618903, 0.0392419412770702, 0.0835299504490291, 0.0671986276988443, 0.0823973390257787, -0.117061828377013, -0.00495675222087029, 0.0618777983773445, 0.101222901143372, 0.0606271010195033, -0.0819193923475441, -0.00429034130166789, 0.051539511649676, 0.0144034031373898, 0.0817193109583082, -0.00243186192438948, 0.0519611133189414, 0.0222608416730319, -0.0260896229419643, 0.0397841750931153, 0.0389154896127699, 0.07552908964051899], \"yaxis\": \"y\"}],\n",
       "                        {\"legend\": {\"tracegroupgap\": 0}, \"margin\": {\"t\": 60}, \"template\": {\"data\": {\"bar\": [{\"error_x\": {\"color\": \"#2a3f5f\"}, \"error_y\": {\"color\": \"#2a3f5f\"}, \"marker\": {\"line\": {\"color\": \"#E5ECF6\", \"width\": 0.5}}, \"type\": \"bar\"}], \"barpolar\": [{\"marker\": {\"line\": {\"color\": \"#E5ECF6\", \"width\": 0.5}}, \"type\": \"barpolar\"}], \"carpet\": [{\"aaxis\": {\"endlinecolor\": \"#2a3f5f\", \"gridcolor\": \"white\", \"linecolor\": \"white\", \"minorgridcolor\": \"white\", \"startlinecolor\": \"#2a3f5f\"}, \"baxis\": {\"endlinecolor\": \"#2a3f5f\", \"gridcolor\": \"white\", \"linecolor\": \"white\", \"minorgridcolor\": \"white\", \"startlinecolor\": \"#2a3f5f\"}, \"type\": \"carpet\"}], \"choropleth\": [{\"colorbar\": {\"outlinewidth\": 0, \"ticks\": \"\"}, \"type\": \"choropleth\"}], \"contour\": [{\"colorbar\": {\"outlinewidth\": 0, \"ticks\": \"\"}, \"colorscale\": [[0.0, \"#0d0887\"], [0.1111111111111111, \"#46039f\"], [0.2222222222222222, \"#7201a8\"], [0.3333333333333333, \"#9c179e\"], [0.4444444444444444, \"#bd3786\"], [0.5555555555555556, \"#d8576b\"], [0.6666666666666666, \"#ed7953\"], [0.7777777777777778, \"#fb9f3a\"], [0.8888888888888888, \"#fdca26\"], [1.0, \"#f0f921\"]], \"type\": \"contour\"}], \"contourcarpet\": [{\"colorbar\": {\"outlinewidth\": 0, \"ticks\": \"\"}, \"type\": \"contourcarpet\"}], \"heatmap\": [{\"colorbar\": {\"outlinewidth\": 0, \"ticks\": \"\"}, \"colorscale\": [[0.0, \"#0d0887\"], [0.1111111111111111, \"#46039f\"], [0.2222222222222222, \"#7201a8\"], [0.3333333333333333, \"#9c179e\"], [0.4444444444444444, \"#bd3786\"], [0.5555555555555556, \"#d8576b\"], [0.6666666666666666, \"#ed7953\"], [0.7777777777777778, \"#fb9f3a\"], [0.8888888888888888, \"#fdca26\"], [1.0, \"#f0f921\"]], \"type\": \"heatmap\"}], \"heatmapgl\": [{\"colorbar\": {\"outlinewidth\": 0, \"ticks\": \"\"}, \"colorscale\": [[0.0, \"#0d0887\"], [0.1111111111111111, \"#46039f\"], [0.2222222222222222, \"#7201a8\"], [0.3333333333333333, \"#9c179e\"], [0.4444444444444444, \"#bd3786\"], [0.5555555555555556, \"#d8576b\"], [0.6666666666666666, \"#ed7953\"], [0.7777777777777778, \"#fb9f3a\"], [0.8888888888888888, \"#fdca26\"], [1.0, \"#f0f921\"]], \"type\": \"heatmapgl\"}], \"histogram\": [{\"marker\": {\"colorbar\": {\"outlinewidth\": 0, \"ticks\": \"\"}}, \"type\": \"histogram\"}], \"histogram2d\": [{\"colorbar\": {\"outlinewidth\": 0, \"ticks\": \"\"}, \"colorscale\": [[0.0, \"#0d0887\"], [0.1111111111111111, \"#46039f\"], [0.2222222222222222, \"#7201a8\"], [0.3333333333333333, \"#9c179e\"], [0.4444444444444444, \"#bd3786\"], [0.5555555555555556, \"#d8576b\"], [0.6666666666666666, \"#ed7953\"], [0.7777777777777778, \"#fb9f3a\"], [0.8888888888888888, \"#fdca26\"], [1.0, \"#f0f921\"]], \"type\": \"histogram2d\"}], \"histogram2dcontour\": [{\"colorbar\": {\"outlinewidth\": 0, \"ticks\": \"\"}, \"colorscale\": [[0.0, \"#0d0887\"], [0.1111111111111111, \"#46039f\"], [0.2222222222222222, \"#7201a8\"], [0.3333333333333333, \"#9c179e\"], [0.4444444444444444, \"#bd3786\"], [0.5555555555555556, \"#d8576b\"], [0.6666666666666666, \"#ed7953\"], [0.7777777777777778, \"#fb9f3a\"], [0.8888888888888888, \"#fdca26\"], [1.0, \"#f0f921\"]], \"type\": \"histogram2dcontour\"}], \"mesh3d\": [{\"colorbar\": {\"outlinewidth\": 0, \"ticks\": \"\"}, \"type\": \"mesh3d\"}], \"parcoords\": [{\"line\": {\"colorbar\": {\"outlinewidth\": 0, \"ticks\": \"\"}}, \"type\": \"parcoords\"}], \"pie\": [{\"automargin\": true, \"type\": \"pie\"}], \"scatter\": [{\"marker\": {\"colorbar\": {\"outlinewidth\": 0, \"ticks\": \"\"}}, \"type\": \"scatter\"}], \"scatter3d\": [{\"line\": {\"colorbar\": {\"outlinewidth\": 0, \"ticks\": \"\"}}, \"marker\": {\"colorbar\": {\"outlinewidth\": 0, \"ticks\": \"\"}}, \"type\": \"scatter3d\"}], \"scattercarpet\": [{\"marker\": {\"colorbar\": {\"outlinewidth\": 0, \"ticks\": \"\"}}, \"type\": \"scattercarpet\"}], \"scattergeo\": [{\"marker\": {\"colorbar\": {\"outlinewidth\": 0, \"ticks\": \"\"}}, \"type\": \"scattergeo\"}], \"scattergl\": [{\"marker\": {\"colorbar\": {\"outlinewidth\": 0, \"ticks\": \"\"}}, \"type\": \"scattergl\"}], \"scattermapbox\": [{\"marker\": {\"colorbar\": {\"outlinewidth\": 0, \"ticks\": \"\"}}, \"type\": \"scattermapbox\"}], \"scatterpolar\": [{\"marker\": {\"colorbar\": {\"outlinewidth\": 0, \"ticks\": \"\"}}, \"type\": \"scatterpolar\"}], \"scatterpolargl\": [{\"marker\": {\"colorbar\": {\"outlinewidth\": 0, \"ticks\": \"\"}}, \"type\": \"scatterpolargl\"}], \"scatterternary\": [{\"marker\": {\"colorbar\": {\"outlinewidth\": 0, \"ticks\": \"\"}}, \"type\": \"scatterternary\"}], \"surface\": [{\"colorbar\": {\"outlinewidth\": 0, \"ticks\": \"\"}, \"colorscale\": [[0.0, \"#0d0887\"], [0.1111111111111111, \"#46039f\"], [0.2222222222222222, \"#7201a8\"], [0.3333333333333333, \"#9c179e\"], [0.4444444444444444, \"#bd3786\"], [0.5555555555555556, \"#d8576b\"], [0.6666666666666666, \"#ed7953\"], [0.7777777777777778, \"#fb9f3a\"], [0.8888888888888888, \"#fdca26\"], [1.0, \"#f0f921\"]], \"type\": \"surface\"}], \"table\": [{\"cells\": {\"fill\": {\"color\": \"#EBF0F8\"}, \"line\": {\"color\": \"white\"}}, \"header\": {\"fill\": {\"color\": \"#C8D4E3\"}, \"line\": {\"color\": \"white\"}}, \"type\": \"table\"}]}, \"layout\": {\"annotationdefaults\": {\"arrowcolor\": \"#2a3f5f\", \"arrowhead\": 0, \"arrowwidth\": 1}, \"coloraxis\": {\"colorbar\": {\"outlinewidth\": 0, \"ticks\": \"\"}}, \"colorscale\": {\"diverging\": [[0, \"#8e0152\"], [0.1, \"#c51b7d\"], [0.2, \"#de77ae\"], [0.3, \"#f1b6da\"], [0.4, \"#fde0ef\"], [0.5, \"#f7f7f7\"], [0.6, \"#e6f5d0\"], [0.7, \"#b8e186\"], [0.8, \"#7fbc41\"], [0.9, \"#4d9221\"], [1, \"#276419\"]], \"sequential\": [[0.0, \"#0d0887\"], [0.1111111111111111, \"#46039f\"], [0.2222222222222222, \"#7201a8\"], [0.3333333333333333, \"#9c179e\"], [0.4444444444444444, \"#bd3786\"], [0.5555555555555556, \"#d8576b\"], [0.6666666666666666, \"#ed7953\"], [0.7777777777777778, \"#fb9f3a\"], [0.8888888888888888, \"#fdca26\"], [1.0, \"#f0f921\"]], \"sequentialminus\": [[0.0, \"#0d0887\"], [0.1111111111111111, \"#46039f\"], [0.2222222222222222, \"#7201a8\"], [0.3333333333333333, \"#9c179e\"], [0.4444444444444444, \"#bd3786\"], [0.5555555555555556, \"#d8576b\"], [0.6666666666666666, \"#ed7953\"], [0.7777777777777778, \"#fb9f3a\"], [0.8888888888888888, \"#fdca26\"], [1.0, \"#f0f921\"]]}, \"colorway\": [\"#636efa\", \"#EF553B\", \"#00cc96\", \"#ab63fa\", \"#FFA15A\", \"#19d3f3\", \"#FF6692\", \"#B6E880\", \"#FF97FF\", \"#FECB52\"], \"font\": {\"color\": \"#2a3f5f\"}, \"geo\": {\"bgcolor\": \"white\", \"lakecolor\": \"white\", \"landcolor\": \"#E5ECF6\", \"showlakes\": true, \"showland\": true, \"subunitcolor\": \"white\"}, \"hoverlabel\": {\"align\": \"left\"}, \"hovermode\": \"closest\", \"mapbox\": {\"style\": \"light\"}, \"paper_bgcolor\": \"white\", \"plot_bgcolor\": \"#E5ECF6\", \"polar\": {\"angularaxis\": {\"gridcolor\": \"white\", \"linecolor\": \"white\", \"ticks\": \"\"}, \"bgcolor\": \"#E5ECF6\", \"radialaxis\": {\"gridcolor\": \"white\", \"linecolor\": \"white\", \"ticks\": \"\"}}, \"scene\": {\"xaxis\": {\"backgroundcolor\": \"#E5ECF6\", \"gridcolor\": \"white\", \"gridwidth\": 2, \"linecolor\": \"white\", \"showbackground\": true, \"ticks\": \"\", \"zerolinecolor\": \"white\"}, \"yaxis\": {\"backgroundcolor\": \"#E5ECF6\", \"gridcolor\": \"white\", \"gridwidth\": 2, \"linecolor\": \"white\", \"showbackground\": true, \"ticks\": \"\", \"zerolinecolor\": \"white\"}, \"zaxis\": {\"backgroundcolor\": \"#E5ECF6\", \"gridcolor\": \"white\", \"gridwidth\": 2, \"linecolor\": \"white\", \"showbackground\": true, \"ticks\": \"\", \"zerolinecolor\": \"white\"}}, \"shapedefaults\": {\"line\": {\"color\": \"#2a3f5f\"}}, \"ternary\": {\"aaxis\": {\"gridcolor\": \"white\", \"linecolor\": \"white\", \"ticks\": \"\"}, \"baxis\": {\"gridcolor\": \"white\", \"linecolor\": \"white\", \"ticks\": \"\"}, \"bgcolor\": \"#E5ECF6\", \"caxis\": {\"gridcolor\": \"white\", \"linecolor\": \"white\", \"ticks\": \"\"}}, \"title\": {\"x\": 0.05}, \"xaxis\": {\"automargin\": true, \"gridcolor\": \"white\", \"linecolor\": \"white\", \"ticks\": \"\", \"title\": {\"standoff\": 15}, \"zerolinecolor\": \"white\", \"zerolinewidth\": 2}, \"yaxis\": {\"automargin\": true, \"gridcolor\": \"white\", \"linecolor\": \"white\", \"ticks\": \"\", \"title\": {\"standoff\": 15}, \"zerolinecolor\": \"white\", \"zerolinewidth\": 2}}}, \"xaxis\": {\"anchor\": \"y\", \"domain\": [0.0, 1.0], \"title\": {\"text\": \"x\"}}, \"yaxis\": {\"anchor\": \"x\", \"domain\": [0.0, 1.0], \"title\": {\"text\": \"y\"}}},\n",
       "                        {\"responsive\": true}\n",
       "                    ).then(function(){\n",
       "                            \n",
       "var gd = document.getElementById('b2d314b7-266f-4fde-b0a4-a9c0f5a3a1f2');\n",
       "var x = new MutationObserver(function (mutations, observer) {{\n",
       "        var display = window.getComputedStyle(gd).display;\n",
       "        if (!display || display === 'none') {{\n",
       "            console.log([gd, 'removed!']);\n",
       "            Plotly.purge(gd);\n",
       "            observer.disconnect();\n",
       "        }}\n",
       "}});\n",
       "\n",
       "// Listen for the removal of the full notebook cells\n",
       "var notebookContainer = gd.closest('#notebook-container');\n",
       "if (notebookContainer) {{\n",
       "    x.observe(notebookContainer, {childList: true});\n",
       "}}\n",
       "\n",
       "// Listen for the clearing of the current output cell\n",
       "var outputEl = gd.closest('.output');\n",
       "if (outputEl) {{\n",
       "    x.observe(outputEl, {childList: true});\n",
       "}}\n",
       "\n",
       "                        })\n",
       "                };\n",
       "                });\n",
       "            </script>\n",
       "        </div>"
      ]
     },
     "metadata": {},
     "output_type": "display_data"
    }
   ],
   "source": [
    "px.scatter(x=mds.samples[\"PC1\"], y=mds_coords['MDS1'])"
   ]
  },
  {
   "cell_type": "markdown",
   "metadata": {},
   "source": [
    "# Some looks at other methods of clustering / comparing"
   ]
  },
  {
   "cell_type": "code",
   "execution_count": 16,
   "metadata": {},
   "outputs": [
    {
     "data": {
      "text/html": [
       "<div>\n",
       "        \n",
       "        \n",
       "            <div id=\"c4a45368-8adc-4baa-b57c-679cfa9b5aa2\" class=\"plotly-graph-div\" style=\"height:525px; width:100%;\"></div>\n",
       "            <script type=\"text/javascript\">\n",
       "                require([\"plotly\"], function(Plotly) {\n",
       "                    window.PLOTLYENV=window.PLOTLYENV || {};\n",
       "                    \n",
       "                if (document.getElementById(\"c4a45368-8adc-4baa-b57c-679cfa9b5aa2\")) {\n",
       "                    Plotly.newPlot(\n",
       "                        'c4a45368-8adc-4baa-b57c-679cfa9b5aa2',\n",
       "                        [{\"hovertemplate\": \"variable=wide_variable_0<br>index=%{x}<br>value=%{y}<extra></extra>\", \"legendgroup\": \"wide_variable_0\", \"marker\": {\"color\": \"#636efa\", \"symbol\": \"circle\"}, \"mode\": \"markers\", \"name\": \"wide_variable_0\", \"orientation\": \"v\", \"showlegend\": true, \"type\": \"scatter\", \"x\": [0, 1, 2, 3, 4, 5, 6, 7, 8, 9, 10, 11, 12, 13, 14, 15, 16, 17, 18, 19, 20, 21, 22, 23, 24, 25, 26, 27, 28, 29, 30, 31, 32, 33, 34, 35, 36, 37, 38, 39, 40, 41, 42, 43, 44, 45, 46, 47, 48, 49, 50, 51, 52, 53, 54, 55, 56, 57, 58, 59, 60, 61, 62, 63, 64, 65, 66, 67, 68, 69, 70, 71, 72, 73, 74, 75, 76, 77, 78, 79, 80, 81, 82, 83, 84, 85, 86, 87, 88, 89, 90, 91, 92, 93, 94, 95, 96, 97, 98, 99, 100, 101, 102, 103, 104, 105, 106, 107, 108, 109, 110, 111, 112, 113, 114, 115, 116, 117, 118, 119, 120, 121, 122, 123], \"xaxis\": \"x\", \"y\": [0.03757401856977626, 0.0827778050417959, 0.009545451664509992, 0.0907003422443356, -0.0013615975366203538, -0.03862081712666685, 0.11307109748668247, 0.05952068013182605, -0.0029121251344343376, 0.015111882486155007, -0.09344661673188022, 0.016189672310633313, -0.04901922207918538, -0.01890044087057482, -0.030719561162153904, -0.06999774682861873, 0.018946460135445663, 0.11845835062730278, 0.07072525337826373, 0.09458763200316377, -0.05479229181930023, 0.008281675643377581, -0.020980100930072413, 0.06020958141768218, 0.12074849381157696, 0.004187696395964469, 0.1337892585128642, -0.11424975204015748, 0.030736234744745967, -0.05170147367297565, 0.1148527004126537, -0.11633572194323472, 0.07890703254602098, -0.015837619622988925, -0.11725761880655178, -0.09869225844932107, 0.07173761549875857, -0.025873603364690734, -0.006087008528792469, 0.1311079038150215, -0.10073029265601828, -0.0979971410624022, -0.08549478490424317, 0.0277819977917736, -0.05744353681881092, -0.011399876671026047, -0.12274721309528293, 0.08706965864789872, -0.0021982679673618307, -0.003154056515494172, 0.019211968266047406, -0.1249508962576506, 0.04023616863067952, -0.05704917176321613, -0.018570674895567525, 0.08126455975119881, -0.07014809332946602, -0.08173238001408133, -0.0023321186506327293, -0.06641605736531929, -0.08117619271359731, -0.08709048255484883, -0.07889692376210065, 0.06466457711499957, -0.007589772597241997, 0.08344804855228058, 0.10243779025166995, 0.006456192671363939, 0.013570549250438383, -0.08824827653821608, 0.0673259486983825, -0.03446732180474492, 0.16639074849444238, 0.027614183133390507, -0.0920193968665121, -0.027675237876280307, 0.01854845179462389, -0.08374465356128667, -0.03255659075293705, -0.13723390065418603, 0.047419358210580305, -0.018408195498368397, 0.11455328479423299, -0.06624907501352201, 0.040622434354217744, 0.07045117140266333, -0.0013680344045870006, 0.09370845373368474, -0.08918571285800975, 0.009757952486917932, 0.04877284865251933, -0.036030976352889, -0.05511436243505483, 0.07559415528983339, -0.030406061738497168, -0.029668726462150786, -0.05297052281105229, -0.08016121566338318, 0.0232998589649492, -0.09478304019742485, 0.14138075015356502, -0.07103885286673603, -0.07142343352905137, -0.02619209031300473, 0.005095612729364989, 0.06565865763204194, -0.06638313213631086, -0.07528343088951202, -0.04615527484471145, 0.11621656419498842, 0.08842953778237156, 0.05722628294147845, 0.1186875516338311, 0.040093792481977406, 0.07698002947224547, 0.03798730625371209, -0.05097047435617065, -0.037588892065058846, 0.028899283683460373, 0.0921784798680997, -0.1257696405929596, -0.028003559842160894, 0.012287035763603302, 0.03991550875927581], \"yaxis\": \"y\"}, {\"hovertemplate\": \"variable=wide_variable_1<br>index=%{x}<br>value=%{y}<extra></extra>\", \"legendgroup\": \"wide_variable_1\", \"marker\": {\"color\": \"#EF553B\", \"symbol\": \"circle\"}, \"mode\": \"markers\", \"name\": \"wide_variable_1\", \"orientation\": \"v\", \"showlegend\": true, \"type\": \"scatter\", \"x\": [0, 1, 2, 3, 4, 5, 6, 7, 8, 9, 10, 11, 12, 13, 14, 15, 16, 17, 18, 19, 20, 21, 22, 23, 24, 25, 26, 27, 28, 29, 30, 31, 32, 33, 34, 35, 36, 37, 38, 39, 40, 41, 42, 43, 44, 45, 46, 47, 48, 49, 50, 51, 52, 53, 54, 55, 56, 57, 58, 59, 60, 61, 62, 63, 64, 65, 66, 67, 68, 69, 70, 71, 72, 73, 74, 75, 76, 77, 78, 79, 80, 81, 82, 83, 84, 85, 86, 87, 88, 89, 90, 91, 92, 93, 94, 95, 96, 97, 98, 99, 100, 101, 102, 103, 104, 105, 106, 107, 108, 109, 110, 111, 112, 113, 114, 115, 116, 117, 118, 119, 120, 121, 122, 123], \"xaxis\": \"x\", \"y\": [0.106039412140135, 0.06521785477816, -0.004399464291748, -0.0031844036766112897, 0.037562557252513, -0.0594637921340835, -0.0183053822281976, 0.0980611459027024, -0.0430187784148828, 0.0538087738618379, -0.107933235761886, -0.0114377128051263, 0.0391079361981341, 0.0727715030719605, 0.0192915851515999, -0.007734360756535009, -0.0454173469988564, 0.0785915179041593, 0.0361093027056911, -0.0105815826097926, 0.0857164277740816, 0.0572546213514705, -0.0688891823189553, 0.0114596154278772, 0.0783654038927575, 0.066358972060522, 0.0208990177695049, -0.137115297033866, 0.0156172902321442, -0.0177812740238417, -0.0564880260378318, -0.0026786776458018803, -0.0338378975242213, -0.256142720380728, -0.00684101878435677, -0.0918822135003576, -0.0474866333052684, -0.0189046450454139, 0.0169740368671499, -0.0378385331957417, -0.0215109014703824, -0.0786846496375569, -0.089950493985065, 0.0242317772445913, -0.0798279587463118, -0.0561721187820339, -0.0629564633806749, 0.0554620024115496, -0.10973477473028001, 0.0549149135120433, -0.00330911810470405, -0.0425310794030861, 0.00343947976742972, 0.0377505600572558, 0.0229678574490893, 0.0161043728293765, -0.105343130093718, -0.00997168608900377, 0.0346729997575843, -0.10082793252549199, -0.0032379121551334104, -0.0737757905866874, -0.0578603416950295, 0.0060995036624745, -0.0010437565148827, 0.0172704365769281, 0.0217120178697539, -0.0189070548696905, -0.0023676015888738897, -0.10293618640513601, 0.054633566654237, 0.0809034420798704, 0.0505074834979319, 0.0109970575589052, -0.0201640913565209, 0.0197911669719884, 0.10760336367800201, -0.0953067898831284, 0.0127158279335449, -0.0879299232518779, 0.0337475240719632, 0.0294298093071234, -0.0508544564040558, -0.0430072802586381, -0.00949174857091432, 0.00957252940953021, 0.0131248952185619, 0.0825694544628294, 0.0559785128209545, 0.00372231827392765, 0.0329810401895892, -0.04252459598035701, 0.0718759470800733, 0.0939022068688582, -0.0145276135904549, 0.0384668259431337, 0.0286416052802563, -0.0395822205872374, -0.0742552786230123, -0.0951313187600025, 0.0110860485252388, 0.0269023066976898, -0.0773581764618903, 0.0392419412770702, 0.0835299504490291, 0.0671986276988443, 0.0823973390257787, -0.117061828377013, -0.00495675222087029, 0.0618777983773445, 0.101222901143372, 0.0606271010195033, -0.0819193923475441, -0.00429034130166789, 0.051539511649676, 0.0144034031373898, 0.0817193109583082, -0.00243186192438948, 0.0519611133189414, 0.0222608416730319, -0.0260896229419643, 0.0397841750931153, 0.0389154896127699, 0.07552908964051899], \"yaxis\": \"y\"}],\n",
       "                        {\"legend\": {\"title\": {\"text\": \"variable\"}, \"tracegroupgap\": 0}, \"template\": {\"data\": {\"bar\": [{\"error_x\": {\"color\": \"#2a3f5f\"}, \"error_y\": {\"color\": \"#2a3f5f\"}, \"marker\": {\"line\": {\"color\": \"#E5ECF6\", \"width\": 0.5}}, \"type\": \"bar\"}], \"barpolar\": [{\"marker\": {\"line\": {\"color\": \"#E5ECF6\", \"width\": 0.5}}, \"type\": \"barpolar\"}], \"carpet\": [{\"aaxis\": {\"endlinecolor\": \"#2a3f5f\", \"gridcolor\": \"white\", \"linecolor\": \"white\", \"minorgridcolor\": \"white\", \"startlinecolor\": \"#2a3f5f\"}, \"baxis\": {\"endlinecolor\": \"#2a3f5f\", \"gridcolor\": \"white\", \"linecolor\": \"white\", \"minorgridcolor\": \"white\", \"startlinecolor\": \"#2a3f5f\"}, \"type\": \"carpet\"}], \"choropleth\": [{\"colorbar\": {\"outlinewidth\": 0, \"ticks\": \"\"}, \"type\": \"choropleth\"}], \"contour\": [{\"colorbar\": {\"outlinewidth\": 0, \"ticks\": \"\"}, \"colorscale\": [[0.0, \"#0d0887\"], [0.1111111111111111, \"#46039f\"], [0.2222222222222222, \"#7201a8\"], [0.3333333333333333, \"#9c179e\"], [0.4444444444444444, \"#bd3786\"], [0.5555555555555556, \"#d8576b\"], [0.6666666666666666, \"#ed7953\"], [0.7777777777777778, \"#fb9f3a\"], [0.8888888888888888, \"#fdca26\"], [1.0, \"#f0f921\"]], \"type\": \"contour\"}], \"contourcarpet\": [{\"colorbar\": {\"outlinewidth\": 0, \"ticks\": \"\"}, \"type\": \"contourcarpet\"}], \"heatmap\": [{\"colorbar\": {\"outlinewidth\": 0, \"ticks\": \"\"}, \"colorscale\": [[0.0, \"#0d0887\"], [0.1111111111111111, \"#46039f\"], [0.2222222222222222, \"#7201a8\"], [0.3333333333333333, \"#9c179e\"], [0.4444444444444444, \"#bd3786\"], [0.5555555555555556, \"#d8576b\"], [0.6666666666666666, \"#ed7953\"], [0.7777777777777778, \"#fb9f3a\"], [0.8888888888888888, \"#fdca26\"], [1.0, \"#f0f921\"]], \"type\": \"heatmap\"}], \"heatmapgl\": [{\"colorbar\": {\"outlinewidth\": 0, \"ticks\": \"\"}, \"colorscale\": [[0.0, \"#0d0887\"], [0.1111111111111111, \"#46039f\"], [0.2222222222222222, \"#7201a8\"], [0.3333333333333333, \"#9c179e\"], [0.4444444444444444, \"#bd3786\"], [0.5555555555555556, \"#d8576b\"], [0.6666666666666666, \"#ed7953\"], [0.7777777777777778, \"#fb9f3a\"], [0.8888888888888888, \"#fdca26\"], [1.0, \"#f0f921\"]], \"type\": \"heatmapgl\"}], \"histogram\": [{\"marker\": {\"colorbar\": {\"outlinewidth\": 0, \"ticks\": \"\"}}, \"type\": \"histogram\"}], \"histogram2d\": [{\"colorbar\": {\"outlinewidth\": 0, \"ticks\": \"\"}, \"colorscale\": [[0.0, \"#0d0887\"], [0.1111111111111111, \"#46039f\"], [0.2222222222222222, \"#7201a8\"], [0.3333333333333333, \"#9c179e\"], [0.4444444444444444, \"#bd3786\"], [0.5555555555555556, \"#d8576b\"], [0.6666666666666666, \"#ed7953\"], [0.7777777777777778, \"#fb9f3a\"], [0.8888888888888888, \"#fdca26\"], [1.0, \"#f0f921\"]], \"type\": \"histogram2d\"}], \"histogram2dcontour\": [{\"colorbar\": {\"outlinewidth\": 0, \"ticks\": \"\"}, \"colorscale\": [[0.0, \"#0d0887\"], [0.1111111111111111, \"#46039f\"], [0.2222222222222222, \"#7201a8\"], [0.3333333333333333, \"#9c179e\"], [0.4444444444444444, \"#bd3786\"], [0.5555555555555556, \"#d8576b\"], [0.6666666666666666, \"#ed7953\"], [0.7777777777777778, \"#fb9f3a\"], [0.8888888888888888, \"#fdca26\"], [1.0, \"#f0f921\"]], \"type\": \"histogram2dcontour\"}], \"mesh3d\": [{\"colorbar\": {\"outlinewidth\": 0, \"ticks\": \"\"}, \"type\": \"mesh3d\"}], \"parcoords\": [{\"line\": {\"colorbar\": {\"outlinewidth\": 0, \"ticks\": \"\"}}, \"type\": \"parcoords\"}], \"pie\": [{\"automargin\": true, \"type\": \"pie\"}], \"scatter\": [{\"marker\": {\"colorbar\": {\"outlinewidth\": 0, \"ticks\": \"\"}}, \"type\": \"scatter\"}], \"scatter3d\": [{\"line\": {\"colorbar\": {\"outlinewidth\": 0, \"ticks\": \"\"}}, \"marker\": {\"colorbar\": {\"outlinewidth\": 0, \"ticks\": \"\"}}, \"type\": \"scatter3d\"}], \"scattercarpet\": [{\"marker\": {\"colorbar\": {\"outlinewidth\": 0, \"ticks\": \"\"}}, \"type\": \"scattercarpet\"}], \"scattergeo\": [{\"marker\": {\"colorbar\": {\"outlinewidth\": 0, \"ticks\": \"\"}}, \"type\": \"scattergeo\"}], \"scattergl\": [{\"marker\": {\"colorbar\": {\"outlinewidth\": 0, \"ticks\": \"\"}}, \"type\": \"scattergl\"}], \"scattermapbox\": [{\"marker\": {\"colorbar\": {\"outlinewidth\": 0, \"ticks\": \"\"}}, \"type\": \"scattermapbox\"}], \"scatterpolar\": [{\"marker\": {\"colorbar\": {\"outlinewidth\": 0, \"ticks\": \"\"}}, \"type\": \"scatterpolar\"}], \"scatterpolargl\": [{\"marker\": {\"colorbar\": {\"outlinewidth\": 0, \"ticks\": \"\"}}, \"type\": \"scatterpolargl\"}], \"scatterternary\": [{\"marker\": {\"colorbar\": {\"outlinewidth\": 0, \"ticks\": \"\"}}, \"type\": \"scatterternary\"}], \"surface\": [{\"colorbar\": {\"outlinewidth\": 0, \"ticks\": \"\"}, \"colorscale\": [[0.0, \"#0d0887\"], [0.1111111111111111, \"#46039f\"], [0.2222222222222222, \"#7201a8\"], [0.3333333333333333, \"#9c179e\"], [0.4444444444444444, \"#bd3786\"], [0.5555555555555556, \"#d8576b\"], [0.6666666666666666, \"#ed7953\"], [0.7777777777777778, \"#fb9f3a\"], [0.8888888888888888, \"#fdca26\"], [1.0, \"#f0f921\"]], \"type\": \"surface\"}], \"table\": [{\"cells\": {\"fill\": {\"color\": \"#EBF0F8\"}, \"line\": {\"color\": \"white\"}}, \"header\": {\"fill\": {\"color\": \"#C8D4E3\"}, \"line\": {\"color\": \"white\"}}, \"type\": \"table\"}]}, \"layout\": {\"annotationdefaults\": {\"arrowcolor\": \"#2a3f5f\", \"arrowhead\": 0, \"arrowwidth\": 1}, \"coloraxis\": {\"colorbar\": {\"outlinewidth\": 0, \"ticks\": \"\"}}, \"colorscale\": {\"diverging\": [[0, \"#8e0152\"], [0.1, \"#c51b7d\"], [0.2, \"#de77ae\"], [0.3, \"#f1b6da\"], [0.4, \"#fde0ef\"], [0.5, \"#f7f7f7\"], [0.6, \"#e6f5d0\"], [0.7, \"#b8e186\"], [0.8, \"#7fbc41\"], [0.9, \"#4d9221\"], [1, \"#276419\"]], \"sequential\": [[0.0, \"#0d0887\"], [0.1111111111111111, \"#46039f\"], [0.2222222222222222, \"#7201a8\"], [0.3333333333333333, \"#9c179e\"], [0.4444444444444444, \"#bd3786\"], [0.5555555555555556, \"#d8576b\"], [0.6666666666666666, \"#ed7953\"], [0.7777777777777778, \"#fb9f3a\"], [0.8888888888888888, \"#fdca26\"], [1.0, \"#f0f921\"]], \"sequentialminus\": [[0.0, \"#0d0887\"], [0.1111111111111111, \"#46039f\"], [0.2222222222222222, \"#7201a8\"], [0.3333333333333333, \"#9c179e\"], [0.4444444444444444, \"#bd3786\"], [0.5555555555555556, \"#d8576b\"], [0.6666666666666666, \"#ed7953\"], [0.7777777777777778, \"#fb9f3a\"], [0.8888888888888888, \"#fdca26\"], [1.0, \"#f0f921\"]]}, \"colorway\": [\"#636efa\", \"#EF553B\", \"#00cc96\", \"#ab63fa\", \"#FFA15A\", \"#19d3f3\", \"#FF6692\", \"#B6E880\", \"#FF97FF\", \"#FECB52\"], \"font\": {\"color\": \"#2a3f5f\"}, \"geo\": {\"bgcolor\": \"white\", \"lakecolor\": \"white\", \"landcolor\": \"#E5ECF6\", \"showlakes\": true, \"showland\": true, \"subunitcolor\": \"white\"}, \"hoverlabel\": {\"align\": \"left\"}, \"hovermode\": \"closest\", \"mapbox\": {\"style\": \"light\"}, \"paper_bgcolor\": \"white\", \"plot_bgcolor\": \"#E5ECF6\", \"polar\": {\"angularaxis\": {\"gridcolor\": \"white\", \"linecolor\": \"white\", \"ticks\": \"\"}, \"bgcolor\": \"#E5ECF6\", \"radialaxis\": {\"gridcolor\": \"white\", \"linecolor\": \"white\", \"ticks\": \"\"}}, \"scene\": {\"xaxis\": {\"backgroundcolor\": \"#E5ECF6\", \"gridcolor\": \"white\", \"gridwidth\": 2, \"linecolor\": \"white\", \"showbackground\": true, \"ticks\": \"\", \"zerolinecolor\": \"white\"}, \"yaxis\": {\"backgroundcolor\": \"#E5ECF6\", \"gridcolor\": \"white\", \"gridwidth\": 2, \"linecolor\": \"white\", \"showbackground\": true, \"ticks\": \"\", \"zerolinecolor\": \"white\"}, \"zaxis\": {\"backgroundcolor\": \"#E5ECF6\", \"gridcolor\": \"white\", \"gridwidth\": 2, \"linecolor\": \"white\", \"showbackground\": true, \"ticks\": \"\", \"zerolinecolor\": \"white\"}}, \"shapedefaults\": {\"line\": {\"color\": \"#2a3f5f\"}}, \"ternary\": {\"aaxis\": {\"gridcolor\": \"white\", \"linecolor\": \"white\", \"ticks\": \"\"}, \"baxis\": {\"gridcolor\": \"white\", \"linecolor\": \"white\", \"ticks\": \"\"}, \"bgcolor\": \"#E5ECF6\", \"caxis\": {\"gridcolor\": \"white\", \"linecolor\": \"white\", \"ticks\": \"\"}}, \"title\": {\"x\": 0.05}, \"xaxis\": {\"automargin\": true, \"gridcolor\": \"white\", \"linecolor\": \"white\", \"ticks\": \"\", \"title\": {\"standoff\": 15}, \"zerolinecolor\": \"white\", \"zerolinewidth\": 2}, \"yaxis\": {\"automargin\": true, \"gridcolor\": \"white\", \"linecolor\": \"white\", \"ticks\": \"\", \"title\": {\"standoff\": 15}, \"zerolinecolor\": \"white\", \"zerolinewidth\": 2}}}, \"title\": {\"text\": \"Blue is using Python MDS, Red is PCoA method\"}, \"xaxis\": {\"anchor\": \"y\", \"domain\": [0.0, 1.0], \"title\": {\"text\": \"index\"}}, \"yaxis\": {\"anchor\": \"x\", \"domain\": [0.0, 1.0], \"title\": {\"text\": \"value\"}}},\n",
       "                        {\"responsive\": true}\n",
       "                    ).then(function(){\n",
       "                            \n",
       "var gd = document.getElementById('c4a45368-8adc-4baa-b57c-679cfa9b5aa2');\n",
       "var x = new MutationObserver(function (mutations, observer) {{\n",
       "        var display = window.getComputedStyle(gd).display;\n",
       "        if (!display || display === 'none') {{\n",
       "            console.log([gd, 'removed!']);\n",
       "            Plotly.purge(gd);\n",
       "            observer.disconnect();\n",
       "        }}\n",
       "}});\n",
       "\n",
       "// Listen for the removal of the full notebook cells\n",
       "var notebookContainer = gd.closest('#notebook-container');\n",
       "if (notebookContainer) {{\n",
       "    x.observe(notebookContainer, {childList: true});\n",
       "}}\n",
       "\n",
       "// Listen for the clearing of the current output cell\n",
       "var outputEl = gd.closest('.output');\n",
       "if (outputEl) {{\n",
       "    x.observe(outputEl, {childList: true});\n",
       "}}\n",
       "\n",
       "                        })\n",
       "                };\n",
       "                });\n",
       "            </script>\n",
       "        </div>"
      ]
     },
     "metadata": {},
     "output_type": "display_data"
    }
   ],
   "source": [
    "embedding = MDS(n_components=10, dissimilarity=\"precomputed\", n_jobs=-1, n_init=32)\n",
    "mds = embedding.fit_transform(pc_dists)\n",
    "px.scatter(y=[mds[:,0], mds_coords['MDS1']], title=\"Blue is using Python MDS, Red is PCoA method\")"
   ]
  },
  {
   "cell_type": "code",
   "execution_count": 17,
   "metadata": {},
   "outputs": [
    {
     "name": "stdout",
     "output_type": "stream",
     "text": [
      "Calculating PHATE...\n",
      "  Running PHATE on precomputed distance matrix with 124 observations.\n",
      "  Calculating graph and diffusion operator...\n",
      "    Calculating affinities...\n",
      "  Calculated graph and diffusion operator in 0.02 seconds.\n",
      "  Calculating optimal t...\n",
      "    Automatically selected t = 12\n",
      "  Calculated optimal t in 0.02 seconds.\n",
      "  Calculating diffusion potential...\n",
      "  Calculating metric MDS...\n",
      "  Calculated metric MDS in 0.55 seconds.\n",
      "Calculated PHATE in 0.60 seconds.\n"
     ]
    }
   ],
   "source": [
    "import phate\n",
    "phater = phate.PHATE(n_components=10, knn_dist='precomputed', mds_solver='smacof', mds='metric')\n",
    "comparison_phate = phater.fit_transform(pc_dists)"
   ]
  },
  {
   "cell_type": "code",
   "execution_count": 18,
   "metadata": {},
   "outputs": [
    {
     "data": {
      "text/html": [
       "<div>\n",
       "        \n",
       "        \n",
       "            <div id=\"a39c11eb-2077-4d9f-b24d-821ff9fc214b\" class=\"plotly-graph-div\" style=\"height:525px; width:100%;\"></div>\n",
       "            <script type=\"text/javascript\">\n",
       "                require([\"plotly\"], function(Plotly) {\n",
       "                    window.PLOTLYENV=window.PLOTLYENV || {};\n",
       "                    \n",
       "                if (document.getElementById(\"a39c11eb-2077-4d9f-b24d-821ff9fc214b\")) {\n",
       "                    Plotly.newPlot(\n",
       "                        'a39c11eb-2077-4d9f-b24d-821ff9fc214b',\n",
       "                        [{\"hovertemplate\": \"variable=wide_variable_0<br>index=%{x}<br>value=%{y}<extra></extra>\", \"legendgroup\": \"wide_variable_0\", \"marker\": {\"color\": \"#636efa\", \"symbol\": \"circle\"}, \"mode\": \"markers\", \"name\": \"wide_variable_0\", \"orientation\": \"v\", \"showlegend\": true, \"type\": \"scatter\", \"x\": [0, 1, 2, 3, 4, 5, 6, 7, 8, 9, 10, 11, 12, 13, 14, 15, 16, 17, 18, 19, 20, 21, 22, 23, 24, 25, 26, 27, 28, 29, 30, 31, 32, 33, 34, 35, 36, 37, 38, 39, 40, 41, 42, 43, 44, 45, 46, 47, 48, 49, 50, 51, 52, 53, 54, 55, 56, 57, 58, 59, 60, 61, 62, 63, 64, 65, 66, 67, 68, 69, 70, 71, 72, 73, 74, 75, 76, 77, 78, 79, 80, 81, 82, 83, 84, 85, 86, 87, 88, 89, 90, 91, 92, 93, 94, 95, 96, 97, 98, 99, 100, 101, 102, 103, 104, 105, 106, 107, 108, 109, 110, 111, 112, 113, 114, 115, 116, 117, 118, 119, 120, 121, 122, 123], \"xaxis\": \"x\", \"y\": [0.106039412140135, 0.06521785477816, -0.004399464291748, -0.0031844036766112897, 0.037562557252513, -0.0594637921340835, -0.0183053822281976, 0.0980611459027024, -0.0430187784148828, 0.0538087738618379, -0.107933235761886, -0.0114377128051263, 0.0391079361981341, 0.0727715030719605, 0.0192915851515999, -0.007734360756535009, -0.0454173469988564, 0.0785915179041593, 0.0361093027056911, -0.0105815826097926, 0.0857164277740816, 0.0572546213514705, -0.0688891823189553, 0.0114596154278772, 0.0783654038927575, 0.066358972060522, 0.0208990177695049, -0.137115297033866, 0.0156172902321442, -0.0177812740238417, -0.0564880260378318, -0.0026786776458018803, -0.0338378975242213, -0.256142720380728, -0.00684101878435677, -0.0918822135003576, -0.0474866333052684, -0.0189046450454139, 0.0169740368671499, -0.0378385331957417, -0.0215109014703824, -0.0786846496375569, -0.089950493985065, 0.0242317772445913, -0.0798279587463118, -0.0561721187820339, -0.0629564633806749, 0.0554620024115496, -0.10973477473028001, 0.0549149135120433, -0.00330911810470405, -0.0425310794030861, 0.00343947976742972, 0.0377505600572558, 0.0229678574490893, 0.0161043728293765, -0.105343130093718, -0.00997168608900377, 0.0346729997575843, -0.10082793252549199, -0.0032379121551334104, -0.0737757905866874, -0.0578603416950295, 0.0060995036624745, -0.0010437565148827, 0.0172704365769281, 0.0217120178697539, -0.0189070548696905, -0.0023676015888738897, -0.10293618640513601, 0.054633566654237, 0.0809034420798704, 0.0505074834979319, 0.0109970575589052, -0.0201640913565209, 0.0197911669719884, 0.10760336367800201, -0.0953067898831284, 0.0127158279335449, -0.0879299232518779, 0.0337475240719632, 0.0294298093071234, -0.0508544564040558, -0.0430072802586381, -0.00949174857091432, 0.00957252940953021, 0.0131248952185619, 0.0825694544628294, 0.0559785128209545, 0.00372231827392765, 0.0329810401895892, -0.04252459598035701, 0.0718759470800733, 0.0939022068688582, -0.0145276135904549, 0.0384668259431337, 0.0286416052802563, -0.0395822205872374, -0.0742552786230123, -0.0951313187600025, 0.0110860485252388, 0.0269023066976898, -0.0773581764618903, 0.0392419412770702, 0.0835299504490291, 0.0671986276988443, 0.0823973390257787, -0.117061828377013, -0.00495675222087029, 0.0618777983773445, 0.101222901143372, 0.0606271010195033, -0.0819193923475441, -0.00429034130166789, 0.051539511649676, 0.0144034031373898, 0.0817193109583082, -0.00243186192438948, 0.0519611133189414, 0.0222608416730319, -0.0260896229419643, 0.0397841750931153, 0.0389154896127699, 0.07552908964051899], \"yaxis\": \"y\"}, {\"hovertemplate\": \"variable=wide_variable_1<br>index=%{x}<br>value=%{y}<extra></extra>\", \"legendgroup\": \"wide_variable_1\", \"marker\": {\"color\": \"#EF553B\", \"symbol\": \"circle\"}, \"mode\": \"markers\", \"name\": \"wide_variable_1\", \"orientation\": \"v\", \"showlegend\": true, \"type\": \"scatter\", \"x\": [0, 1, 2, 3, 4, 5, 6, 7, 8, 9, 10, 11, 12, 13, 14, 15, 16, 17, 18, 19, 20, 21, 22, 23, 24, 25, 26, 27, 28, 29, 30, 31, 32, 33, 34, 35, 36, 37, 38, 39, 40, 41, 42, 43, 44, 45, 46, 47, 48, 49, 50, 51, 52, 53, 54, 55, 56, 57, 58, 59, 60, 61, 62, 63, 64, 65, 66, 67, 68, 69, 70, 71, 72, 73, 74, 75, 76, 77, 78, 79, 80, 81, 82, 83, 84, 85, 86, 87, 88, 89, 90, 91, 92, 93, 94, 95, 96, 97, 98, 99, 100, 101, 102, 103, 104, 105, 106, 107, 108, 109, 110, 111, 112, 113, 114, 115, 116, 117, 118, 119, 120, 121, 122, 123], \"xaxis\": \"x\", \"y\": [0.10377412705026494, 0.06378534684334419, 0.004634708472433838, -0.006604226660277983, 0.03092699580940787, -0.053004888530012055, -0.01961387252654016, 0.1062449305385118, -0.04421725548474015, 0.05229072679370823, -0.10841669600846561, -0.013907932476763049, 0.044800955713406455, 0.07060438210554897, 0.023263456482035007, -0.008894986169196957, -0.046440310786575366, 0.075715543313006, 0.03338372318582564, -0.0059398831635959545, 0.09236097713881794, 0.05299537507692377, -0.0676186145635309, 0.009827085417305268, 0.07309555712859095, 0.061694500094865566, 0.019680320227674446, -0.14268678505883525, 0.02459852904179701, -0.02106627440295351, -0.06056473245050326, -0.005767446346490674, -0.03887063024335033, -0.2610939446805273, -0.010594321622046458, -0.09460636049314841, -0.05200646812562341, -0.019382531395131308, 0.015065489148648551, -0.04522847887027642, -0.020081624349488736, -0.07960412803552022, -0.09255367003780392, 0.02245390266454504, -0.08007148818086803, -0.05934645154615969, -0.06251152978418716, 0.052630978062868476, -0.10997772031515449, 0.050677169788673385, -0.007186510485171515, -0.04452038492327505, -0.0021682872869530404, 0.047099090270778445, 0.018907103267700898, 0.0137680428198488, -0.10505075792266046, -0.011130041911062693, 0.030097328303076577, -0.1027357948759866, 0.0009042030613224104, -0.0747027137385731, -0.058258753151454755, 0.006301286534695774, 0.0050010220895507895, 0.012217665625543562, 0.01793587373792648, -0.01632067550529334, -0.002387046811816341, -0.09542259054498592, 0.0520343430123313, 0.0775007570393835, 0.054009572347228446, 0.01441492707425224, -0.015405267334347874, 0.01599569476085032, 0.1065100392577379, -0.09577185765515925, 0.02038172577781719, -0.08785165919142851, 0.031940592021689904, 0.034633652052680576, -0.0498521850363658, -0.03621421102902754, -0.010631637120114229, 0.009690020519771535, 0.010927891235255949, 0.07858578555614938, 0.06472935380598908, 0.00034903228466451363, 0.04015519971643698, -0.04350458628711672, 0.06945762648404903, 0.09193234029724144, -0.017880145456139952, 0.04879924221314344, 0.027694974276087168, -0.038841874184130744, -0.07676394293711185, -0.0969503547193581, 0.021399534518823062, 0.023419053228610147, -0.07707983337376874, 0.03893248772074502, 0.08771763655629333, 0.06484369341865819, 0.08781803796072607, -0.12001554594247682, 0.00015901152432629695, 0.059534805844489926, 0.10949035913209652, 0.056961580101493575, -0.08151558011678185, -0.005462269397856639, 0.054463119401677196, 0.02048349461246029, 0.08736308202928686, -0.002715215271063458, 0.0553367494987367, 0.021116201215395064, -0.028546753530032963, 0.044223588701730765, 0.037051108210558396, 0.07876701882977014], \"yaxis\": \"y\"}, {\"hovertemplate\": \"variable=wide_variable_2<br>index=%{x}<br>value=%{y}<extra></extra>\", \"legendgroup\": \"wide_variable_2\", \"marker\": {\"color\": \"#00cc96\", \"symbol\": \"circle\"}, \"mode\": \"markers\", \"name\": \"wide_variable_2\", \"orientation\": \"v\", \"showlegend\": true, \"type\": \"scatter\", \"x\": [0, 1, 2, 3, 4, 5, 6, 7, 8, 9, 10, 11, 12, 13, 14, 15, 16, 17, 18, 19, 20, 21, 22, 23, 24, 25, 26, 27, 28, 29, 30, 31, 32, 33, 34, 35, 36, 37, 38, 39, 40, 41, 42, 43, 44, 45, 46, 47, 48, 49, 50, 51, 52, 53, 54, 55, 56, 57, 58, 59, 60, 61, 62, 63, 64, 65, 66, 67, 68, 69, 70, 71, 72, 73, 74, 75, 76, 77, 78, 79, 80, 81, 82, 83, 84, 85, 86, 87, 88, 89, 90, 91, 92, 93, 94, 95, 96, 97, 98, 99, 100, 101, 102, 103, 104, 105, 106, 107, 108, 109, 110, 111, 112, 113, 114, 115, 116, 117, 118, 119, 120, 121, 122, 123], \"xaxis\": \"x\", \"y\": [-0.059563992252063484, -0.11178281369504296, 0.07296536766420911, 0.051460674658804426, -0.052570108496631324, 0.00759752090876997, 0.006508013341183547, -0.07851400015596126, 0.12157609401439311, -0.07104363842914625, 0.07318088764781495, -0.028925183650066313, -0.08163123072705526, -0.05704369325286407, -0.022035167155525802, -0.005938903007941898, 0.029722152147630347, -0.030757923987275934, -0.02746409946669073, -0.05279783009582975, -0.0984221384827801, -0.06873205229430218, 0.09105256551230884, 0.010889042552613092, -0.05190390083861469, -0.057054097907919966, -0.13168561966751205, 0.054208927607134756, -0.06606681754918613, 0.04967660469774232, -0.019099111747331334, 0.03509762020857792, 0.03120577126434178, 0.06802077176008102, -0.025468737455581078, 0.07939899654328662, 0.0548778689076597, 0.07344623580040517, -0.061570756926732036, -0.022546852470627776, -0.058251444207013975, 0.12787853878035207, 0.01856646360600527, -0.07125190893492453, 0.07873682956281702, 0.06274349728646303, -0.014302725983653095, -0.10654421937579805, 0.09434458994888072, -0.054596974993879, -0.021578140926337176, 0.05572128104290292, -0.09773028784344219, -0.06700547603790899, 0.0018031094838478156, -0.030762224676803392, 0.04049855537999969, 0.08060588576147541, -0.08373057602905914, 0.14190871547893125, 0.01163744694539738, 0.13671380732667002, 0.06946838898088595, 0.04940319299267296, 0.06378683030390123, 0.02432748321958721, -0.01181729852982505, 0.08064253914534752, 0.03991847300542868, 0.06495658654635854, -0.060869097678907566, -0.034240671619510554, -0.12761657364780132, 0.023481081085101413, 0.024544979708611376, -0.014093533623002986, -0.0711883364696329, 0.10523393791181206, 0.0037696272077048154, 0.07864701236287056, -0.010897576179240108, -0.008133930256919669, -0.0054162692515147305, -0.02620156295185583, 0.0718869116693454, 0.009370624242734936, 0.014335798498051033, -0.061869438283144236, -0.04120703669291022, -0.05661276820105783, -0.016565471965896222, 0.028006862541815017, -0.06731117531025427, -0.05390739487275111, 0.07344004092541243, -0.0590725166144483, 0.0147567827692858, 0.09689172802023938, 0.1402983936269531, 0.029614892180989085, 0.016393655765198762, -0.005999497895471645, 0.14461948373439462, -0.03650420489264692, -0.06940891263666557, -0.032263816564485244, -0.06216347409798948, 0.04214339745615874, 0.04942002664500458, -0.07376138451978319, -0.09780746061518512, -0.03338430244287358, 0.04357153902979004, 0.03421539032925217, -0.06365553033101994, 0.07476396961288644, -0.06318996908584786, 0.04682488875430943, -0.08293509703328515, -0.03020302205685061, 0.04844457560287461, -0.048777016146759514, -0.0003602924844478814, -0.05341564804219054], \"yaxis\": \"y\"}],\n",
       "                        {\"legend\": {\"title\": {\"text\": \"variable\"}, \"tracegroupgap\": 0}, \"template\": {\"data\": {\"bar\": [{\"error_x\": {\"color\": \"#2a3f5f\"}, \"error_y\": {\"color\": \"#2a3f5f\"}, \"marker\": {\"line\": {\"color\": \"#E5ECF6\", \"width\": 0.5}}, \"type\": \"bar\"}], \"barpolar\": [{\"marker\": {\"line\": {\"color\": \"#E5ECF6\", \"width\": 0.5}}, \"type\": \"barpolar\"}], \"carpet\": [{\"aaxis\": {\"endlinecolor\": \"#2a3f5f\", \"gridcolor\": \"white\", \"linecolor\": \"white\", \"minorgridcolor\": \"white\", \"startlinecolor\": \"#2a3f5f\"}, \"baxis\": {\"endlinecolor\": \"#2a3f5f\", \"gridcolor\": \"white\", \"linecolor\": \"white\", \"minorgridcolor\": \"white\", \"startlinecolor\": \"#2a3f5f\"}, \"type\": \"carpet\"}], \"choropleth\": [{\"colorbar\": {\"outlinewidth\": 0, \"ticks\": \"\"}, \"type\": \"choropleth\"}], \"contour\": [{\"colorbar\": {\"outlinewidth\": 0, \"ticks\": \"\"}, \"colorscale\": [[0.0, \"#0d0887\"], [0.1111111111111111, \"#46039f\"], [0.2222222222222222, \"#7201a8\"], [0.3333333333333333, \"#9c179e\"], [0.4444444444444444, \"#bd3786\"], [0.5555555555555556, \"#d8576b\"], [0.6666666666666666, \"#ed7953\"], [0.7777777777777778, \"#fb9f3a\"], [0.8888888888888888, \"#fdca26\"], [1.0, \"#f0f921\"]], \"type\": \"contour\"}], \"contourcarpet\": [{\"colorbar\": {\"outlinewidth\": 0, \"ticks\": \"\"}, \"type\": \"contourcarpet\"}], \"heatmap\": [{\"colorbar\": {\"outlinewidth\": 0, \"ticks\": \"\"}, \"colorscale\": [[0.0, \"#0d0887\"], [0.1111111111111111, \"#46039f\"], [0.2222222222222222, \"#7201a8\"], [0.3333333333333333, \"#9c179e\"], [0.4444444444444444, \"#bd3786\"], [0.5555555555555556, \"#d8576b\"], [0.6666666666666666, \"#ed7953\"], [0.7777777777777778, \"#fb9f3a\"], [0.8888888888888888, \"#fdca26\"], [1.0, \"#f0f921\"]], \"type\": \"heatmap\"}], \"heatmapgl\": [{\"colorbar\": {\"outlinewidth\": 0, \"ticks\": \"\"}, \"colorscale\": [[0.0, \"#0d0887\"], [0.1111111111111111, \"#46039f\"], [0.2222222222222222, \"#7201a8\"], [0.3333333333333333, \"#9c179e\"], [0.4444444444444444, \"#bd3786\"], [0.5555555555555556, \"#d8576b\"], [0.6666666666666666, \"#ed7953\"], [0.7777777777777778, \"#fb9f3a\"], [0.8888888888888888, \"#fdca26\"], [1.0, \"#f0f921\"]], \"type\": \"heatmapgl\"}], \"histogram\": [{\"marker\": {\"colorbar\": {\"outlinewidth\": 0, \"ticks\": \"\"}}, \"type\": \"histogram\"}], \"histogram2d\": [{\"colorbar\": {\"outlinewidth\": 0, \"ticks\": \"\"}, \"colorscale\": [[0.0, \"#0d0887\"], [0.1111111111111111, \"#46039f\"], [0.2222222222222222, \"#7201a8\"], [0.3333333333333333, \"#9c179e\"], [0.4444444444444444, \"#bd3786\"], [0.5555555555555556, \"#d8576b\"], [0.6666666666666666, \"#ed7953\"], [0.7777777777777778, \"#fb9f3a\"], [0.8888888888888888, \"#fdca26\"], [1.0, \"#f0f921\"]], \"type\": \"histogram2d\"}], \"histogram2dcontour\": [{\"colorbar\": {\"outlinewidth\": 0, \"ticks\": \"\"}, \"colorscale\": [[0.0, \"#0d0887\"], [0.1111111111111111, \"#46039f\"], [0.2222222222222222, \"#7201a8\"], [0.3333333333333333, \"#9c179e\"], [0.4444444444444444, \"#bd3786\"], [0.5555555555555556, \"#d8576b\"], [0.6666666666666666, \"#ed7953\"], [0.7777777777777778, \"#fb9f3a\"], [0.8888888888888888, \"#fdca26\"], [1.0, \"#f0f921\"]], \"type\": \"histogram2dcontour\"}], \"mesh3d\": [{\"colorbar\": {\"outlinewidth\": 0, \"ticks\": \"\"}, \"type\": \"mesh3d\"}], \"parcoords\": [{\"line\": {\"colorbar\": {\"outlinewidth\": 0, \"ticks\": \"\"}}, \"type\": \"parcoords\"}], \"pie\": [{\"automargin\": true, \"type\": \"pie\"}], \"scatter\": [{\"marker\": {\"colorbar\": {\"outlinewidth\": 0, \"ticks\": \"\"}}, \"type\": \"scatter\"}], \"scatter3d\": [{\"line\": {\"colorbar\": {\"outlinewidth\": 0, \"ticks\": \"\"}}, \"marker\": {\"colorbar\": {\"outlinewidth\": 0, \"ticks\": \"\"}}, \"type\": \"scatter3d\"}], \"scattercarpet\": [{\"marker\": {\"colorbar\": {\"outlinewidth\": 0, \"ticks\": \"\"}}, \"type\": \"scattercarpet\"}], \"scattergeo\": [{\"marker\": {\"colorbar\": {\"outlinewidth\": 0, \"ticks\": \"\"}}, \"type\": \"scattergeo\"}], \"scattergl\": [{\"marker\": {\"colorbar\": {\"outlinewidth\": 0, \"ticks\": \"\"}}, \"type\": \"scattergl\"}], \"scattermapbox\": [{\"marker\": {\"colorbar\": {\"outlinewidth\": 0, \"ticks\": \"\"}}, \"type\": \"scattermapbox\"}], \"scatterpolar\": [{\"marker\": {\"colorbar\": {\"outlinewidth\": 0, \"ticks\": \"\"}}, \"type\": \"scatterpolar\"}], \"scatterpolargl\": [{\"marker\": {\"colorbar\": {\"outlinewidth\": 0, \"ticks\": \"\"}}, \"type\": \"scatterpolargl\"}], \"scatterternary\": [{\"marker\": {\"colorbar\": {\"outlinewidth\": 0, \"ticks\": \"\"}}, \"type\": \"scatterternary\"}], \"surface\": [{\"colorbar\": {\"outlinewidth\": 0, \"ticks\": \"\"}, \"colorscale\": [[0.0, \"#0d0887\"], [0.1111111111111111, \"#46039f\"], [0.2222222222222222, \"#7201a8\"], [0.3333333333333333, \"#9c179e\"], [0.4444444444444444, \"#bd3786\"], [0.5555555555555556, \"#d8576b\"], [0.6666666666666666, \"#ed7953\"], [0.7777777777777778, \"#fb9f3a\"], [0.8888888888888888, \"#fdca26\"], [1.0, \"#f0f921\"]], \"type\": \"surface\"}], \"table\": [{\"cells\": {\"fill\": {\"color\": \"#EBF0F8\"}, \"line\": {\"color\": \"white\"}}, \"header\": {\"fill\": {\"color\": \"#C8D4E3\"}, \"line\": {\"color\": \"white\"}}, \"type\": \"table\"}]}, \"layout\": {\"annotationdefaults\": {\"arrowcolor\": \"#2a3f5f\", \"arrowhead\": 0, \"arrowwidth\": 1}, \"coloraxis\": {\"colorbar\": {\"outlinewidth\": 0, \"ticks\": \"\"}}, \"colorscale\": {\"diverging\": [[0, \"#8e0152\"], [0.1, \"#c51b7d\"], [0.2, \"#de77ae\"], [0.3, \"#f1b6da\"], [0.4, \"#fde0ef\"], [0.5, \"#f7f7f7\"], [0.6, \"#e6f5d0\"], [0.7, \"#b8e186\"], [0.8, \"#7fbc41\"], [0.9, \"#4d9221\"], [1, \"#276419\"]], \"sequential\": [[0.0, \"#0d0887\"], [0.1111111111111111, \"#46039f\"], [0.2222222222222222, \"#7201a8\"], [0.3333333333333333, \"#9c179e\"], [0.4444444444444444, \"#bd3786\"], [0.5555555555555556, \"#d8576b\"], [0.6666666666666666, \"#ed7953\"], [0.7777777777777778, \"#fb9f3a\"], [0.8888888888888888, \"#fdca26\"], [1.0, \"#f0f921\"]], \"sequentialminus\": [[0.0, \"#0d0887\"], [0.1111111111111111, \"#46039f\"], [0.2222222222222222, \"#7201a8\"], [0.3333333333333333, \"#9c179e\"], [0.4444444444444444, \"#bd3786\"], [0.5555555555555556, \"#d8576b\"], [0.6666666666666666, \"#ed7953\"], [0.7777777777777778, \"#fb9f3a\"], [0.8888888888888888, \"#fdca26\"], [1.0, \"#f0f921\"]]}, \"colorway\": [\"#636efa\", \"#EF553B\", \"#00cc96\", \"#ab63fa\", \"#FFA15A\", \"#19d3f3\", \"#FF6692\", \"#B6E880\", \"#FF97FF\", \"#FECB52\"], \"font\": {\"color\": \"#2a3f5f\"}, \"geo\": {\"bgcolor\": \"white\", \"lakecolor\": \"white\", \"landcolor\": \"#E5ECF6\", \"showlakes\": true, \"showland\": true, \"subunitcolor\": \"white\"}, \"hoverlabel\": {\"align\": \"left\"}, \"hovermode\": \"closest\", \"mapbox\": {\"style\": \"light\"}, \"paper_bgcolor\": \"white\", \"plot_bgcolor\": \"#E5ECF6\", \"polar\": {\"angularaxis\": {\"gridcolor\": \"white\", \"linecolor\": \"white\", \"ticks\": \"\"}, \"bgcolor\": \"#E5ECF6\", \"radialaxis\": {\"gridcolor\": \"white\", \"linecolor\": \"white\", \"ticks\": \"\"}}, \"scene\": {\"xaxis\": {\"backgroundcolor\": \"#E5ECF6\", \"gridcolor\": \"white\", \"gridwidth\": 2, \"linecolor\": \"white\", \"showbackground\": true, \"ticks\": \"\", \"zerolinecolor\": \"white\"}, \"yaxis\": {\"backgroundcolor\": \"#E5ECF6\", \"gridcolor\": \"white\", \"gridwidth\": 2, \"linecolor\": \"white\", \"showbackground\": true, \"ticks\": \"\", \"zerolinecolor\": \"white\"}, \"zaxis\": {\"backgroundcolor\": \"#E5ECF6\", \"gridcolor\": \"white\", \"gridwidth\": 2, \"linecolor\": \"white\", \"showbackground\": true, \"ticks\": \"\", \"zerolinecolor\": \"white\"}}, \"shapedefaults\": {\"line\": {\"color\": \"#2a3f5f\"}}, \"ternary\": {\"aaxis\": {\"gridcolor\": \"white\", \"linecolor\": \"white\", \"ticks\": \"\"}, \"baxis\": {\"gridcolor\": \"white\", \"linecolor\": \"white\", \"ticks\": \"\"}, \"bgcolor\": \"#E5ECF6\", \"caxis\": {\"gridcolor\": \"white\", \"linecolor\": \"white\", \"ticks\": \"\"}}, \"title\": {\"x\": 0.05}, \"xaxis\": {\"automargin\": true, \"gridcolor\": \"white\", \"linecolor\": \"white\", \"ticks\": \"\", \"title\": {\"standoff\": 15}, \"zerolinecolor\": \"white\", \"zerolinewidth\": 2}, \"yaxis\": {\"automargin\": true, \"gridcolor\": \"white\", \"linecolor\": \"white\", \"ticks\": \"\", \"title\": {\"standoff\": 15}, \"zerolinecolor\": \"white\", \"zerolinewidth\": 2}}}, \"title\": {\"text\": \"Green is PHATE\"}, \"xaxis\": {\"anchor\": \"y\", \"domain\": [0.0, 1.0], \"title\": {\"text\": \"index\"}}, \"yaxis\": {\"anchor\": \"x\", \"domain\": [0.0, 1.0], \"title\": {\"text\": \"value\"}}},\n",
       "                        {\"responsive\": true}\n",
       "                    ).then(function(){\n",
       "                            \n",
       "var gd = document.getElementById('a39c11eb-2077-4d9f-b24d-821ff9fc214b');\n",
       "var x = new MutationObserver(function (mutations, observer) {{\n",
       "        var display = window.getComputedStyle(gd).display;\n",
       "        if (!display || display === 'none') {{\n",
       "            console.log([gd, 'removed!']);\n",
       "            Plotly.purge(gd);\n",
       "            observer.disconnect();\n",
       "        }}\n",
       "}});\n",
       "\n",
       "// Listen for the removal of the full notebook cells\n",
       "var notebookContainer = gd.closest('#notebook-container');\n",
       "if (notebookContainer) {{\n",
       "    x.observe(notebookContainer, {childList: true});\n",
       "}}\n",
       "\n",
       "// Listen for the clearing of the current output cell\n",
       "var outputEl = gd.closest('.output');\n",
       "if (outputEl) {{\n",
       "    x.observe(outputEl, {childList: true});\n",
       "}}\n",
       "\n",
       "                        })\n",
       "                };\n",
       "                });\n",
       "            </script>\n",
       "        </div>"
      ]
     },
     "metadata": {},
     "output_type": "display_data"
    }
   ],
   "source": [
    "mds = pcoa(pc_dists)\n",
    "px.scatter(y=[mds_coords['MDS1'], mds.samples[\"PC1\"], comparison_phate[:,0]], title=\"Green is PHATE\")\n",
    "# https://github.com/KrishnaswamyLab/PHATE\n",
    "# Moon, van Dijk, Wang, Gigante et al. Visualizing Transitions and Structure for Biological Data Exploration. 2019. Nature Biotechnology."
   ]
  },
  {
   "cell_type": "code",
   "execution_count": 19,
   "metadata": {},
   "outputs": [
    {
     "data": {
      "text/html": [
       "<div>\n",
       "        \n",
       "        \n",
       "            <div id=\"858dbb20-f9d3-4073-b996-66648495edf1\" class=\"plotly-graph-div\" style=\"height:525px; width:100%;\"></div>\n",
       "            <script type=\"text/javascript\">\n",
       "                require([\"plotly\"], function(Plotly) {\n",
       "                    window.PLOTLYENV=window.PLOTLYENV || {};\n",
       "                    \n",
       "                if (document.getElementById(\"858dbb20-f9d3-4073-b996-66648495edf1\")) {\n",
       "                    Plotly.newPlot(\n",
       "                        '858dbb20-f9d3-4073-b996-66648495edf1',\n",
       "                        [{\"hovertemplate\": \"x=%{x}<br>y=%{y}<extra></extra>\", \"legendgroup\": \"\", \"marker\": {\"color\": \"#636efa\", \"symbol\": \"circle\"}, \"mode\": \"markers\", \"name\": \"\", \"orientation\": \"v\", \"showlegend\": false, \"type\": \"scatter\", \"x\": [20.427440643310547, 20.013469696044922, 17.418285369873047, 20.126375198364258, 18.622119903564453, 17.551729202270508, 16.929119110107422, 20.716032028198242, 17.228412628173828, 21.23650360107422, 16.65647315979004, 20.205385208129883, 20.88532066345215, 20.952150344848633, 20.881877899169922, 17.466779708862305, 17.874549865722656, 20.113018035888672, 20.76371192932129, 16.673973083496094, 20.714794158935547, 19.196943283081055, 16.845746994018555, 19.001741409301758, 19.97783851623535, 19.703466415405273, 17.81929588317871, 15.958017349243164, 17.53343391418457, 17.657371520996094, 17.088390350341797, 19.149139404296875, 16.684940338134766, 15.600409507751465, 18.639631271362305, 16.02876853942871, 17.197925567626953, 17.614667892456055, 19.291019439697266, 15.599209785461426, 15.721163749694824, 17.07129669189453, 15.816336631774902, 20.598651885986328, 16.20566749572754, 17.407541275024414, 17.36101722717285, 18.73029136657715, 16.775802612304688, 18.44915199279785, 17.46270751953125, 18.629302978515625, 18.233304977416992, 21.119298934936523, 20.39553451538086, 16.763301849365234, 15.688745498657227, 18.00941276550293, 18.821922302246094, 16.944501876831055, 18.935338973999023, 16.9299373626709, 17.49666404724121, 19.52666473388672, 19.067861557006836, 18.60233497619629, 19.45345687866211, 17.99192237854004, 20.091514587402344, 16.41985321044922, 19.762001037597656, 20.179567337036133, 18.32794761657715, 19.66807746887207, 18.818267822265625, 17.6635799407959, 19.77865219116211, 16.934104919433594, 18.48428726196289, 17.79300880432129, 20.005563735961914, 18.418014526367188, 17.477901458740234, 17.36810302734375, 20.11807632446289, 19.67609405517578, 19.853748321533203, 19.723007202148438, 19.41341209411621, 19.26983070373535, 19.761768341064453, 17.29465103149414, 20.189817428588867, 20.93828773498535, 19.789960861206055, 18.936656951904297, 19.128995895385742, 17.574657440185547, 16.348480224609375, 16.665470123291016, 17.889144897460938, 20.74502944946289, 17.021949768066406, 21.00973892211914, 21.23204231262207, 20.56778335571289, 20.922260284423828, 16.122167587280273, 20.10423469543457, 20.527807235717773, 19.899553298950195, 20.285472869873047, 16.04309844970703, 18.084888458251953, 18.659265518188477, 18.316165924072266, 21.131134033203125, 19.15007972717285, 20.907550811767578, 18.036731719970703, 18.314842224121094, 21.189586639404297, 19.5999698638916, 19.126523971557617], \"xaxis\": \"x\", \"y\": [5.909321308135986, 3.9412083625793457, 5.972200393676758, 7.41981315612793, 4.4085001945495605, 4.05163049697876, 3.534318685531616, 4.213615894317627, 5.685133457183838, 5.702828407287598, 6.058956146240234, 4.660463809967041, 4.517980575561523, 4.517017364501953, 5.836946487426758, 4.115932464599609, 4.065496444702148, 5.268504619598389, 5.549546718597412, 3.53338360786438, 5.090977668762207, 4.0360002517700195, 4.7738494873046875, 6.676402568817139, 4.993868827819824, 4.860650539398193, 3.3688290119171143, 3.932426691055298, 3.5782744884490967, 5.067154407501221, 4.1351318359375, 4.4073028564453125, 3.8426976203918457, 3.9787516593933105, 5.499996185302734, 4.678797721862793, 4.089082717895508, 6.895752906799316, 5.165844917297363, 3.9893791675567627, 4.088414669036865, 6.413608074188232, 4.421451568603516, 4.726440906524658, 4.76276159286499, 5.3465471267700195, 4.386577129364014, 4.082965850830078, 6.2550950050354, 4.614664554595947, 3.4963748455047607, 6.637815475463867, 4.377931118011475, 5.223936557769775, 6.798592567443848, 3.694643020629883, 4.102444648742676, 6.537403106689453, 4.799196720123291, 6.388001918792725, 7.268518447875977, 5.784756183624268, 5.57054328918457, 7.311201095581055, 7.157399654388428, 3.7745566368103027, 4.3794050216674805, 6.940650463104248, 7.230913162231445, 4.065830707550049, 6.0328803062438965, 6.150993824005127, 3.621741771697998, 7.072684288024902, 6.862429141998291, 3.67099666595459, 5.710224628448486, 5.559798240661621, 6.9105072021484375, 6.408647060394287, 6.531142711639404, 5.873966693878174, 4.715331554412842, 4.587242603302002, 7.264163494110107, 6.464756011962891, 7.260472774505615, 5.383992671966553, 5.8784966468811035, 4.226418495178223, 6.7481818199157715, 4.617480754852295, 5.748318672180176, 5.3327226638793945, 7.384457111358643, 5.9568681716918945, 7.123501777648926, 6.506524562835693, 5.12641716003418, 4.218868255615234, 5.421356678009033, 6.606806755065918, 6.231853008270264, 6.219516754150391, 6.107700347900391, 6.280300140380859, 6.066092491149902, 4.254203796386719, 7.394101619720459, 4.1199140548706055, 4.026149749755859, 4.287590980529785, 3.8465328216552734, 5.832129001617432, 4.247616767883301, 6.520751953125, 5.9441375732421875, 6.894301414489746, 4.927791595458984, 4.7729058265686035, 6.817915916442871, 5.866671562194824, 6.532495021820068, 5.153669357299805], \"yaxis\": \"y\"}],\n",
       "                        {\"legend\": {\"tracegroupgap\": 0}, \"margin\": {\"t\": 60}, \"template\": {\"data\": {\"bar\": [{\"error_x\": {\"color\": \"#2a3f5f\"}, \"error_y\": {\"color\": \"#2a3f5f\"}, \"marker\": {\"line\": {\"color\": \"#E5ECF6\", \"width\": 0.5}}, \"type\": \"bar\"}], \"barpolar\": [{\"marker\": {\"line\": {\"color\": \"#E5ECF6\", \"width\": 0.5}}, \"type\": \"barpolar\"}], \"carpet\": [{\"aaxis\": {\"endlinecolor\": \"#2a3f5f\", \"gridcolor\": \"white\", \"linecolor\": \"white\", \"minorgridcolor\": \"white\", \"startlinecolor\": \"#2a3f5f\"}, \"baxis\": {\"endlinecolor\": \"#2a3f5f\", \"gridcolor\": \"white\", \"linecolor\": \"white\", \"minorgridcolor\": \"white\", \"startlinecolor\": \"#2a3f5f\"}, \"type\": \"carpet\"}], \"choropleth\": [{\"colorbar\": {\"outlinewidth\": 0, \"ticks\": \"\"}, \"type\": \"choropleth\"}], \"contour\": [{\"colorbar\": {\"outlinewidth\": 0, \"ticks\": \"\"}, \"colorscale\": [[0.0, \"#0d0887\"], [0.1111111111111111, \"#46039f\"], [0.2222222222222222, \"#7201a8\"], [0.3333333333333333, \"#9c179e\"], [0.4444444444444444, \"#bd3786\"], [0.5555555555555556, \"#d8576b\"], [0.6666666666666666, \"#ed7953\"], [0.7777777777777778, \"#fb9f3a\"], [0.8888888888888888, \"#fdca26\"], [1.0, \"#f0f921\"]], \"type\": \"contour\"}], \"contourcarpet\": [{\"colorbar\": {\"outlinewidth\": 0, \"ticks\": \"\"}, \"type\": \"contourcarpet\"}], \"heatmap\": [{\"colorbar\": {\"outlinewidth\": 0, \"ticks\": \"\"}, \"colorscale\": [[0.0, \"#0d0887\"], [0.1111111111111111, \"#46039f\"], [0.2222222222222222, \"#7201a8\"], [0.3333333333333333, \"#9c179e\"], [0.4444444444444444, \"#bd3786\"], [0.5555555555555556, \"#d8576b\"], [0.6666666666666666, \"#ed7953\"], [0.7777777777777778, \"#fb9f3a\"], [0.8888888888888888, \"#fdca26\"], [1.0, \"#f0f921\"]], \"type\": \"heatmap\"}], \"heatmapgl\": [{\"colorbar\": {\"outlinewidth\": 0, \"ticks\": \"\"}, \"colorscale\": [[0.0, \"#0d0887\"], [0.1111111111111111, \"#46039f\"], [0.2222222222222222, \"#7201a8\"], [0.3333333333333333, \"#9c179e\"], [0.4444444444444444, \"#bd3786\"], [0.5555555555555556, \"#d8576b\"], [0.6666666666666666, \"#ed7953\"], [0.7777777777777778, \"#fb9f3a\"], [0.8888888888888888, \"#fdca26\"], [1.0, \"#f0f921\"]], \"type\": \"heatmapgl\"}], \"histogram\": [{\"marker\": {\"colorbar\": {\"outlinewidth\": 0, \"ticks\": \"\"}}, \"type\": \"histogram\"}], \"histogram2d\": [{\"colorbar\": {\"outlinewidth\": 0, \"ticks\": \"\"}, \"colorscale\": [[0.0, \"#0d0887\"], [0.1111111111111111, \"#46039f\"], [0.2222222222222222, \"#7201a8\"], [0.3333333333333333, \"#9c179e\"], [0.4444444444444444, \"#bd3786\"], [0.5555555555555556, \"#d8576b\"], [0.6666666666666666, \"#ed7953\"], [0.7777777777777778, \"#fb9f3a\"], [0.8888888888888888, \"#fdca26\"], [1.0, \"#f0f921\"]], \"type\": \"histogram2d\"}], \"histogram2dcontour\": [{\"colorbar\": {\"outlinewidth\": 0, \"ticks\": \"\"}, \"colorscale\": [[0.0, \"#0d0887\"], [0.1111111111111111, \"#46039f\"], [0.2222222222222222, \"#7201a8\"], [0.3333333333333333, \"#9c179e\"], [0.4444444444444444, \"#bd3786\"], [0.5555555555555556, \"#d8576b\"], [0.6666666666666666, \"#ed7953\"], [0.7777777777777778, \"#fb9f3a\"], [0.8888888888888888, \"#fdca26\"], [1.0, \"#f0f921\"]], \"type\": \"histogram2dcontour\"}], \"mesh3d\": [{\"colorbar\": {\"outlinewidth\": 0, \"ticks\": \"\"}, \"type\": \"mesh3d\"}], \"parcoords\": [{\"line\": {\"colorbar\": {\"outlinewidth\": 0, \"ticks\": \"\"}}, \"type\": \"parcoords\"}], \"pie\": [{\"automargin\": true, \"type\": \"pie\"}], \"scatter\": [{\"marker\": {\"colorbar\": {\"outlinewidth\": 0, \"ticks\": \"\"}}, \"type\": \"scatter\"}], \"scatter3d\": [{\"line\": {\"colorbar\": {\"outlinewidth\": 0, \"ticks\": \"\"}}, \"marker\": {\"colorbar\": {\"outlinewidth\": 0, \"ticks\": \"\"}}, \"type\": \"scatter3d\"}], \"scattercarpet\": [{\"marker\": {\"colorbar\": {\"outlinewidth\": 0, \"ticks\": \"\"}}, \"type\": \"scattercarpet\"}], \"scattergeo\": [{\"marker\": {\"colorbar\": {\"outlinewidth\": 0, \"ticks\": \"\"}}, \"type\": \"scattergeo\"}], \"scattergl\": [{\"marker\": {\"colorbar\": {\"outlinewidth\": 0, \"ticks\": \"\"}}, \"type\": \"scattergl\"}], \"scattermapbox\": [{\"marker\": {\"colorbar\": {\"outlinewidth\": 0, \"ticks\": \"\"}}, \"type\": \"scattermapbox\"}], \"scatterpolar\": [{\"marker\": {\"colorbar\": {\"outlinewidth\": 0, \"ticks\": \"\"}}, \"type\": \"scatterpolar\"}], \"scatterpolargl\": [{\"marker\": {\"colorbar\": {\"outlinewidth\": 0, \"ticks\": \"\"}}, \"type\": \"scatterpolargl\"}], \"scatterternary\": [{\"marker\": {\"colorbar\": {\"outlinewidth\": 0, \"ticks\": \"\"}}, \"type\": \"scatterternary\"}], \"surface\": [{\"colorbar\": {\"outlinewidth\": 0, \"ticks\": \"\"}, \"colorscale\": [[0.0, \"#0d0887\"], [0.1111111111111111, \"#46039f\"], [0.2222222222222222, \"#7201a8\"], [0.3333333333333333, \"#9c179e\"], [0.4444444444444444, \"#bd3786\"], [0.5555555555555556, \"#d8576b\"], [0.6666666666666666, \"#ed7953\"], [0.7777777777777778, \"#fb9f3a\"], [0.8888888888888888, \"#fdca26\"], [1.0, \"#f0f921\"]], \"type\": \"surface\"}], \"table\": [{\"cells\": {\"fill\": {\"color\": \"#EBF0F8\"}, \"line\": {\"color\": \"white\"}}, \"header\": {\"fill\": {\"color\": \"#C8D4E3\"}, \"line\": {\"color\": \"white\"}}, \"type\": \"table\"}]}, \"layout\": {\"annotationdefaults\": {\"arrowcolor\": \"#2a3f5f\", \"arrowhead\": 0, \"arrowwidth\": 1}, \"coloraxis\": {\"colorbar\": {\"outlinewidth\": 0, \"ticks\": \"\"}}, \"colorscale\": {\"diverging\": [[0, \"#8e0152\"], [0.1, \"#c51b7d\"], [0.2, \"#de77ae\"], [0.3, \"#f1b6da\"], [0.4, \"#fde0ef\"], [0.5, \"#f7f7f7\"], [0.6, \"#e6f5d0\"], [0.7, \"#b8e186\"], [0.8, \"#7fbc41\"], [0.9, \"#4d9221\"], [1, \"#276419\"]], \"sequential\": [[0.0, \"#0d0887\"], [0.1111111111111111, \"#46039f\"], [0.2222222222222222, \"#7201a8\"], [0.3333333333333333, \"#9c179e\"], [0.4444444444444444, \"#bd3786\"], [0.5555555555555556, \"#d8576b\"], [0.6666666666666666, \"#ed7953\"], [0.7777777777777778, \"#fb9f3a\"], [0.8888888888888888, \"#fdca26\"], [1.0, \"#f0f921\"]], \"sequentialminus\": [[0.0, \"#0d0887\"], [0.1111111111111111, \"#46039f\"], [0.2222222222222222, \"#7201a8\"], [0.3333333333333333, \"#9c179e\"], [0.4444444444444444, \"#bd3786\"], [0.5555555555555556, \"#d8576b\"], [0.6666666666666666, \"#ed7953\"], [0.7777777777777778, \"#fb9f3a\"], [0.8888888888888888, \"#fdca26\"], [1.0, \"#f0f921\"]]}, \"colorway\": [\"#636efa\", \"#EF553B\", \"#00cc96\", \"#ab63fa\", \"#FFA15A\", \"#19d3f3\", \"#FF6692\", \"#B6E880\", \"#FF97FF\", \"#FECB52\"], \"font\": {\"color\": \"#2a3f5f\"}, \"geo\": {\"bgcolor\": \"white\", \"lakecolor\": \"white\", \"landcolor\": \"#E5ECF6\", \"showlakes\": true, \"showland\": true, \"subunitcolor\": \"white\"}, \"hoverlabel\": {\"align\": \"left\"}, \"hovermode\": \"closest\", \"mapbox\": {\"style\": \"light\"}, \"paper_bgcolor\": \"white\", \"plot_bgcolor\": \"#E5ECF6\", \"polar\": {\"angularaxis\": {\"gridcolor\": \"white\", \"linecolor\": \"white\", \"ticks\": \"\"}, \"bgcolor\": \"#E5ECF6\", \"radialaxis\": {\"gridcolor\": \"white\", \"linecolor\": \"white\", \"ticks\": \"\"}}, \"scene\": {\"xaxis\": {\"backgroundcolor\": \"#E5ECF6\", \"gridcolor\": \"white\", \"gridwidth\": 2, \"linecolor\": \"white\", \"showbackground\": true, \"ticks\": \"\", \"zerolinecolor\": \"white\"}, \"yaxis\": {\"backgroundcolor\": \"#E5ECF6\", \"gridcolor\": \"white\", \"gridwidth\": 2, \"linecolor\": \"white\", \"showbackground\": true, \"ticks\": \"\", \"zerolinecolor\": \"white\"}, \"zaxis\": {\"backgroundcolor\": \"#E5ECF6\", \"gridcolor\": \"white\", \"gridwidth\": 2, \"linecolor\": \"white\", \"showbackground\": true, \"ticks\": \"\", \"zerolinecolor\": \"white\"}}, \"shapedefaults\": {\"line\": {\"color\": \"#2a3f5f\"}}, \"ternary\": {\"aaxis\": {\"gridcolor\": \"white\", \"linecolor\": \"white\", \"ticks\": \"\"}, \"baxis\": {\"gridcolor\": \"white\", \"linecolor\": \"white\", \"ticks\": \"\"}, \"bgcolor\": \"#E5ECF6\", \"caxis\": {\"gridcolor\": \"white\", \"linecolor\": \"white\", \"ticks\": \"\"}}, \"title\": {\"x\": 0.05}, \"xaxis\": {\"automargin\": true, \"gridcolor\": \"white\", \"linecolor\": \"white\", \"ticks\": \"\", \"title\": {\"standoff\": 15}, \"zerolinecolor\": \"white\", \"zerolinewidth\": 2}, \"yaxis\": {\"automargin\": true, \"gridcolor\": \"white\", \"linecolor\": \"white\", \"ticks\": \"\", \"title\": {\"standoff\": 15}, \"zerolinecolor\": \"white\", \"zerolinewidth\": 2}}}, \"xaxis\": {\"anchor\": \"y\", \"domain\": [0.0, 1.0], \"title\": {\"text\": \"x\"}}, \"yaxis\": {\"anchor\": \"x\", \"domain\": [0.0, 1.0], \"title\": {\"text\": \"y\"}}},\n",
       "                        {\"responsive\": true}\n",
       "                    ).then(function(){\n",
       "                            \n",
       "var gd = document.getElementById('858dbb20-f9d3-4073-b996-66648495edf1');\n",
       "var x = new MutationObserver(function (mutations, observer) {{\n",
       "        var display = window.getComputedStyle(gd).display;\n",
       "        if (!display || display === 'none') {{\n",
       "            console.log([gd, 'removed!']);\n",
       "            Plotly.purge(gd);\n",
       "            observer.disconnect();\n",
       "        }}\n",
       "}});\n",
       "\n",
       "// Listen for the removal of the full notebook cells\n",
       "var notebookContainer = gd.closest('#notebook-container');\n",
       "if (notebookContainer) {{\n",
       "    x.observe(notebookContainer, {childList: true});\n",
       "}}\n",
       "\n",
       "// Listen for the clearing of the current output cell\n",
       "var outputEl = gd.closest('.output');\n",
       "if (outputEl) {{\n",
       "    x.observe(outputEl, {childList: true});\n",
       "}}\n",
       "\n",
       "                        })\n",
       "                };\n",
       "                });\n",
       "            </script>\n",
       "        </div>"
      ]
     },
     "metadata": {},
     "output_type": "display_data"
    }
   ],
   "source": [
    "reducer = umap.UMAP()\n",
    "embedding = reducer.fit_transform(pc_dists)\n",
    "px.scatter(x=embedding[:, 0], y=embedding[:, 1])\n",
    "# UMAP: https://umap-learn.readthedocs.io/en/latest/index.html\n",
    "# McInnes, L, Healy, J, UMAP: Uniform Manifold Approximation and Projection for Dimension Reduction, ArXiv e-prints 1802.03426, 2018"
   ]
  },
  {
   "cell_type": "code",
   "execution_count": 20,
   "metadata": {},
   "outputs": [
    {
     "data": {
      "text/html": [
       "<div>\n",
       "        \n",
       "        \n",
       "            <div id=\"7021424b-13b9-4047-af42-0654b915a1f5\" class=\"plotly-graph-div\" style=\"height:525px; width:100%;\"></div>\n",
       "            <script type=\"text/javascript\">\n",
       "                require([\"plotly\"], function(Plotly) {\n",
       "                    window.PLOTLYENV=window.PLOTLYENV || {};\n",
       "                    \n",
       "                if (document.getElementById(\"7021424b-13b9-4047-af42-0654b915a1f5\")) {\n",
       "                    Plotly.newPlot(\n",
       "                        '7021424b-13b9-4047-af42-0654b915a1f5',\n",
       "                        [{\"hovertemplate\": \"x=%{x}<br>y=%{y}<br>color=%{marker.color}<extra></extra>\", \"legendgroup\": \"\", \"marker\": {\"color\": [3, -1, 2, 5, 0, 1, -1, -1, 2, 3, 2, -1, -1, -1, 3, 1, -1, -1, 3, -1, 3, -1, -1, -1, -1, -1, -1, 1, 1, 2, 1, 0, 1, 1, -1, -1, 1, -1, -1, 1, 1, 2, 1, 3, -1, 2, 1, 0, 2, 0, -1, 4, 0, 3, -1, 1, 1, 4, -1, -1, -1, 2, 2, 5, 4, -1, 0, -1, 5, 1, 3, 3, -1, 5, 4, 1, -1, -1, -1, -1, 3, -1, -1, 1, 5, -1, 5, -1, -1, -1, 3, 1, 3, 3, 5, -1, 4, 2, -1, 1, -1, -1, 2, 3, 3, 3, 3, 1, 5, -1, -1, -1, 1, -1, 0, -1, 3, 4, 3, -1, 4, 3, -1, -1], \"coloraxis\": \"coloraxis\", \"symbol\": \"circle\"}, \"mode\": \"markers\", \"name\": \"\", \"orientation\": \"v\", \"showlegend\": false, \"type\": \"scatter\", \"x\": [20.427440643310547, 20.013469696044922, 17.418285369873047, 20.126375198364258, 18.622119903564453, 17.551729202270508, 16.929119110107422, 20.716032028198242, 17.228412628173828, 21.23650360107422, 16.65647315979004, 20.205385208129883, 20.88532066345215, 20.952150344848633, 20.881877899169922, 17.466779708862305, 17.874549865722656, 20.113018035888672, 20.76371192932129, 16.673973083496094, 20.714794158935547, 19.196943283081055, 16.845746994018555, 19.001741409301758, 19.97783851623535, 19.703466415405273, 17.81929588317871, 15.958017349243164, 17.53343391418457, 17.657371520996094, 17.088390350341797, 19.149139404296875, 16.684940338134766, 15.600409507751465, 18.639631271362305, 16.02876853942871, 17.197925567626953, 17.614667892456055, 19.291019439697266, 15.599209785461426, 15.721163749694824, 17.07129669189453, 15.816336631774902, 20.598651885986328, 16.20566749572754, 17.407541275024414, 17.36101722717285, 18.73029136657715, 16.775802612304688, 18.44915199279785, 17.46270751953125, 18.629302978515625, 18.233304977416992, 21.119298934936523, 20.39553451538086, 16.763301849365234, 15.688745498657227, 18.00941276550293, 18.821922302246094, 16.944501876831055, 18.935338973999023, 16.9299373626709, 17.49666404724121, 19.52666473388672, 19.067861557006836, 18.60233497619629, 19.45345687866211, 17.99192237854004, 20.091514587402344, 16.41985321044922, 19.762001037597656, 20.179567337036133, 18.32794761657715, 19.66807746887207, 18.818267822265625, 17.6635799407959, 19.77865219116211, 16.934104919433594, 18.48428726196289, 17.79300880432129, 20.005563735961914, 18.418014526367188, 17.477901458740234, 17.36810302734375, 20.11807632446289, 19.67609405517578, 19.853748321533203, 19.723007202148438, 19.41341209411621, 19.26983070373535, 19.761768341064453, 17.29465103149414, 20.189817428588867, 20.93828773498535, 19.789960861206055, 18.936656951904297, 19.128995895385742, 17.574657440185547, 16.348480224609375, 16.665470123291016, 17.889144897460938, 20.74502944946289, 17.021949768066406, 21.00973892211914, 21.23204231262207, 20.56778335571289, 20.922260284423828, 16.122167587280273, 20.10423469543457, 20.527807235717773, 19.899553298950195, 20.285472869873047, 16.04309844970703, 18.084888458251953, 18.659265518188477, 18.316165924072266, 21.131134033203125, 19.15007972717285, 20.907550811767578, 18.036731719970703, 18.314842224121094, 21.189586639404297, 19.5999698638916, 19.126523971557617], \"xaxis\": \"x\", \"y\": [5.909321308135986, 3.9412083625793457, 5.972200393676758, 7.41981315612793, 4.4085001945495605, 4.05163049697876, 3.534318685531616, 4.213615894317627, 5.685133457183838, 5.702828407287598, 6.058956146240234, 4.660463809967041, 4.517980575561523, 4.517017364501953, 5.836946487426758, 4.115932464599609, 4.065496444702148, 5.268504619598389, 5.549546718597412, 3.53338360786438, 5.090977668762207, 4.0360002517700195, 4.7738494873046875, 6.676402568817139, 4.993868827819824, 4.860650539398193, 3.3688290119171143, 3.932426691055298, 3.5782744884490967, 5.067154407501221, 4.1351318359375, 4.4073028564453125, 3.8426976203918457, 3.9787516593933105, 5.499996185302734, 4.678797721862793, 4.089082717895508, 6.895752906799316, 5.165844917297363, 3.9893791675567627, 4.088414669036865, 6.413608074188232, 4.421451568603516, 4.726440906524658, 4.76276159286499, 5.3465471267700195, 4.386577129364014, 4.082965850830078, 6.2550950050354, 4.614664554595947, 3.4963748455047607, 6.637815475463867, 4.377931118011475, 5.223936557769775, 6.798592567443848, 3.694643020629883, 4.102444648742676, 6.537403106689453, 4.799196720123291, 6.388001918792725, 7.268518447875977, 5.784756183624268, 5.57054328918457, 7.311201095581055, 7.157399654388428, 3.7745566368103027, 4.3794050216674805, 6.940650463104248, 7.230913162231445, 4.065830707550049, 6.0328803062438965, 6.150993824005127, 3.621741771697998, 7.072684288024902, 6.862429141998291, 3.67099666595459, 5.710224628448486, 5.559798240661621, 6.9105072021484375, 6.408647060394287, 6.531142711639404, 5.873966693878174, 4.715331554412842, 4.587242603302002, 7.264163494110107, 6.464756011962891, 7.260472774505615, 5.383992671966553, 5.8784966468811035, 4.226418495178223, 6.7481818199157715, 4.617480754852295, 5.748318672180176, 5.3327226638793945, 7.384457111358643, 5.9568681716918945, 7.123501777648926, 6.506524562835693, 5.12641716003418, 4.218868255615234, 5.421356678009033, 6.606806755065918, 6.231853008270264, 6.219516754150391, 6.107700347900391, 6.280300140380859, 6.066092491149902, 4.254203796386719, 7.394101619720459, 4.1199140548706055, 4.026149749755859, 4.287590980529785, 3.8465328216552734, 5.832129001617432, 4.247616767883301, 6.520751953125, 5.9441375732421875, 6.894301414489746, 4.927791595458984, 4.7729058265686035, 6.817915916442871, 5.866671562194824, 6.532495021820068, 5.153669357299805], \"yaxis\": \"y\"}],\n",
       "                        {\"coloraxis\": {\"colorbar\": {\"title\": {\"text\": \"color\"}}, \"colorscale\": [[0.0, \"#0d0887\"], [0.1111111111111111, \"#46039f\"], [0.2222222222222222, \"#7201a8\"], [0.3333333333333333, \"#9c179e\"], [0.4444444444444444, \"#bd3786\"], [0.5555555555555556, \"#d8576b\"], [0.6666666666666666, \"#ed7953\"], [0.7777777777777778, \"#fb9f3a\"], [0.8888888888888888, \"#fdca26\"], [1.0, \"#f0f921\"]]}, \"legend\": {\"tracegroupgap\": 0}, \"margin\": {\"t\": 60}, \"template\": {\"data\": {\"bar\": [{\"error_x\": {\"color\": \"#2a3f5f\"}, \"error_y\": {\"color\": \"#2a3f5f\"}, \"marker\": {\"line\": {\"color\": \"#E5ECF6\", \"width\": 0.5}}, \"type\": \"bar\"}], \"barpolar\": [{\"marker\": {\"line\": {\"color\": \"#E5ECF6\", \"width\": 0.5}}, \"type\": \"barpolar\"}], \"carpet\": [{\"aaxis\": {\"endlinecolor\": \"#2a3f5f\", \"gridcolor\": \"white\", \"linecolor\": \"white\", \"minorgridcolor\": \"white\", \"startlinecolor\": \"#2a3f5f\"}, \"baxis\": {\"endlinecolor\": \"#2a3f5f\", \"gridcolor\": \"white\", \"linecolor\": \"white\", \"minorgridcolor\": \"white\", \"startlinecolor\": \"#2a3f5f\"}, \"type\": \"carpet\"}], \"choropleth\": [{\"colorbar\": {\"outlinewidth\": 0, \"ticks\": \"\"}, \"type\": \"choropleth\"}], \"contour\": [{\"colorbar\": {\"outlinewidth\": 0, \"ticks\": \"\"}, \"colorscale\": [[0.0, \"#0d0887\"], [0.1111111111111111, \"#46039f\"], [0.2222222222222222, \"#7201a8\"], [0.3333333333333333, \"#9c179e\"], [0.4444444444444444, \"#bd3786\"], [0.5555555555555556, \"#d8576b\"], [0.6666666666666666, \"#ed7953\"], [0.7777777777777778, \"#fb9f3a\"], [0.8888888888888888, \"#fdca26\"], [1.0, \"#f0f921\"]], \"type\": \"contour\"}], \"contourcarpet\": [{\"colorbar\": {\"outlinewidth\": 0, \"ticks\": \"\"}, \"type\": \"contourcarpet\"}], \"heatmap\": [{\"colorbar\": {\"outlinewidth\": 0, \"ticks\": \"\"}, \"colorscale\": [[0.0, \"#0d0887\"], [0.1111111111111111, \"#46039f\"], [0.2222222222222222, \"#7201a8\"], [0.3333333333333333, \"#9c179e\"], [0.4444444444444444, \"#bd3786\"], [0.5555555555555556, \"#d8576b\"], [0.6666666666666666, \"#ed7953\"], [0.7777777777777778, \"#fb9f3a\"], [0.8888888888888888, \"#fdca26\"], [1.0, \"#f0f921\"]], \"type\": \"heatmap\"}], \"heatmapgl\": [{\"colorbar\": {\"outlinewidth\": 0, \"ticks\": \"\"}, \"colorscale\": [[0.0, \"#0d0887\"], [0.1111111111111111, \"#46039f\"], [0.2222222222222222, \"#7201a8\"], [0.3333333333333333, \"#9c179e\"], [0.4444444444444444, \"#bd3786\"], [0.5555555555555556, \"#d8576b\"], [0.6666666666666666, \"#ed7953\"], [0.7777777777777778, \"#fb9f3a\"], [0.8888888888888888, \"#fdca26\"], [1.0, \"#f0f921\"]], \"type\": \"heatmapgl\"}], \"histogram\": [{\"marker\": {\"colorbar\": {\"outlinewidth\": 0, \"ticks\": \"\"}}, \"type\": \"histogram\"}], \"histogram2d\": [{\"colorbar\": {\"outlinewidth\": 0, \"ticks\": \"\"}, \"colorscale\": [[0.0, \"#0d0887\"], [0.1111111111111111, \"#46039f\"], [0.2222222222222222, \"#7201a8\"], [0.3333333333333333, \"#9c179e\"], [0.4444444444444444, \"#bd3786\"], [0.5555555555555556, \"#d8576b\"], [0.6666666666666666, \"#ed7953\"], [0.7777777777777778, \"#fb9f3a\"], [0.8888888888888888, \"#fdca26\"], [1.0, \"#f0f921\"]], \"type\": \"histogram2d\"}], \"histogram2dcontour\": [{\"colorbar\": {\"outlinewidth\": 0, \"ticks\": \"\"}, \"colorscale\": [[0.0, \"#0d0887\"], [0.1111111111111111, \"#46039f\"], [0.2222222222222222, \"#7201a8\"], [0.3333333333333333, \"#9c179e\"], [0.4444444444444444, \"#bd3786\"], [0.5555555555555556, \"#d8576b\"], [0.6666666666666666, \"#ed7953\"], [0.7777777777777778, \"#fb9f3a\"], [0.8888888888888888, \"#fdca26\"], [1.0, \"#f0f921\"]], \"type\": \"histogram2dcontour\"}], \"mesh3d\": [{\"colorbar\": {\"outlinewidth\": 0, \"ticks\": \"\"}, \"type\": \"mesh3d\"}], \"parcoords\": [{\"line\": {\"colorbar\": {\"outlinewidth\": 0, \"ticks\": \"\"}}, \"type\": \"parcoords\"}], \"pie\": [{\"automargin\": true, \"type\": \"pie\"}], \"scatter\": [{\"marker\": {\"colorbar\": {\"outlinewidth\": 0, \"ticks\": \"\"}}, \"type\": \"scatter\"}], \"scatter3d\": [{\"line\": {\"colorbar\": {\"outlinewidth\": 0, \"ticks\": \"\"}}, \"marker\": {\"colorbar\": {\"outlinewidth\": 0, \"ticks\": \"\"}}, \"type\": \"scatter3d\"}], \"scattercarpet\": [{\"marker\": {\"colorbar\": {\"outlinewidth\": 0, \"ticks\": \"\"}}, \"type\": \"scattercarpet\"}], \"scattergeo\": [{\"marker\": {\"colorbar\": {\"outlinewidth\": 0, \"ticks\": \"\"}}, \"type\": \"scattergeo\"}], \"scattergl\": [{\"marker\": {\"colorbar\": {\"outlinewidth\": 0, \"ticks\": \"\"}}, \"type\": \"scattergl\"}], \"scattermapbox\": [{\"marker\": {\"colorbar\": {\"outlinewidth\": 0, \"ticks\": \"\"}}, \"type\": \"scattermapbox\"}], \"scatterpolar\": [{\"marker\": {\"colorbar\": {\"outlinewidth\": 0, \"ticks\": \"\"}}, \"type\": \"scatterpolar\"}], \"scatterpolargl\": [{\"marker\": {\"colorbar\": {\"outlinewidth\": 0, \"ticks\": \"\"}}, \"type\": \"scatterpolargl\"}], \"scatterternary\": [{\"marker\": {\"colorbar\": {\"outlinewidth\": 0, \"ticks\": \"\"}}, \"type\": \"scatterternary\"}], \"surface\": [{\"colorbar\": {\"outlinewidth\": 0, \"ticks\": \"\"}, \"colorscale\": [[0.0, \"#0d0887\"], [0.1111111111111111, \"#46039f\"], [0.2222222222222222, \"#7201a8\"], [0.3333333333333333, \"#9c179e\"], [0.4444444444444444, \"#bd3786\"], [0.5555555555555556, \"#d8576b\"], [0.6666666666666666, \"#ed7953\"], [0.7777777777777778, \"#fb9f3a\"], [0.8888888888888888, \"#fdca26\"], [1.0, \"#f0f921\"]], \"type\": \"surface\"}], \"table\": [{\"cells\": {\"fill\": {\"color\": \"#EBF0F8\"}, \"line\": {\"color\": \"white\"}}, \"header\": {\"fill\": {\"color\": \"#C8D4E3\"}, \"line\": {\"color\": \"white\"}}, \"type\": \"table\"}]}, \"layout\": {\"annotationdefaults\": {\"arrowcolor\": \"#2a3f5f\", \"arrowhead\": 0, \"arrowwidth\": 1}, \"coloraxis\": {\"colorbar\": {\"outlinewidth\": 0, \"ticks\": \"\"}}, \"colorscale\": {\"diverging\": [[0, \"#8e0152\"], [0.1, \"#c51b7d\"], [0.2, \"#de77ae\"], [0.3, \"#f1b6da\"], [0.4, \"#fde0ef\"], [0.5, \"#f7f7f7\"], [0.6, \"#e6f5d0\"], [0.7, \"#b8e186\"], [0.8, \"#7fbc41\"], [0.9, \"#4d9221\"], [1, \"#276419\"]], \"sequential\": [[0.0, \"#0d0887\"], [0.1111111111111111, \"#46039f\"], [0.2222222222222222, \"#7201a8\"], [0.3333333333333333, \"#9c179e\"], [0.4444444444444444, \"#bd3786\"], [0.5555555555555556, \"#d8576b\"], [0.6666666666666666, \"#ed7953\"], [0.7777777777777778, \"#fb9f3a\"], [0.8888888888888888, \"#fdca26\"], [1.0, \"#f0f921\"]], \"sequentialminus\": [[0.0, \"#0d0887\"], [0.1111111111111111, \"#46039f\"], [0.2222222222222222, \"#7201a8\"], [0.3333333333333333, \"#9c179e\"], [0.4444444444444444, \"#bd3786\"], [0.5555555555555556, \"#d8576b\"], [0.6666666666666666, \"#ed7953\"], [0.7777777777777778, \"#fb9f3a\"], [0.8888888888888888, \"#fdca26\"], [1.0, \"#f0f921\"]]}, \"colorway\": [\"#636efa\", \"#EF553B\", \"#00cc96\", \"#ab63fa\", \"#FFA15A\", \"#19d3f3\", \"#FF6692\", \"#B6E880\", \"#FF97FF\", \"#FECB52\"], \"font\": {\"color\": \"#2a3f5f\"}, \"geo\": {\"bgcolor\": \"white\", \"lakecolor\": \"white\", \"landcolor\": \"#E5ECF6\", \"showlakes\": true, \"showland\": true, \"subunitcolor\": \"white\"}, \"hoverlabel\": {\"align\": \"left\"}, \"hovermode\": \"closest\", \"mapbox\": {\"style\": \"light\"}, \"paper_bgcolor\": \"white\", \"plot_bgcolor\": \"#E5ECF6\", \"polar\": {\"angularaxis\": {\"gridcolor\": \"white\", \"linecolor\": \"white\", \"ticks\": \"\"}, \"bgcolor\": \"#E5ECF6\", \"radialaxis\": {\"gridcolor\": \"white\", \"linecolor\": \"white\", \"ticks\": \"\"}}, \"scene\": {\"xaxis\": {\"backgroundcolor\": \"#E5ECF6\", \"gridcolor\": \"white\", \"gridwidth\": 2, \"linecolor\": \"white\", \"showbackground\": true, \"ticks\": \"\", \"zerolinecolor\": \"white\"}, \"yaxis\": {\"backgroundcolor\": \"#E5ECF6\", \"gridcolor\": \"white\", \"gridwidth\": 2, \"linecolor\": \"white\", \"showbackground\": true, \"ticks\": \"\", \"zerolinecolor\": \"white\"}, \"zaxis\": {\"backgroundcolor\": \"#E5ECF6\", \"gridcolor\": \"white\", \"gridwidth\": 2, \"linecolor\": \"white\", \"showbackground\": true, \"ticks\": \"\", \"zerolinecolor\": \"white\"}}, \"shapedefaults\": {\"line\": {\"color\": \"#2a3f5f\"}}, \"ternary\": {\"aaxis\": {\"gridcolor\": \"white\", \"linecolor\": \"white\", \"ticks\": \"\"}, \"baxis\": {\"gridcolor\": \"white\", \"linecolor\": \"white\", \"ticks\": \"\"}, \"bgcolor\": \"#E5ECF6\", \"caxis\": {\"gridcolor\": \"white\", \"linecolor\": \"white\", \"ticks\": \"\"}}, \"title\": {\"x\": 0.05}, \"xaxis\": {\"automargin\": true, \"gridcolor\": \"white\", \"linecolor\": \"white\", \"ticks\": \"\", \"title\": {\"standoff\": 15}, \"zerolinecolor\": \"white\", \"zerolinewidth\": 2}, \"yaxis\": {\"automargin\": true, \"gridcolor\": \"white\", \"linecolor\": \"white\", \"ticks\": \"\", \"title\": {\"standoff\": 15}, \"zerolinecolor\": \"white\", \"zerolinewidth\": 2}}}, \"xaxis\": {\"anchor\": \"y\", \"domain\": [0.0, 1.0], \"title\": {\"text\": \"x\"}}, \"yaxis\": {\"anchor\": \"x\", \"domain\": [0.0, 1.0], \"title\": {\"text\": \"y\"}}},\n",
       "                        {\"responsive\": true}\n",
       "                    ).then(function(){\n",
       "                            \n",
       "var gd = document.getElementById('7021424b-13b9-4047-af42-0654b915a1f5');\n",
       "var x = new MutationObserver(function (mutations, observer) {{\n",
       "        var display = window.getComputedStyle(gd).display;\n",
       "        if (!display || display === 'none') {{\n",
       "            console.log([gd, 'removed!']);\n",
       "            Plotly.purge(gd);\n",
       "            observer.disconnect();\n",
       "        }}\n",
       "}});\n",
       "\n",
       "// Listen for the removal of the full notebook cells\n",
       "var notebookContainer = gd.closest('#notebook-container');\n",
       "if (notebookContainer) {{\n",
       "    x.observe(notebookContainer, {childList: true});\n",
       "}}\n",
       "\n",
       "// Listen for the clearing of the current output cell\n",
       "var outputEl = gd.closest('.output');\n",
       "if (outputEl) {{\n",
       "    x.observe(outputEl, {childList: true});\n",
       "}}\n",
       "\n",
       "                        })\n",
       "                };\n",
       "                });\n",
       "            </script>\n",
       "        </div>"
      ]
     },
     "metadata": {},
     "output_type": "display_data"
    }
   ],
   "source": [
    "hdbscan_labels = hdbscan.HDBSCAN().fit_predict(embedding)\n",
    "px.scatter(x=embedding[:, 0], y=embedding[:, 1], color=hdbscan_labels)\n",
    "# hdbscan: https://hdbscan.readthedocs.io/en/latest/index.html"
   ]
  },
  {
   "cell_type": "code",
   "execution_count": 21,
   "metadata": {},
   "outputs": [
    {
     "data": {
      "text/html": [
       "<div>\n",
       "        \n",
       "        \n",
       "            <div id=\"8e5ab34e-785a-4507-b69f-c8d1ff50ca72\" class=\"plotly-graph-div\" style=\"height:600px; width:800px;\"></div>\n",
       "            <script type=\"text/javascript\">\n",
       "                require([\"plotly\"], function(Plotly) {\n",
       "                    window.PLOTLYENV=window.PLOTLYENV || {};\n",
       "                    \n",
       "                if (document.getElementById(\"8e5ab34e-785a-4507-b69f-c8d1ff50ca72\")) {\n",
       "                    Plotly.newPlot(\n",
       "                        '8e5ab34e-785a-4507-b69f-c8d1ff50ca72',\n",
       "                        [{\"hovertemplate\": \"x=%{x}<br>y=%{y}<br>z=%{z}<br>color=%{marker.color}<extra></extra>\", \"legendgroup\": \"\", \"marker\": {\"color\": [1, -1, 0, 1, -1, 3, 3, 1, 0, 1, 0, -1, 1, 1, 1, 3, -1, 1, 1, 3, 1, 2, 3, 1, 1, -1, 3, 4, -1, -1, 3, 2, 3, 4, -1, -1, 3, -1, -1, 4, 4, 0, 4, 1, -1, -1, 3, 2, 0, 2, 3, 1, -1, 1, 1, 3, 4, -1, 2, 0, 1, 0, 0, 1, 1, 2, -1, 1, 1, 3, -1, 1, -1, 1, 1, 3, -1, 0, 1, 0, 1, -1, -1, 3, 1, 1, 1, 1, 1, 2, 1, 3, 1, 1, 1, -1, 1, -1, -1, -1, -1, 1, 0, 1, 1, 1, 1, 4, 1, 1, -1, 1, 4, -1, 2, -1, 1, 1, 1, 2, 1, 1, 1, -1], \"coloraxis\": \"coloraxis\", \"symbol\": \"circle\"}, \"mode\": \"markers\", \"name\": \"\", \"scene\": \"scene\", \"showlegend\": false, \"type\": \"scatter3d\", \"x\": [5.320807456970215, 6.888721942901611, 7.422751426696777, 6.86630392074585, 6.527116775512695, 8.636259078979492, 8.911977767944336, 6.379330635070801, 7.78826379776001, 5.181975364685059, 8.458406448364258, 6.82099723815918, 6.266604423522949, 6.140890121459961, 5.286890029907227, 8.598564147949219, 8.227635383605957, 5.84844446182251, 5.753979682922363, 8.90568733215332, 5.6325764656066895, 7.1200995445251465, 8.622477531433105, 6.745465278625488, 5.956005096435547, 6.12346076965332, 8.365789413452148, 9.156133651733398, 8.519624710083008, 7.6372294425964355, 8.641960144042969, 7.454400062561035, 8.894566535949707, 9.347308158874512, 7.113483428955078, 8.628827095031738, 8.349318504333496, 7.584577560424805, 6.689301490783691, 9.3624906539917, 9.320601463317871, 8.355401992797852, 9.064009666442871, 6.483942031860352, 8.652376174926758, 7.948738098144531, 8.41334056854248, 7.302422523498535, 8.527252197265625, 6.756011962890625, 8.519912719726562, 7.1821441650390625, 7.222795009613037, 5.668565273284912, 6.055079460144043, 9.068048477172852, 9.093865394592285, 8.072198867797852, 7.031791687011719, 8.281970024108887, 6.903043270111084, 7.952555179595947, 7.8241143226623535, 6.6403117179870605, 7.194732666015625, 7.93516731262207, 7.2905426025390625, 7.211439609527588, 6.820821762084961, 9.177297592163086, 5.827455043792725, 5.486359119415283, 7.661055564880371, 6.5459980964660645, 6.926392555236816, 8.39289379119873, 5.629353046417236, 8.233566284179688, 7.1413702964782715, 8.103179931640625, 5.903520107269287, 6.777429580688477, 8.121152877807617, 8.405597686767578, 7.016486644744873, 6.108065605163574, 6.885915279388428, 5.796306610107422, 5.981634140014648, 7.372767448425293, 6.229578495025635, 8.077609062194824, 5.584527969360352, 5.529964923858643, 7.163938999176025, 6.328572750091553, 6.710211277008057, 8.39982795715332, 8.444406509399414, 9.132737159729004, 7.109785079956055, 5.659395217895508, 8.055486679077148, 5.542051315307617, 5.013071537017822, 6.048887252807617, 4.9640421867370605, 8.990450859069824, 6.951237678527832, 6.645452499389648, 6.74542236328125, 6.379082202911377, 9.167844772338867, 7.102753162384033, 6.971357345581055, 7.707093238830566, 5.069792747497559, 6.680254936218262, 5.808882236480713, 7.485611915588379, 7.390235900878906, 5.135631084442139, 6.199186325073242, 6.81141471862793], \"y\": [9.292872428894043, 10.355223655700684, 8.116314888000488, 8.083157539367676, 10.224114418029785, 9.767167091369629, 10.33419132232666, 10.187572479248047, 8.379779815673828, 8.975964546203613, 8.278977394104004, 9.60061264038086, 9.996770858764648, 9.863697052001953, 8.600049018859863, 9.645186424255371, 9.508501052856445, 9.700225830078125, 9.198179244995117, 10.218809127807617, 9.772721290588379, 9.986058235168457, 9.443143844604492, 8.006025314331055, 9.977668762207031, 9.979141235351562, 10.436494827270508, 10.334915161132812, 10.296401023864746, 9.327746391296387, 9.960671424865723, 9.456001281738281, 10.390036582946777, 10.22861099243164, 8.58812141418457, 9.54607105255127, 10.119933128356934, 7.679374694824219, 8.994524002075195, 10.27258014678955, 10.225441932678223, 7.980749130249023, 9.956559181213379, 9.626550674438477, 9.444504737854004, 8.686272621154785, 9.611903190612793, 9.945344924926758, 8.246723175048828, 10.072080612182617, 10.316302299499512, 7.893157958984375, 10.257563591003418, 9.39371395111084, 8.496222496032715, 10.354656219482422, 10.065020561218262, 8.087233543395996, 9.524333953857422, 7.890875339508057, 7.591631889343262, 8.369248390197754, 8.577608108520508, 7.791283130645752, 8.05390739440918, 10.140530586242676, 9.915779113769531, 7.709353923797607, 8.123330116271973, 9.778240203857422, 8.452998161315918, 9.124690055847168, 10.348142623901367, 8.077898025512695, 7.637608528137207, 10.100053787231445, 8.719196319580078, 8.660078048706055, 7.902528762817383, 8.187662124633789, 8.63680648803711, 8.436089515686035, 9.447429656982422, 9.374435424804688, 8.147706985473633, 8.228744506835938, 8.457839965820312, 9.692815780639648, 9.304438591003418, 9.728515625, 8.079852104187012, 9.614200592041016, 9.485311508178711, 9.3884916305542, 7.9208784103393555, 8.36726188659668, 7.762424945831299, 8.18256664276123, 9.10808277130127, 9.732255935668945, 8.659534454345703, 8.60290241241455, 7.994017601013184, 8.719629287719727, 8.945292472839355, 9.087896347045898, 8.728586196899414, 9.861865043640137, 8.284443855285645, 10.279895782470703, 10.264979362487793, 10.159244537353516, 10.159387588500977, 8.414933204650879, 10.0260009765625, 8.151000022888184, 8.973382949829102, 7.879126071929932, 9.856541633605957, 9.458893775939941, 7.750916481018066, 8.814053535461426, 8.289088249206543, 9.32120132446289], \"z\": [8.835689544677734, 8.726097106933594, 6.762698173522949, 9.596272468566895, 7.46650505065918, 7.649991512298584, 7.184802055358887, 9.312602043151855, 6.566153049468994, 9.266265869140625, 6.99619197845459, 9.184727668762207, 9.451343536376953, 9.466546058654785, 8.968547821044922, 7.717597484588623, 8.0780611038208, 8.405118942260742, 9.360722541809082, 6.908784866333008, 9.075398445129395, 8.011781692504883, 6.603571891784668, 7.969030380249023, 8.440052032470703, 8.150551795959473, 7.1940436363220215, 5.867884635925293, 8.005029678344727, 6.755694389343262, 7.1111249923706055, 8.0921630859375, 6.909743309020996, 5.7230939865112305, 7.779025077819824, 5.832943916320801, 7.410480499267578, 7.198902130126953, 7.878664970397949, 5.78502893447876, 5.6217241287231445, 7.252416133880615, 5.768737316131592, 9.326539039611816, 6.056254863739014, 7.212979316711426, 7.38361120223999, 7.388960838317871, 7.183514595031738, 7.246511936187744, 6.857125759124756, 7.69807767868042, 7.0783257484436035, 9.512541770935059, 9.354935646057129, 7.00061559677124, 5.79078483581543, 7.958523273468018, 7.466888904571533, 7.049098491668701, 8.109339714050293, 6.496444225311279, 7.070207595825195, 8.78402328491211, 8.719216346740723, 7.999785423278809, 8.289067268371582, 7.302338600158691, 9.383903503417969, 6.577893257141113, 8.236961364746094, 8.617568969726562, 7.464416980743408, 9.219873428344727, 7.871528148651123, 7.940692901611328, 8.021166801452637, 6.598154067993164, 8.06851863861084, 7.554270267486572, 8.780402183532715, 7.190616130828857, 7.027339935302734, 7.197784900665283, 9.46030330657959, 8.459564208984375, 9.087971687316895, 8.075663566589355, 8.201151847839355, 7.942807197570801, 8.914701461791992, 6.885069847106934, 8.435813903808594, 9.166548728942871, 9.302849769592285, 7.497692108154297, 8.51948070526123, 7.78346586227417, 6.087944030761719, 6.791329860687256, 6.94094181060791, 9.423914909362793, 6.874880313873291, 9.35234546661377, 8.832266807556152, 9.225555419921875, 8.778217315673828, 6.126442909240723, 9.229764938354492, 9.037178993225098, 8.611181259155273, 8.785966873168945, 6.145914077758789, 7.137342929840088, 7.426385879516602, 8.316265106201172, 9.144074440002441, 8.406686782836914, 9.423961639404297, 7.3969244956970215, 7.954944133758545, 9.132396697998047, 8.74069595336914, 8.013120651245117]}],\n",
       "                        {\"coloraxis\": {\"colorbar\": {\"title\": {\"text\": \"color\"}}, \"colorscale\": [[0.0, \"#0d0887\"], [0.1111111111111111, \"#46039f\"], [0.2222222222222222, \"#7201a8\"], [0.3333333333333333, \"#9c179e\"], [0.4444444444444444, \"#bd3786\"], [0.5555555555555556, \"#d8576b\"], [0.6666666666666666, \"#ed7953\"], [0.7777777777777778, \"#fb9f3a\"], [0.8888888888888888, \"#fdca26\"], [1.0, \"#f0f921\"]]}, \"height\": 600, \"legend\": {\"tracegroupgap\": 0}, \"margin\": {\"t\": 60}, \"scene\": {\"domain\": {\"x\": [0.0, 1.0], \"y\": [0.0, 1.0]}, \"xaxis\": {\"title\": {\"text\": \"x\"}}, \"yaxis\": {\"title\": {\"text\": \"y\"}}, \"zaxis\": {\"title\": {\"text\": \"z\"}}}, \"template\": {\"data\": {\"bar\": [{\"error_x\": {\"color\": \"#2a3f5f\"}, \"error_y\": {\"color\": \"#2a3f5f\"}, \"marker\": {\"line\": {\"color\": \"#E5ECF6\", \"width\": 0.5}}, \"type\": \"bar\"}], \"barpolar\": [{\"marker\": {\"line\": {\"color\": \"#E5ECF6\", \"width\": 0.5}}, \"type\": \"barpolar\"}], \"carpet\": [{\"aaxis\": {\"endlinecolor\": \"#2a3f5f\", \"gridcolor\": \"white\", \"linecolor\": \"white\", \"minorgridcolor\": \"white\", \"startlinecolor\": \"#2a3f5f\"}, \"baxis\": {\"endlinecolor\": \"#2a3f5f\", \"gridcolor\": \"white\", \"linecolor\": \"white\", \"minorgridcolor\": \"white\", \"startlinecolor\": \"#2a3f5f\"}, \"type\": \"carpet\"}], \"choropleth\": [{\"colorbar\": {\"outlinewidth\": 0, \"ticks\": \"\"}, \"type\": \"choropleth\"}], \"contour\": [{\"colorbar\": {\"outlinewidth\": 0, \"ticks\": \"\"}, \"colorscale\": [[0.0, \"#0d0887\"], [0.1111111111111111, \"#46039f\"], [0.2222222222222222, \"#7201a8\"], [0.3333333333333333, \"#9c179e\"], [0.4444444444444444, \"#bd3786\"], [0.5555555555555556, \"#d8576b\"], [0.6666666666666666, \"#ed7953\"], [0.7777777777777778, \"#fb9f3a\"], [0.8888888888888888, \"#fdca26\"], [1.0, \"#f0f921\"]], \"type\": \"contour\"}], \"contourcarpet\": [{\"colorbar\": {\"outlinewidth\": 0, \"ticks\": \"\"}, \"type\": \"contourcarpet\"}], \"heatmap\": [{\"colorbar\": {\"outlinewidth\": 0, \"ticks\": \"\"}, \"colorscale\": [[0.0, \"#0d0887\"], [0.1111111111111111, \"#46039f\"], [0.2222222222222222, \"#7201a8\"], [0.3333333333333333, \"#9c179e\"], [0.4444444444444444, \"#bd3786\"], [0.5555555555555556, \"#d8576b\"], [0.6666666666666666, \"#ed7953\"], [0.7777777777777778, \"#fb9f3a\"], [0.8888888888888888, \"#fdca26\"], [1.0, \"#f0f921\"]], \"type\": \"heatmap\"}], \"heatmapgl\": [{\"colorbar\": {\"outlinewidth\": 0, \"ticks\": \"\"}, \"colorscale\": [[0.0, \"#0d0887\"], [0.1111111111111111, \"#46039f\"], [0.2222222222222222, \"#7201a8\"], [0.3333333333333333, \"#9c179e\"], [0.4444444444444444, \"#bd3786\"], [0.5555555555555556, \"#d8576b\"], [0.6666666666666666, \"#ed7953\"], [0.7777777777777778, \"#fb9f3a\"], [0.8888888888888888, \"#fdca26\"], [1.0, \"#f0f921\"]], \"type\": \"heatmapgl\"}], \"histogram\": [{\"marker\": {\"colorbar\": {\"outlinewidth\": 0, \"ticks\": \"\"}}, \"type\": \"histogram\"}], \"histogram2d\": [{\"colorbar\": {\"outlinewidth\": 0, \"ticks\": \"\"}, \"colorscale\": [[0.0, \"#0d0887\"], [0.1111111111111111, \"#46039f\"], [0.2222222222222222, \"#7201a8\"], [0.3333333333333333, \"#9c179e\"], [0.4444444444444444, \"#bd3786\"], [0.5555555555555556, \"#d8576b\"], [0.6666666666666666, \"#ed7953\"], [0.7777777777777778, \"#fb9f3a\"], [0.8888888888888888, \"#fdca26\"], [1.0, \"#f0f921\"]], \"type\": \"histogram2d\"}], \"histogram2dcontour\": [{\"colorbar\": {\"outlinewidth\": 0, \"ticks\": \"\"}, \"colorscale\": [[0.0, \"#0d0887\"], [0.1111111111111111, \"#46039f\"], [0.2222222222222222, \"#7201a8\"], [0.3333333333333333, \"#9c179e\"], [0.4444444444444444, \"#bd3786\"], [0.5555555555555556, \"#d8576b\"], [0.6666666666666666, \"#ed7953\"], [0.7777777777777778, \"#fb9f3a\"], [0.8888888888888888, \"#fdca26\"], [1.0, \"#f0f921\"]], \"type\": \"histogram2dcontour\"}], \"mesh3d\": [{\"colorbar\": {\"outlinewidth\": 0, \"ticks\": \"\"}, \"type\": \"mesh3d\"}], \"parcoords\": [{\"line\": {\"colorbar\": {\"outlinewidth\": 0, \"ticks\": \"\"}}, \"type\": \"parcoords\"}], \"pie\": [{\"automargin\": true, \"type\": \"pie\"}], \"scatter\": [{\"marker\": {\"colorbar\": {\"outlinewidth\": 0, \"ticks\": \"\"}}, \"type\": \"scatter\"}], \"scatter3d\": [{\"line\": {\"colorbar\": {\"outlinewidth\": 0, \"ticks\": \"\"}}, \"marker\": {\"colorbar\": {\"outlinewidth\": 0, \"ticks\": \"\"}}, \"type\": \"scatter3d\"}], \"scattercarpet\": [{\"marker\": {\"colorbar\": {\"outlinewidth\": 0, \"ticks\": \"\"}}, \"type\": \"scattercarpet\"}], \"scattergeo\": [{\"marker\": {\"colorbar\": {\"outlinewidth\": 0, \"ticks\": \"\"}}, \"type\": \"scattergeo\"}], \"scattergl\": [{\"marker\": {\"colorbar\": {\"outlinewidth\": 0, \"ticks\": \"\"}}, \"type\": \"scattergl\"}], \"scattermapbox\": [{\"marker\": {\"colorbar\": {\"outlinewidth\": 0, \"ticks\": \"\"}}, \"type\": \"scattermapbox\"}], \"scatterpolar\": [{\"marker\": {\"colorbar\": {\"outlinewidth\": 0, \"ticks\": \"\"}}, \"type\": \"scatterpolar\"}], \"scatterpolargl\": [{\"marker\": {\"colorbar\": {\"outlinewidth\": 0, \"ticks\": \"\"}}, \"type\": \"scatterpolargl\"}], \"scatterternary\": [{\"marker\": {\"colorbar\": {\"outlinewidth\": 0, \"ticks\": \"\"}}, \"type\": \"scatterternary\"}], \"surface\": [{\"colorbar\": {\"outlinewidth\": 0, \"ticks\": \"\"}, \"colorscale\": [[0.0, \"#0d0887\"], [0.1111111111111111, \"#46039f\"], [0.2222222222222222, \"#7201a8\"], [0.3333333333333333, \"#9c179e\"], [0.4444444444444444, \"#bd3786\"], [0.5555555555555556, \"#d8576b\"], [0.6666666666666666, \"#ed7953\"], [0.7777777777777778, \"#fb9f3a\"], [0.8888888888888888, \"#fdca26\"], [1.0, \"#f0f921\"]], \"type\": \"surface\"}], \"table\": [{\"cells\": {\"fill\": {\"color\": \"#EBF0F8\"}, \"line\": {\"color\": \"white\"}}, \"header\": {\"fill\": {\"color\": \"#C8D4E3\"}, \"line\": {\"color\": \"white\"}}, \"type\": \"table\"}]}, \"layout\": {\"annotationdefaults\": {\"arrowcolor\": \"#2a3f5f\", \"arrowhead\": 0, \"arrowwidth\": 1}, \"coloraxis\": {\"colorbar\": {\"outlinewidth\": 0, \"ticks\": \"\"}}, \"colorscale\": {\"diverging\": [[0, \"#8e0152\"], [0.1, \"#c51b7d\"], [0.2, \"#de77ae\"], [0.3, \"#f1b6da\"], [0.4, \"#fde0ef\"], [0.5, \"#f7f7f7\"], [0.6, \"#e6f5d0\"], [0.7, \"#b8e186\"], [0.8, \"#7fbc41\"], [0.9, \"#4d9221\"], [1, \"#276419\"]], \"sequential\": [[0.0, \"#0d0887\"], [0.1111111111111111, \"#46039f\"], [0.2222222222222222, \"#7201a8\"], [0.3333333333333333, \"#9c179e\"], [0.4444444444444444, \"#bd3786\"], [0.5555555555555556, \"#d8576b\"], [0.6666666666666666, \"#ed7953\"], [0.7777777777777778, \"#fb9f3a\"], [0.8888888888888888, \"#fdca26\"], [1.0, \"#f0f921\"]], \"sequentialminus\": [[0.0, \"#0d0887\"], [0.1111111111111111, \"#46039f\"], [0.2222222222222222, \"#7201a8\"], [0.3333333333333333, \"#9c179e\"], [0.4444444444444444, \"#bd3786\"], [0.5555555555555556, \"#d8576b\"], [0.6666666666666666, \"#ed7953\"], [0.7777777777777778, \"#fb9f3a\"], [0.8888888888888888, \"#fdca26\"], [1.0, \"#f0f921\"]]}, \"colorway\": [\"#636efa\", \"#EF553B\", \"#00cc96\", \"#ab63fa\", \"#FFA15A\", \"#19d3f3\", \"#FF6692\", \"#B6E880\", \"#FF97FF\", \"#FECB52\"], \"font\": {\"color\": \"#2a3f5f\"}, \"geo\": {\"bgcolor\": \"white\", \"lakecolor\": \"white\", \"landcolor\": \"#E5ECF6\", \"showlakes\": true, \"showland\": true, \"subunitcolor\": \"white\"}, \"hoverlabel\": {\"align\": \"left\"}, \"hovermode\": \"closest\", \"mapbox\": {\"style\": \"light\"}, \"paper_bgcolor\": \"white\", \"plot_bgcolor\": \"#E5ECF6\", \"polar\": {\"angularaxis\": {\"gridcolor\": \"white\", \"linecolor\": \"white\", \"ticks\": \"\"}, \"bgcolor\": \"#E5ECF6\", \"radialaxis\": {\"gridcolor\": \"white\", \"linecolor\": \"white\", \"ticks\": \"\"}}, \"scene\": {\"xaxis\": {\"backgroundcolor\": \"#E5ECF6\", \"gridcolor\": \"white\", \"gridwidth\": 2, \"linecolor\": \"white\", \"showbackground\": true, \"ticks\": \"\", \"zerolinecolor\": \"white\"}, \"yaxis\": {\"backgroundcolor\": \"#E5ECF6\", \"gridcolor\": \"white\", \"gridwidth\": 2, \"linecolor\": \"white\", \"showbackground\": true, \"ticks\": \"\", \"zerolinecolor\": \"white\"}, \"zaxis\": {\"backgroundcolor\": \"#E5ECF6\", \"gridcolor\": \"white\", \"gridwidth\": 2, \"linecolor\": \"white\", \"showbackground\": true, \"ticks\": \"\", \"zerolinecolor\": \"white\"}}, \"shapedefaults\": {\"line\": {\"color\": \"#2a3f5f\"}}, \"ternary\": {\"aaxis\": {\"gridcolor\": \"white\", \"linecolor\": \"white\", \"ticks\": \"\"}, \"baxis\": {\"gridcolor\": \"white\", \"linecolor\": \"white\", \"ticks\": \"\"}, \"bgcolor\": \"#E5ECF6\", \"caxis\": {\"gridcolor\": \"white\", \"linecolor\": \"white\", \"ticks\": \"\"}}, \"title\": {\"x\": 0.05}, \"xaxis\": {\"automargin\": true, \"gridcolor\": \"white\", \"linecolor\": \"white\", \"ticks\": \"\", \"title\": {\"standoff\": 15}, \"zerolinecolor\": \"white\", \"zerolinewidth\": 2}, \"yaxis\": {\"automargin\": true, \"gridcolor\": \"white\", \"linecolor\": \"white\", \"ticks\": \"\", \"title\": {\"standoff\": 15}, \"zerolinecolor\": \"white\", \"zerolinewidth\": 2}}}, \"width\": 800},\n",
       "                        {\"responsive\": true}\n",
       "                    ).then(function(){\n",
       "                            \n",
       "var gd = document.getElementById('8e5ab34e-785a-4507-b69f-c8d1ff50ca72');\n",
       "var x = new MutationObserver(function (mutations, observer) {{\n",
       "        var display = window.getComputedStyle(gd).display;\n",
       "        if (!display || display === 'none') {{\n",
       "            console.log([gd, 'removed!']);\n",
       "            Plotly.purge(gd);\n",
       "            observer.disconnect();\n",
       "        }}\n",
       "}});\n",
       "\n",
       "// Listen for the removal of the full notebook cells\n",
       "var notebookContainer = gd.closest('#notebook-container');\n",
       "if (notebookContainer) {{\n",
       "    x.observe(notebookContainer, {childList: true});\n",
       "}}\n",
       "\n",
       "// Listen for the clearing of the current output cell\n",
       "var outputEl = gd.closest('.output');\n",
       "if (outputEl) {{\n",
       "    x.observe(outputEl, {childList: true});\n",
       "}}\n",
       "\n",
       "                        })\n",
       "                };\n",
       "                });\n",
       "            </script>\n",
       "        </div>"
      ]
     },
     "metadata": {},
     "output_type": "display_data"
    }
   ],
   "source": [
    "reducer = umap.UMAP(n_components=3)\n",
    "embedding = reducer.fit_transform(pc_dists)\n",
    "hdbscan_labels = hdbscan.HDBSCAN().fit_predict(embedding)\n",
    "fig = px.scatter_3d(x=embedding[:, 0], y=embedding[:, 1], z=embedding[:, 2], color=hdbscan_labels, width=800, height=600)\n",
    "fig.show()"
   ]
  },
  {
   "cell_type": "markdown",
   "metadata": {},
   "source": [
    "### Future code adding in weights.. Please ignore this..\n",
    "If weights are urgently needed, please open a github issue"
   ]
  },
  {
   "cell_type": "code",
   "execution_count": null,
   "metadata": {},
   "outputs": [],
   "source": [
    "# Code originally used to generate and save random weights. Saved and static now to feed into R and compare with lostruct R\n",
    "#weights = np.random.random_sample(len(samples))\n",
    "#np.savetxt(\"random_weights.txt\", weights, delimiter=\"\\t\")\n",
    "#weights = np.loadtxt(\"random_weights.txt\", delimiter=\"\\t\")\n",
    "#weights"
   ]
  },
  {
   "cell_type": "code",
   "execution_count": null,
   "metadata": {},
   "outputs": [],
   "source": [
    "result = list()\n",
    "for x in windows:\n",
    "    result.append(ls.eigen_windows(x, 10, weights))\n",
    "result = np.vstack(result)\n",
    "pc_dists = ls.get_pc_dists(result)\n",
    "mds = pcoa(pc_dists)\n",
    "mds_likelostructr = mds\n",
    "mds_coords = pd.read_csv(\"lostruct-results/mds_coords.csv\")\n",
    "print(\"Weights compared to unweighted Lostruct R:\")\n",
    "print(np.corrcoef(mds.samples['PC1'], mds_coords['MDS1'].to_numpy()))"
   ]
  },
  {
   "cell_type": "code",
   "execution_count": null,
   "metadata": {},
   "outputs": [],
   "source": []
  }
 ],
 "metadata": {
  "kernelspec": {
   "display_name": "Python 3",
   "language": "python",
   "name": "python3"
  },
  "language_info": {
   "codemirror_mode": {
    "name": "ipython",
    "version": 3
   },
   "file_extension": ".py",
   "mimetype": "text/x-python",
   "name": "python",
   "nbconvert_exporter": "python",
   "pygments_lexer": "ipython3",
   "version": "3.8.3"
  }
 },
 "nbformat": 4,
 "nbformat_minor": 4
}
